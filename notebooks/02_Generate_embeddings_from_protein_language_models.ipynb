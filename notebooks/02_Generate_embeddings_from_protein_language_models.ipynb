{
 "cells": [
  {
   "cell_type": "code",
   "execution_count": 1,
   "id": "8924a6d9",
   "metadata": {
    "ExecuteTime": {
     "end_time": "2022-10-14T19:12:57.498793Z",
     "start_time": "2022-10-14T19:12:56.994314Z"
    }
   },
   "outputs": [
    {
     "name": "stdout",
     "output_type": "stream",
     "text": [
      "/home/gama/bla_analysis/notebooks\r\n"
     ]
    }
   ],
   "source": [
    "#  conda activate bioem2\n",
    "\n",
    "# manipulation\n",
    "import pandas as pd\n",
    "import numpy as np\n",
    "import pickle\n",
    "from Bio import SeqIO\n",
    "import time \n",
    "import torch\n",
    "import os\n",
    "\n",
    "# in tim lab12-IBt\n",
    "! pwd"
   ]
  },
  {
   "cell_type": "markdown",
   "id": "0921ba2c",
   "metadata": {},
   "source": [
    "This notebook shows how to generate embeddings of the protein seqs with protein language models"
   ]
  },
  {
   "cell_type": "markdown",
   "id": "021b2315",
   "metadata": {
    "heading_collapsed": true
   },
   "source": [
    "# load data "
   ]
  },
  {
   "cell_type": "code",
   "execution_count": 2,
   "id": "397d6803",
   "metadata": {
    "ExecuteTime": {
     "end_time": "2022-10-14T19:12:59.008205Z",
     "start_time": "2022-10-14T19:12:58.786660Z"
    },
    "hidden": true
   },
   "outputs": [
    {
     "data": {
      "text/html": [
       "<div>\n",
       "<style scoped>\n",
       "    .dataframe tbody tr th:only-of-type {\n",
       "        vertical-align: middle;\n",
       "    }\n",
       "\n",
       "    .dataframe tbody tr th {\n",
       "        vertical-align: top;\n",
       "    }\n",
       "\n",
       "    .dataframe thead th {\n",
       "        text-align: right;\n",
       "    }\n",
       "</style>\n",
       "<table border=\"1\" class=\"dataframe\">\n",
       "  <thead>\n",
       "    <tr style=\"text-align: right;\">\n",
       "      <th></th>\n",
       "      <th>seq_id</th>\n",
       "      <th>seq</th>\n",
       "    </tr>\n",
       "  </thead>\n",
       "  <tbody>\n",
       "    <tr>\n",
       "      <th>0</th>\n",
       "      <td>seq_0</td>\n",
       "      <td>MKKFCFLFLIICGLMVFCLQDCQARQKLNLADLENKYNAVIGVYAV...</td>\n",
       "    </tr>\n",
       "    <tr>\n",
       "      <th>1</th>\n",
       "      <td>seq_1</td>\n",
       "      <td>MKKFCFLFLIICGLMFFCLQDCQARQKLNLADLENKYNAVIGVYAV...</td>\n",
       "    </tr>\n",
       "    <tr>\n",
       "      <th>2</th>\n",
       "      <td>seq_2</td>\n",
       "      <td>MKKFCFLFLIICGLMVFSLQDCQARQKLNLADLENKYNAVIGVYAV...</td>\n",
       "    </tr>\n",
       "    <tr>\n",
       "      <th>3</th>\n",
       "      <td>seq_3</td>\n",
       "      <td>MKKFCFLFLIICGLMVFCLQGCQARQKLNLADLENKYNAVIGVYAV...</td>\n",
       "    </tr>\n",
       "    <tr>\n",
       "      <th>4</th>\n",
       "      <td>seq_4</td>\n",
       "      <td>MKKFCFLFLIICGLMVFCLQDCQARQKLNLADLENKYNAVIGVYAV...</td>\n",
       "    </tr>\n",
       "    <tr>\n",
       "      <th>...</th>\n",
       "      <td>...</td>\n",
       "      <td>...</td>\n",
       "    </tr>\n",
       "    <tr>\n",
       "      <th>196</th>\n",
       "      <td>seq_26017</td>\n",
       "      <td>MKLSTLALAPIAAALLTFNASAKGHDHDNQRAIFFPGETVQDTVKI...</td>\n",
       "    </tr>\n",
       "    <tr>\n",
       "      <th>197</th>\n",
       "      <td>seq_26018</td>\n",
       "      <td>MKLSTLALAPIAAALFAFNVSANGHDHDNQRAIFFHGEKAPIAQTE...</td>\n",
       "    </tr>\n",
       "    <tr>\n",
       "      <th>198</th>\n",
       "      <td>seq_26019</td>\n",
       "      <td>MKIPTLALAPIAAALFAFNANAHEHKRSIYFPDETSSKVVQTEVEP...</td>\n",
       "    </tr>\n",
       "    <tr>\n",
       "      <th>199</th>\n",
       "      <td>seq_26020</td>\n",
       "      <td>MKIPTLALAPIAAALFAFNANAHEHKRSIYFPDETSSEVVQTEVEP...</td>\n",
       "    </tr>\n",
       "    <tr>\n",
       "      <th>200</th>\n",
       "      <td>seq_26021</td>\n",
       "      <td>MKIPNLALAPIAAALFAFNANAHEHKRSIYFPDETSSKVVQTEVEP...</td>\n",
       "    </tr>\n",
       "  </tbody>\n",
       "</table>\n",
       "<p>26023 rows × 2 columns</p>\n",
       "</div>"
      ],
      "text/plain": [
       "        seq_id                                                seq\n",
       "0        seq_0  MKKFCFLFLIICGLMVFCLQDCQARQKLNLADLENKYNAVIGVYAV...\n",
       "1        seq_1  MKKFCFLFLIICGLMFFCLQDCQARQKLNLADLENKYNAVIGVYAV...\n",
       "2        seq_2  MKKFCFLFLIICGLMVFSLQDCQARQKLNLADLENKYNAVIGVYAV...\n",
       "3        seq_3  MKKFCFLFLIICGLMVFCLQGCQARQKLNLADLENKYNAVIGVYAV...\n",
       "4        seq_4  MKKFCFLFLIICGLMVFCLQDCQARQKLNLADLENKYNAVIGVYAV...\n",
       "..         ...                                                ...\n",
       "196  seq_26017  MKLSTLALAPIAAALLTFNASAKGHDHDNQRAIFFPGETVQDTVKI...\n",
       "197  seq_26018  MKLSTLALAPIAAALFAFNVSANGHDHDNQRAIFFHGEKAPIAQTE...\n",
       "198  seq_26019  MKIPTLALAPIAAALFAFNANAHEHKRSIYFPDETSSKVVQTEVEP...\n",
       "199  seq_26020  MKIPTLALAPIAAALFAFNANAHEHKRSIYFPDETSSEVVQTEVEP...\n",
       "200  seq_26021  MKIPNLALAPIAAALFAFNANAHEHKRSIYFPDETSSKVVQTEVEP...\n",
       "\n",
       "[26023 rows x 2 columns]"
      ]
     },
     "execution_count": 2,
     "metadata": {},
     "output_type": "execute_result"
    }
   ],
   "source": [
    "# load seqs with seq_ids\n",
    "seq_a     = \"../results/tables/fastas/per_class/df_annot_a.fasta\"\n",
    "seq_b     = \"../results/tables/fastas/per_class/df_annot_b.fasta\"\n",
    "seq_c     = \"../results/tables/fastas/per_class/df_annot_c.fasta\"\n",
    "seq_d     = \"../results/tables/fastas/per_class/df_annot_d.fasta\"\n",
    "seq_cons  = \"../results/tables/fastas/per_class/df_annot_cons.fasta\"\n",
    "seq_anc   = \"../results/tables/fastas/per_class/df_annot_anc.fasta\"\n",
    "seq_risso = \"../results/tables/fastas/per_class/df_annot_risso.fasta\"\n",
    "seq_varg  = \"../results/tables/fastas/per_class/df_annot_varg.fasta\"\n",
    "\n",
    "# load tabs\n",
    "df_a     = pd.read_csv(\"../results/tables/df_annot_a.csv\", sep=\"\\t\")\n",
    "df_b     = pd.read_csv(\"../results/tables/df_annot_b.csv\", sep=\"\\t\")\n",
    "df_c     = pd.read_csv(\"../results/tables/df_annot_c.csv\", sep=\"\\t\")\n",
    "df_d     = pd.read_csv(\"../results/tables/df_annot_d.csv\", sep=\"\\t\")\n",
    "df_cons  = pd.read_csv(\"../results/tables/df_annot_cons.csv\", sep=\"\\t\")\n",
    "df_anc   = pd.read_csv(\"../results/tables/df_annot_anc.csv\", sep=\"\\t\")\n",
    "df_risso = pd.read_csv(\"../results/tables/df_annot_risso.csv\", sep=\"\\t\")\n",
    "df_varg  = pd.read_csv(\"../results/tables/df_annot_varg.csv\", sep=\"\\t\")\n",
    "\n",
    "# load df with annots\n",
    "df_annot_all = pd.read_csv(\"../results/tables/df_annot_all.csv\", sep=\"\\t\")\n",
    "\n",
    "# concat\n",
    "df_concat = pd.concat([df_a, df_b, df_c, df_d, df_cons, df_anc, df_risso, df_varg])\n",
    "df_concat"
   ]
  },
  {
   "cell_type": "markdown",
   "id": "e1ec3e8f",
   "metadata": {
    "heading_collapsed": true
   },
   "source": [
    "# ESM-1b"
   ]
  },
  {
   "cell_type": "code",
   "execution_count": 3,
   "id": "0730b125",
   "metadata": {
    "ExecuteTime": {
     "end_time": "2022-10-13T23:16:15.587562Z",
     "start_time": "2022-10-13T23:14:55.428905Z"
    },
    "hidden": true
   },
   "outputs": [],
   "source": [
    "from bio_embeddings.embed import ESM1bEmbedder\n",
    "embedder = ESM1bEmbedder()"
   ]
  },
  {
   "cell_type": "code",
   "execution_count": 4,
   "id": "03112d61",
   "metadata": {
    "ExecuteTime": {
     "end_time": "2022-10-13T23:16:27.318133Z",
     "start_time": "2022-10-13T23:16:27.311845Z"
    },
    "hidden": true
   },
   "outputs": [],
   "source": [
    "# quick fx to generate embeddings\n",
    "def generate_esm1b_embedings(seqs, plm_name, name):\n",
    "    \n",
    "    \"\"\"\n",
    "    Generate embeddings given a multifasta, protein language model name and a string to name the results\n",
    "    \"\"\"  \n",
    "    \n",
    "    # take time    \n",
    "    start_time = time.time()\n",
    "    \n",
    "    # enlist seqs\n",
    "    seq_lst = [] \n",
    "    for record in SeqIO.parse(seqs, \"fasta\"):\n",
    "        seq_lst.append(record)\n",
    "    \n",
    "    # generate per residude embeddings\n",
    "    resid_embeddings = embedder.embed_many([str(s.seq) for s in seq_lst])\n",
    "    resid_embeddings = list(resid_embeddings)\n",
    "    \n",
    "    # generate per protein embeddings\n",
    "    prot_embeddings = [ESM1bEmbedder.reduce_per_protein(e) for e in resid_embeddings]\n",
    "    \n",
    "    # Save per protein embeddings \n",
    "    file_name = plm_name + \"_embeddings_\" + name\n",
    "    open_file = open(file_name, \"wb\") \n",
    "    pickle.dump(prot_embeddings, open_file)\n",
    "    open_file.close()\n",
    "    \n",
    "    timelapse  = np.round((time.time() - start_time)/60, 2)\n",
    "    print(f\"{len(prot_embeddings)} embeddings generated in {timelapse} mins for file : \\n {str(seqs)}\")"
   ]
  },
  {
   "cell_type": "code",
   "execution_count": 5,
   "id": "ce32ea8b",
   "metadata": {
    "ExecuteTime": {
     "end_time": "2022-10-13T23:38:16.798040Z",
     "start_time": "2022-10-13T23:16:29.592698Z"
    },
    "hidden": true
   },
   "outputs": [
    {
     "name": "stdout",
     "output_type": "stream",
     "text": [
      "13315 embeddings generated in 21.79 mins for file : \n",
      " ../results/tables/fastas/per_class/df_annot_a.fasta\n"
     ]
    }
   ],
   "source": [
    "generate_esm1b_embedings(seq_a, \"esm1b\", \"class_a\")"
   ]
  },
  {
   "cell_type": "code",
   "execution_count": 6,
   "id": "ccb513cb",
   "metadata": {
    "ExecuteTime": {
     "end_time": "2022-10-13T23:43:14.345795Z",
     "start_time": "2022-10-13T23:38:30.962114Z"
    },
    "hidden": true
   },
   "outputs": [
    {
     "name": "stdout",
     "output_type": "stream",
     "text": [
      "3130 embeddings generated in 4.72 mins for file : \n",
      " ../results/tables/fastas/per_class/df_annot_b.fasta\n"
     ]
    }
   ],
   "source": [
    "generate_esm1b_embedings(seq_b, \"esm1b\", \"class_b\")"
   ]
  },
  {
   "cell_type": "code",
   "execution_count": 8,
   "id": "fc10dbb8",
   "metadata": {
    "ExecuteTime": {
     "end_time": "2022-10-13T23:57:25.315503Z",
     "start_time": "2022-10-13T23:43:25.786049Z"
    },
    "hidden": true
   },
   "outputs": [
    {
     "name": "stdout",
     "output_type": "stream",
     "text": [
      "6586 embeddings generated in 13.99 mins for file : \n",
      " ../results/tables/fastas/per_class/df_annot_c.fasta\n"
     ]
    }
   ],
   "source": [
    "generate_esm1b_embedings(seq_c, \"esm1b\", \"class_c\")"
   ]
  },
  {
   "cell_type": "code",
   "execution_count": 9,
   "id": "c9383d57",
   "metadata": {
    "ExecuteTime": {
     "end_time": "2022-10-14T00:01:51.734362Z",
     "start_time": "2022-10-13T23:57:34.398410Z"
    },
    "hidden": true
   },
   "outputs": [
    {
     "name": "stdout",
     "output_type": "stream",
     "text": [
      "2779 embeddings generated in 4.29 mins for file : \n",
      " ../results/tables/fastas/per_class/df_annot_d.fasta\n"
     ]
    }
   ],
   "source": [
    "generate_esm1b_embedings(seq_d, \"esm1b\", \"class_d\")"
   ]
  },
  {
   "cell_type": "code",
   "execution_count": 10,
   "id": "28ab1348",
   "metadata": {
    "ExecuteTime": {
     "end_time": "2022-10-14T00:02:03.809147Z",
     "start_time": "2022-10-14T00:02:03.189678Z"
    },
    "hidden": true
   },
   "outputs": [
    {
     "name": "stdout",
     "output_type": "stream",
     "text": [
      "7 embeddings generated in 0.01 mins for file : \n",
      " ../results/tables/fastas/per_class/df_annot_cons.fasta\n"
     ]
    }
   ],
   "source": [
    "generate_esm1b_embedings(seq_cons, \"esm1b\", \"cons\")"
   ]
  },
  {
   "cell_type": "code",
   "execution_count": 11,
   "id": "8830927d",
   "metadata": {
    "ExecuteTime": {
     "end_time": "2022-10-14T00:02:07.748423Z",
     "start_time": "2022-10-14T00:02:07.343889Z"
    },
    "hidden": true
   },
   "outputs": [
    {
     "name": "stdout",
     "output_type": "stream",
     "text": [
      "4 embeddings generated in 0.01 mins for file : \n",
      " ../results/tables/fastas/per_class/df_annot_anc.fasta\n"
     ]
    }
   ],
   "source": [
    "generate_esm1b_embedings(seq_anc, \"esm1b\", \"anc\")"
   ]
  },
  {
   "cell_type": "code",
   "execution_count": 12,
   "id": "7f3d753a",
   "metadata": {
    "ExecuteTime": {
     "end_time": "2022-10-14T00:02:09.404600Z",
     "start_time": "2022-10-14T00:02:09.304683Z"
    },
    "hidden": true
   },
   "outputs": [
    {
     "name": "stdout",
     "output_type": "stream",
     "text": [
      "1 embeddings generated in 0.0 mins for file : \n",
      " ../results/tables/fastas/per_class/df_annot_risso.fasta\n"
     ]
    }
   ],
   "source": [
    "generate_esm1b_embedings(seq_risso, \"esm1b\", \"risso\")"
   ]
  },
  {
   "cell_type": "code",
   "execution_count": 13,
   "id": "85e07475",
   "metadata": {
    "ExecuteTime": {
     "end_time": "2022-10-14T00:02:32.847227Z",
     "start_time": "2022-10-14T00:02:10.579302Z"
    },
    "hidden": true
   },
   "outputs": [
    {
     "name": "stdout",
     "output_type": "stream",
     "text": [
      "201 embeddings generated in 0.37 mins for file : \n",
      " ../results/tables/fastas/per_class/df_annot_varg.fasta\n"
     ]
    }
   ],
   "source": [
    "generate_esm1b_embedings(seq_varg, \"esm1b\", \"varg\")"
   ]
  },
  {
   "cell_type": "markdown",
   "id": "4e9b23df",
   "metadata": {
    "heading_collapsed": true
   },
   "source": [
    "# ESM"
   ]
  },
  {
   "cell_type": "code",
   "execution_count": 14,
   "id": "6fd3c15e",
   "metadata": {
    "ExecuteTime": {
     "end_time": "2022-10-14T00:05:18.345269Z",
     "start_time": "2022-10-14T00:02:47.103879Z"
    },
    "hidden": true
   },
   "outputs": [],
   "source": [
    "from bio_embeddings.embed import ESMEmbedder\n",
    "embedder = ESMEmbedder()"
   ]
  },
  {
   "cell_type": "code",
   "execution_count": 15,
   "id": "49bc15bb",
   "metadata": {
    "ExecuteTime": {
     "end_time": "2022-10-14T00:05:29.391503Z",
     "start_time": "2022-10-14T00:05:29.385095Z"
    },
    "hidden": true
   },
   "outputs": [],
   "source": [
    "# quick fx to generate embeddings\n",
    "def generate_esm_embedings(seqs, plm_name, name):\n",
    "    \n",
    "    \"\"\"\n",
    "    Generate embeddings given a multifasta, protein language model name and a string to name the results\n",
    "    \"\"\"  \n",
    "    \n",
    "    # take time    \n",
    "    start_time = time.time()\n",
    "    \n",
    "    # enlist seqs\n",
    "    seq_lst = [] \n",
    "    for record in SeqIO.parse(seqs, \"fasta\"):\n",
    "        seq_lst.append(record)\n",
    "    \n",
    "    # generate per residude embeddings\n",
    "    resid_embeddings = embedder.embed_many([str(s.seq) for s in seq_lst])\n",
    "    resid_embeddings = list(resid_embeddings)\n",
    "    \n",
    "    # generate per protein embeddings\n",
    "    prot_embeddings = [ESMEmbedder.reduce_per_protein(e) for e in resid_embeddings]\n",
    "    \n",
    "    # Save per protein embeddings \n",
    "    file_name = plm_name + \"_embeddings_\" + name\n",
    "    open_file = open(file_name, \"wb\") \n",
    "    pickle.dump(prot_embeddings, open_file)\n",
    "    open_file.close()\n",
    "    \n",
    "    timelapse  = np.round((time.time() - start_time)/60, 2)\n",
    "    print(f\"{len(prot_embeddings)} embeddings generated in {timelapse} mins for file: \\n {str(seqs)}\")"
   ]
  },
  {
   "cell_type": "code",
   "execution_count": 16,
   "id": "906a159a",
   "metadata": {
    "ExecuteTime": {
     "end_time": "2022-10-14T00:28:31.936469Z",
     "start_time": "2022-10-14T00:05:38.538966Z"
    },
    "hidden": true
   },
   "outputs": [
    {
     "name": "stdout",
     "output_type": "stream",
     "text": [
      "13315 embeddings generated in 22.89 mins for file: \n",
      " ../results/tables/fastas/per_class/df_annot_a.fasta\n"
     ]
    }
   ],
   "source": [
    "generate_esm_embedings(seq_a, \"esm\", \"class_a\")"
   ]
  },
  {
   "cell_type": "code",
   "execution_count": 17,
   "id": "59e7e0ab",
   "metadata": {
    "ExecuteTime": {
     "end_time": "2022-10-14T00:33:31.145492Z",
     "start_time": "2022-10-14T00:28:31.978756Z"
    },
    "hidden": true
   },
   "outputs": [
    {
     "name": "stdout",
     "output_type": "stream",
     "text": [
      "3130 embeddings generated in 4.99 mins for file: \n",
      " ../results/tables/fastas/per_class/df_annot_b.fasta\n"
     ]
    }
   ],
   "source": [
    "generate_esm_embedings(seq_b, \"esm\", \"class_b\")"
   ]
  },
  {
   "cell_type": "code",
   "execution_count": 18,
   "id": "2df6283f",
   "metadata": {
    "ExecuteTime": {
     "end_time": "2022-10-14T00:47:56.431229Z",
     "start_time": "2022-10-14T00:33:31.187541Z"
    },
    "hidden": true
   },
   "outputs": [
    {
     "name": "stdout",
     "output_type": "stream",
     "text": [
      "6586 embeddings generated in 14.42 mins for file: \n",
      " ../results/tables/fastas/per_class/df_annot_c.fasta\n"
     ]
    }
   ],
   "source": [
    "generate_esm_embedings(seq_c, \"esm\", \"class_c\")"
   ]
  },
  {
   "cell_type": "code",
   "execution_count": 19,
   "id": "210865b9",
   "metadata": {
    "ExecuteTime": {
     "end_time": "2022-10-14T00:52:27.445976Z",
     "start_time": "2022-10-14T00:47:56.473338Z"
    },
    "hidden": true
   },
   "outputs": [
    {
     "name": "stdout",
     "output_type": "stream",
     "text": [
      "2779 embeddings generated in 4.52 mins for file: \n",
      " ../results/tables/fastas/per_class/df_annot_d.fasta\n"
     ]
    }
   ],
   "source": [
    "generate_esm_embedings(seq_d, \"esm\", \"class_d\")"
   ]
  },
  {
   "cell_type": "code",
   "execution_count": 20,
   "id": "7bb5db8f",
   "metadata": {
    "ExecuteTime": {
     "end_time": "2022-10-14T00:52:28.117432Z",
     "start_time": "2022-10-14T00:52:27.488067Z"
    },
    "hidden": true
   },
   "outputs": [
    {
     "name": "stdout",
     "output_type": "stream",
     "text": [
      "7 embeddings generated in 0.01 mins for file: \n",
      " ../results/tables/fastas/per_class/df_annot_cons.fasta\n"
     ]
    }
   ],
   "source": [
    "generate_esm_embedings(seq_cons, \"esm\", \"cons\")"
   ]
  },
  {
   "cell_type": "code",
   "execution_count": 21,
   "id": "c179e887",
   "metadata": {
    "ExecuteTime": {
     "end_time": "2022-10-14T00:52:28.572851Z",
     "start_time": "2022-10-14T00:52:28.159722Z"
    },
    "hidden": true
   },
   "outputs": [
    {
     "name": "stdout",
     "output_type": "stream",
     "text": [
      "4 embeddings generated in 0.01 mins for file: \n",
      " ../results/tables/fastas/per_class/df_annot_anc.fasta\n"
     ]
    }
   ],
   "source": [
    "generate_esm_embedings(seq_anc, \"esm\", \"anc\")"
   ]
  },
  {
   "cell_type": "code",
   "execution_count": 22,
   "id": "c73da501",
   "metadata": {
    "ExecuteTime": {
     "end_time": "2022-10-14T00:52:28.713266Z",
     "start_time": "2022-10-14T00:52:28.614595Z"
    },
    "hidden": true
   },
   "outputs": [
    {
     "name": "stdout",
     "output_type": "stream",
     "text": [
      "1 embeddings generated in 0.0 mins for file: \n",
      " ../results/tables/fastas/per_class/df_annot_risso.fasta\n"
     ]
    }
   ],
   "source": [
    "generate_esm_embedings(seq_risso, \"esm\", \"risso\")"
   ]
  },
  {
   "cell_type": "code",
   "execution_count": 23,
   "id": "e1d7251e",
   "metadata": {
    "ExecuteTime": {
     "end_time": "2022-10-14T00:52:52.409233Z",
     "start_time": "2022-10-14T00:52:28.755541Z"
    },
    "hidden": true
   },
   "outputs": [
    {
     "name": "stdout",
     "output_type": "stream",
     "text": [
      "201 embeddings generated in 0.39 mins for file: \n",
      " ../results/tables/fastas/per_class/df_annot_varg.fasta\n"
     ]
    }
   ],
   "source": [
    "generate_esm_embedings(seq_varg, \"esm\", \"varg\")"
   ]
  },
  {
   "cell_type": "markdown",
   "id": "9452963d",
   "metadata": {
    "heading_collapsed": true
   },
   "source": [
    "# onehot (aa composition)"
   ]
  },
  {
   "cell_type": "code",
   "execution_count": 24,
   "id": "6203ec06",
   "metadata": {
    "ExecuteTime": {
     "end_time": "2022-10-14T00:57:01.486352Z",
     "start_time": "2022-10-14T00:57:01.481674Z"
    },
    "hidden": true
   },
   "outputs": [],
   "source": [
    "from bio_embeddings.embed import OneHotEncodingEmbedder\n",
    "embedder = OneHotEncodingEmbedder()"
   ]
  },
  {
   "cell_type": "code",
   "execution_count": 25,
   "id": "df92aa4b",
   "metadata": {
    "ExecuteTime": {
     "end_time": "2022-10-14T00:57:06.429573Z",
     "start_time": "2022-10-14T00:57:06.422844Z"
    },
    "hidden": true
   },
   "outputs": [],
   "source": [
    "# quick fx to generate embeddings\n",
    "def generate_onehot_embedings(seqs, plm_name, name):\n",
    "    \n",
    "    \"\"\"\n",
    "    Generate embeddings given a multifasta, protein language model name and a string to name the results\n",
    "    \"\"\"  \n",
    "    \n",
    "    # take time    \n",
    "    start_time = time.time()\n",
    "    \n",
    "    # enlist seqs\n",
    "    seq_lst = [] \n",
    "    for record in SeqIO.parse(seqs, \"fasta\"):\n",
    "        seq_lst.append(record)\n",
    "    \n",
    "    # generate per residude embeddings\n",
    "    resid_embeddings = embedder.embed_many([str(s.seq) for s in seq_lst])\n",
    "    resid_embeddings = list(resid_embeddings)\n",
    "    \n",
    "    # generate per protein embeddings\n",
    "    prot_embeddings = [OneHotEncodingEmbedder.reduce_per_protein(e) for e in resid_embeddings]\n",
    "    \n",
    "    # Save per protein embeddings \n",
    "    file_name = plm_name + \"_embeddings_\" + name\n",
    "    open_file = open(file_name, \"wb\") \n",
    "    pickle.dump(prot_embeddings, open_file)\n",
    "    open_file.close()\n",
    "    \n",
    "    timelapse  = np.round((time.time() - start_time)/60, 2)\n",
    "    print(f\"{len(prot_embeddings)} embeddings generated in {timelapse} mins for file: \\n {str(seqs)}\")"
   ]
  },
  {
   "cell_type": "code",
   "execution_count": 26,
   "id": "0245c97f",
   "metadata": {
    "ExecuteTime": {
     "end_time": "2022-10-14T00:57:14.222656Z",
     "start_time": "2022-10-14T00:57:09.226357Z"
    },
    "hidden": true
   },
   "outputs": [
    {
     "name": "stdout",
     "output_type": "stream",
     "text": [
      "13315 embeddings generated in 0.08 mins for file: \n",
      " ../results/tables/fastas/per_class/df_annot_a.fasta\n"
     ]
    }
   ],
   "source": [
    "generate_onehot_embedings(seq_a, \"onehot\", \"class_a\")"
   ]
  },
  {
   "cell_type": "code",
   "execution_count": 27,
   "id": "f879e840",
   "metadata": {
    "ExecuteTime": {
     "end_time": "2022-10-14T00:57:18.609618Z",
     "start_time": "2022-10-14T00:57:17.506430Z"
    },
    "hidden": true
   },
   "outputs": [
    {
     "name": "stdout",
     "output_type": "stream",
     "text": [
      "3130 embeddings generated in 0.02 mins for file: \n",
      " ../results/tables/fastas/per_class/df_annot_b.fasta\n"
     ]
    }
   ],
   "source": [
    "generate_onehot_embedings(seq_b, \"onehot\", \"class_b\")"
   ]
  },
  {
   "cell_type": "code",
   "execution_count": 28,
   "id": "0e87b5fd",
   "metadata": {
    "ExecuteTime": {
     "end_time": "2022-10-14T00:57:23.481831Z",
     "start_time": "2022-10-14T00:57:20.225668Z"
    },
    "hidden": true
   },
   "outputs": [
    {
     "name": "stdout",
     "output_type": "stream",
     "text": [
      "6586 embeddings generated in 0.05 mins for file: \n",
      " ../results/tables/fastas/per_class/df_annot_c.fasta\n"
     ]
    }
   ],
   "source": [
    "generate_onehot_embedings(seq_c, \"onehot\", \"class_c\")"
   ]
  },
  {
   "cell_type": "code",
   "execution_count": 29,
   "id": "2c17bad6",
   "metadata": {
    "ExecuteTime": {
     "end_time": "2022-10-14T00:57:24.478023Z",
     "start_time": "2022-10-14T00:57:23.524120Z"
    },
    "hidden": true
   },
   "outputs": [
    {
     "name": "stdout",
     "output_type": "stream",
     "text": [
      "2779 embeddings generated in 0.02 mins for file: \n",
      " ../results/tables/fastas/per_class/df_annot_d.fasta\n"
     ]
    }
   ],
   "source": [
    "generate_onehot_embedings(seq_d, \"onehot\", \"class_d\")"
   ]
  },
  {
   "cell_type": "code",
   "execution_count": 30,
   "id": "355ebab0",
   "metadata": {
    "ExecuteTime": {
     "end_time": "2022-10-14T00:57:24.525089Z",
     "start_time": "2022-10-14T00:57:24.519709Z"
    },
    "hidden": true
   },
   "outputs": [
    {
     "name": "stdout",
     "output_type": "stream",
     "text": [
      "7 embeddings generated in 0.0 mins for file: \n",
      " ../results/tables/fastas/per_class/df_annot_cons.fasta\n"
     ]
    }
   ],
   "source": [
    "generate_onehot_embedings(seq_cons, \"onehot\", \"cons\")"
   ]
  },
  {
   "cell_type": "code",
   "execution_count": 31,
   "id": "dace2c4b",
   "metadata": {
    "ExecuteTime": {
     "end_time": "2022-10-14T00:57:26.917070Z",
     "start_time": "2022-10-14T00:57:26.910277Z"
    },
    "hidden": true
   },
   "outputs": [
    {
     "name": "stdout",
     "output_type": "stream",
     "text": [
      "4 embeddings generated in 0.0 mins for file: \n",
      " ../results/tables/fastas/per_class/df_annot_anc.fasta\n"
     ]
    }
   ],
   "source": [
    "generate_onehot_embedings(seq_anc, \"onehot\", \"anc\")"
   ]
  },
  {
   "cell_type": "code",
   "execution_count": 32,
   "id": "1774de06",
   "metadata": {
    "ExecuteTime": {
     "end_time": "2022-10-14T00:57:29.602355Z",
     "start_time": "2022-10-14T00:57:29.592169Z"
    },
    "hidden": true
   },
   "outputs": [
    {
     "name": "stdout",
     "output_type": "stream",
     "text": [
      "1 embeddings generated in 0.0 mins for file: \n",
      " ../results/tables/fastas/per_class/df_annot_risso.fasta\n"
     ]
    }
   ],
   "source": [
    "generate_onehot_embedings(seq_risso, \"onehot\", \"risso\")"
   ]
  },
  {
   "cell_type": "code",
   "execution_count": 33,
   "id": "d6c2be08",
   "metadata": {
    "ExecuteTime": {
     "end_time": "2022-10-14T00:57:30.964651Z",
     "start_time": "2022-10-14T00:57:30.862976Z"
    },
    "hidden": true
   },
   "outputs": [
    {
     "name": "stdout",
     "output_type": "stream",
     "text": [
      "201 embeddings generated in 0.0 mins for file: \n",
      " ../results/tables/fastas/per_class/df_annot_varg.fasta\n"
     ]
    }
   ],
   "source": [
    "generate_onehot_embedings(seq_varg, \"onehot\", \"varg\")"
   ]
  },
  {
   "cell_type": "markdown",
   "id": "82cef12d",
   "metadata": {
    "heading_collapsed": true
   },
   "source": [
    "# T5XLU50"
   ]
  },
  {
   "cell_type": "code",
   "execution_count": 34,
   "id": "c0254c50",
   "metadata": {
    "ExecuteTime": {
     "end_time": "2022-10-14T00:58:55.268255Z",
     "start_time": "2022-10-14T00:57:39.458020Z"
    },
    "hidden": true
   },
   "outputs": [],
   "source": [
    "# Encoder of the ProtTrans T5 model trained on BFD and finetuned on UniRef 50\n",
    "from bio_embeddings.embed import ProtTransT5XLU50Embedder\n",
    "embedder = ProtTransT5XLU50Embedder()"
   ]
  },
  {
   "cell_type": "code",
   "execution_count": 35,
   "id": "1abb4de0",
   "metadata": {
    "ExecuteTime": {
     "end_time": "2022-10-14T00:58:58.135395Z",
     "start_time": "2022-10-14T00:58:58.128957Z"
    },
    "hidden": true
   },
   "outputs": [],
   "source": [
    "# quick fx to generate embeddings\n",
    "def generate_t5xlu50_embedings(seqs, plm_name, name):\n",
    "    \n",
    "    \"\"\"\n",
    "    Generate embeddings given a multifasta, protein language model name and a string to name the results\n",
    "    \"\"\"  \n",
    "    \n",
    "    # take time    \n",
    "    start_time = time.time()\n",
    "    \n",
    "    # enlist seqs\n",
    "    seq_lst = [] \n",
    "    for record in SeqIO.parse(seqs, \"fasta\"):\n",
    "        seq_lst.append(record)\n",
    "    \n",
    "    # generate per residude embeddings\n",
    "    resid_embeddings = embedder.embed_many([str(s.seq) for s in seq_lst])\n",
    "    resid_embeddings = list(resid_embeddings)\n",
    "    \n",
    "    # generate per protein embeddings\n",
    "    prot_embeddings = [ProtTransT5XLU50Embedder.reduce_per_protein(e) for e in resid_embeddings]\n",
    "    \n",
    "    # Save per protein embeddings \n",
    "    file_name = plm_name + \"_embeddings_\" + name\n",
    "    open_file = open(file_name, \"wb\") \n",
    "    pickle.dump(prot_embeddings, open_file)\n",
    "    open_file.close()\n",
    "    \n",
    "    timelapse  = np.round((time.time() - start_time)/60, 2)\n",
    "    print(f\"{len(prot_embeddings)} embeddings generated in {timelapse} mins for file: \\n {str(seqs)}\")"
   ]
  },
  {
   "cell_type": "code",
   "execution_count": 36,
   "id": "3ac6c733",
   "metadata": {
    "ExecuteTime": {
     "end_time": "2022-10-14T01:36:42.921963Z",
     "start_time": "2022-10-14T00:59:00.782299Z"
    },
    "hidden": true
   },
   "outputs": [
    {
     "name": "stdout",
     "output_type": "stream",
     "text": [
      "13315 embeddings generated in 37.7 mins for file: \n",
      " ../results/tables/fastas/per_class/df_annot_a.fasta\n"
     ]
    }
   ],
   "source": [
    "generate_t5xlu50_embedings(seq_a, \"t5xlu50\", \"class_a\")"
   ]
  },
  {
   "cell_type": "code",
   "execution_count": 37,
   "id": "217ff101",
   "metadata": {
    "ExecuteTime": {
     "end_time": "2022-10-14T01:46:50.198207Z",
     "start_time": "2022-10-14T01:38:50.459083Z"
    },
    "hidden": true
   },
   "outputs": [
    {
     "name": "stdout",
     "output_type": "stream",
     "text": [
      "3130 embeddings generated in 8.0 mins for file: \n",
      " ../results/tables/fastas/per_class/df_annot_b.fasta\n"
     ]
    }
   ],
   "source": [
    "generate_t5xlu50_embedings(seq_b, \"t5xlu50\", \"class_b\")"
   ]
  },
  {
   "cell_type": "code",
   "execution_count": 38,
   "id": "170dbeac",
   "metadata": {
    "ExecuteTime": {
     "end_time": "2022-10-14T02:12:34.942673Z",
     "start_time": "2022-10-14T01:48:38.353538Z"
    },
    "hidden": true
   },
   "outputs": [
    {
     "name": "stdout",
     "output_type": "stream",
     "text": [
      "6586 embeddings generated in 23.94 mins for file: \n",
      " ../results/tables/fastas/per_class/df_annot_c.fasta\n"
     ]
    }
   ],
   "source": [
    "generate_t5xlu50_embedings(seq_c, \"t5xlu50\", \"class_c\")"
   ]
  },
  {
   "cell_type": "code",
   "execution_count": 39,
   "id": "90b897c5",
   "metadata": {
    "ExecuteTime": {
     "end_time": "2022-10-14T02:19:46.119517Z",
     "start_time": "2022-10-14T02:12:34.983964Z"
    },
    "hidden": true
   },
   "outputs": [
    {
     "name": "stdout",
     "output_type": "stream",
     "text": [
      "2779 embeddings generated in 7.19 mins for file: \n",
      " ../results/tables/fastas/per_class/df_annot_d.fasta\n"
     ]
    }
   ],
   "source": [
    "generate_t5xlu50_embedings(seq_d, \"t5xlu50\", \"class_d\")"
   ]
  },
  {
   "cell_type": "code",
   "execution_count": 40,
   "id": "7caf9f4e",
   "metadata": {
    "ExecuteTime": {
     "end_time": "2022-10-14T02:19:47.092678Z",
     "start_time": "2022-10-14T02:19:46.160753Z"
    },
    "hidden": true
   },
   "outputs": [
    {
     "name": "stdout",
     "output_type": "stream",
     "text": [
      "7 embeddings generated in 0.02 mins for file: \n",
      " ../results/tables/fastas/per_class/df_annot_cons.fasta\n"
     ]
    }
   ],
   "source": [
    "generate_t5xlu50_embedings(seq_cons, \"t5xlu50\", \"cons\")"
   ]
  },
  {
   "cell_type": "code",
   "execution_count": 41,
   "id": "399f5747",
   "metadata": {
    "ExecuteTime": {
     "end_time": "2022-10-14T02:19:47.749590Z",
     "start_time": "2022-10-14T02:19:47.134579Z"
    },
    "hidden": true
   },
   "outputs": [
    {
     "name": "stdout",
     "output_type": "stream",
     "text": [
      "4 embeddings generated in 0.01 mins for file: \n",
      " ../results/tables/fastas/per_class/df_annot_anc.fasta\n"
     ]
    }
   ],
   "source": [
    "generate_t5xlu50_embedings(seq_anc, \"t5xlu50\", \"anc\")"
   ]
  },
  {
   "cell_type": "code",
   "execution_count": 42,
   "id": "7ffbe879",
   "metadata": {
    "ExecuteTime": {
     "end_time": "2022-10-14T02:19:47.944677Z",
     "start_time": "2022-10-14T02:19:47.790322Z"
    },
    "hidden": true
   },
   "outputs": [
    {
     "name": "stdout",
     "output_type": "stream",
     "text": [
      "1 embeddings generated in 0.0 mins for file: \n",
      " ../results/tables/fastas/per_class/df_annot_risso.fasta\n"
     ]
    }
   ],
   "source": [
    "generate_t5xlu50_embedings(seq_risso, \"t5xlu50\", \"risso\")"
   ]
  },
  {
   "cell_type": "code",
   "execution_count": 43,
   "id": "ac8b9860",
   "metadata": {
    "ExecuteTime": {
     "end_time": "2022-10-14T02:20:29.155518Z",
     "start_time": "2022-10-14T02:19:47.985400Z"
    },
    "hidden": true
   },
   "outputs": [
    {
     "name": "stdout",
     "output_type": "stream",
     "text": [
      "201 embeddings generated in 0.69 mins for file: \n",
      " ../results/tables/fastas/per_class/df_annot_varg.fasta\n"
     ]
    }
   ],
   "source": [
    "generate_t5xlu50_embedings(seq_varg, \"t5xlu50\", \"varg\")"
   ]
  },
  {
   "cell_type": "markdown",
   "id": "d73efe17",
   "metadata": {
    "heading_collapsed": true
   },
   "source": [
    "# T5BFD"
   ]
  },
  {
   "cell_type": "code",
   "execution_count": 3,
   "id": "cccef0c2",
   "metadata": {
    "ExecuteTime": {
     "end_time": "2022-10-14T02:31:52.497522Z",
     "start_time": "2022-10-14T02:30:45.125537Z"
    },
    "hidden": true
   },
   "outputs": [],
   "source": [
    "# Encoder of the ProtTrans T5 model trained on BFD\n",
    "from bio_embeddings.embed import ProtTransT5BFDEmbedder\n",
    "embedder = ProtTransT5BFDEmbedder()"
   ]
  },
  {
   "cell_type": "code",
   "execution_count": 4,
   "id": "213bdd10",
   "metadata": {
    "ExecuteTime": {
     "end_time": "2022-10-14T02:32:29.268035Z",
     "start_time": "2022-10-14T02:32:29.261461Z"
    },
    "hidden": true
   },
   "outputs": [],
   "source": [
    "# quick fx to generate embeddings\n",
    "def generate_t5bfd_embedings(seqs, plm_name, name):\n",
    "    \n",
    "    \"\"\"\n",
    "    Generate embeddings given a multifasta, protein language model name and a string to name the results\n",
    "    \"\"\"  \n",
    "    \n",
    "    # take time    \n",
    "    start_time = time.time()\n",
    "    \n",
    "    # enlist seqs\n",
    "    seq_lst = [] \n",
    "    for record in SeqIO.parse(seqs, \"fasta\"):\n",
    "        seq_lst.append(record)\n",
    "    \n",
    "    # generate per residude embeddings\n",
    "    resid_embeddings = embedder.embed_many([str(s.seq) for s in seq_lst])\n",
    "    resid_embeddings = list(resid_embeddings)\n",
    "    \n",
    "    # generate per protein embeddings\n",
    "    prot_embeddings = [ProtTransT5BFDEmbedder.reduce_per_protein(e) for e in resid_embeddings]\n",
    "    \n",
    "    # Save per protein embeddings \n",
    "    file_name = plm_name + \"_embeddings_\" + name\n",
    "    open_file = open(file_name, \"wb\") \n",
    "    pickle.dump(prot_embeddings, open_file)\n",
    "    open_file.close()\n",
    "    \n",
    "    timelapse  = np.round((time.time() - start_time)/60, 2)\n",
    "    print(f\"{len(prot_embeddings)} embeddings generated in {timelapse} mins for file: \\n {str(seqs)}\")"
   ]
  },
  {
   "cell_type": "code",
   "execution_count": 5,
   "id": "017e2fb6",
   "metadata": {
    "ExecuteTime": {
     "end_time": "2022-10-14T03:10:25.398568Z",
     "start_time": "2022-10-14T02:32:42.849759Z"
    },
    "hidden": true
   },
   "outputs": [
    {
     "name": "stdout",
     "output_type": "stream",
     "text": [
      "13315 embeddings generated in 37.71 mins for file: \n",
      " ../results/tables/fastas/per_class/df_annot_a.fasta\n"
     ]
    }
   ],
   "source": [
    "generate_t5bfd_embedings(seq_a, \"t5bfd\", \"class_a\")"
   ]
  },
  {
   "cell_type": "code",
   "execution_count": 6,
   "id": "7591078e",
   "metadata": {
    "ExecuteTime": {
     "end_time": "2022-10-14T03:18:56.193624Z",
     "start_time": "2022-10-14T03:10:55.622160Z"
    },
    "hidden": true
   },
   "outputs": [
    {
     "name": "stdout",
     "output_type": "stream",
     "text": [
      "3130 embeddings generated in 8.01 mins for file: \n",
      " ../results/tables/fastas/per_class/df_annot_b.fasta\n"
     ]
    }
   ],
   "source": [
    "generate_t5bfd_embedings(seq_b, \"t5bfd\", \"class_b\")"
   ]
  },
  {
   "cell_type": "code",
   "execution_count": 7,
   "id": "030f8426",
   "metadata": {
    "ExecuteTime": {
     "end_time": "2022-10-14T03:44:00.597927Z",
     "start_time": "2022-10-14T03:20:04.273596Z"
    },
    "hidden": true
   },
   "outputs": [
    {
     "name": "stdout",
     "output_type": "stream",
     "text": [
      "6586 embeddings generated in 23.94 mins for file: \n",
      " ../results/tables/fastas/per_class/df_annot_c.fasta\n"
     ]
    }
   ],
   "source": [
    "generate_t5bfd_embedings(seq_c, \"t5bfd\", \"class_c\")"
   ]
  },
  {
   "cell_type": "code",
   "execution_count": 8,
   "id": "0f9532d1",
   "metadata": {
    "ExecuteTime": {
     "end_time": "2022-10-14T03:51:17.492742Z",
     "start_time": "2022-10-14T03:44:07.671977Z"
    },
    "hidden": true
   },
   "outputs": [
    {
     "name": "stdout",
     "output_type": "stream",
     "text": [
      "2779 embeddings generated in 7.16 mins for file: \n",
      " ../results/tables/fastas/per_class/df_annot_d.fasta\n"
     ]
    }
   ],
   "source": [
    "generate_t5bfd_embedings(seq_d, \"t5bfd\", \"class_d\")"
   ]
  },
  {
   "cell_type": "code",
   "execution_count": 9,
   "id": "6061279e",
   "metadata": {
    "ExecuteTime": {
     "end_time": "2022-10-14T03:52:08.414954Z",
     "start_time": "2022-10-14T03:52:07.422256Z"
    },
    "hidden": true
   },
   "outputs": [
    {
     "name": "stdout",
     "output_type": "stream",
     "text": [
      "7 embeddings generated in 0.02 mins for file: \n",
      " ../results/tables/fastas/per_class/df_annot_cons.fasta\n"
     ]
    }
   ],
   "source": [
    "generate_t5bfd_embedings(seq_cons, \"t5bfd\", \"cons\")"
   ]
  },
  {
   "cell_type": "code",
   "execution_count": 10,
   "id": "b0ca6231",
   "metadata": {
    "ExecuteTime": {
     "end_time": "2022-10-14T03:52:11.165542Z",
     "start_time": "2022-10-14T03:52:10.543471Z"
    },
    "hidden": true
   },
   "outputs": [
    {
     "name": "stdout",
     "output_type": "stream",
     "text": [
      "4 embeddings generated in 0.01 mins for file: \n",
      " ../results/tables/fastas/per_class/df_annot_anc.fasta\n"
     ]
    }
   ],
   "source": [
    "generate_t5bfd_embedings(seq_anc, \"t5bfd\", \"anc\")"
   ]
  },
  {
   "cell_type": "code",
   "execution_count": 11,
   "id": "3854cb01",
   "metadata": {
    "ExecuteTime": {
     "end_time": "2022-10-14T03:52:12.949773Z",
     "start_time": "2022-10-14T03:52:12.797026Z"
    },
    "hidden": true
   },
   "outputs": [
    {
     "name": "stdout",
     "output_type": "stream",
     "text": [
      "1 embeddings generated in 0.0 mins for file: \n",
      " ../results/tables/fastas/per_class/df_annot_risso.fasta\n"
     ]
    }
   ],
   "source": [
    "generate_t5bfd_embedings(seq_risso, \"t5bfd\", \"risso\")"
   ]
  },
  {
   "cell_type": "code",
   "execution_count": 12,
   "id": "63e0a9dc",
   "metadata": {
    "ExecuteTime": {
     "end_time": "2022-10-14T03:52:55.340560Z",
     "start_time": "2022-10-14T03:52:14.805202Z"
    },
    "hidden": true
   },
   "outputs": [
    {
     "name": "stdout",
     "output_type": "stream",
     "text": [
      "201 embeddings generated in 0.68 mins for file: \n",
      " ../results/tables/fastas/per_class/df_annot_varg.fasta\n"
     ]
    }
   ],
   "source": [
    "generate_t5bfd_embedings(seq_varg, \"t5bfd\", \"varg\")"
   ]
  },
  {
   "cell_type": "markdown",
   "id": "16628e54",
   "metadata": {
    "ExecuteTime": {
     "end_time": "2022-10-13T23:43:14.389620Z",
     "start_time": "2022-10-13T23:43:14.387854Z"
    },
    "heading_collapsed": true
   },
   "source": [
    "# XLnet"
   ]
  },
  {
   "cell_type": "code",
   "execution_count": 13,
   "id": "0b7bc436",
   "metadata": {
    "ExecuteTime": {
     "end_time": "2022-10-14T03:53:13.708798Z",
     "start_time": "2022-10-14T03:53:02.407136Z"
    },
    "hidden": true
   },
   "outputs": [
    {
     "name": "stderr",
     "output_type": "stream",
     "text": [
      "Some weights of the model checkpoint at /home/gama/.cache/bio_embeddings/prottrans_xlnet_uniref100/model_directory were not used when initializing XLNetModel: ['lm_loss.bias', 'lm_loss.weight']\n",
      "- This IS expected if you are initializing XLNetModel from the checkpoint of a model trained on another task or with another architecture (e.g. initializing a BertForSequenceClassification model from a BertForPreTraining model).\n",
      "- This IS NOT expected if you are initializing XLNetModel from the checkpoint of a model that you expect to be exactly identical (initializing a BertForSequenceClassification model from a BertForSequenceClassification model).\n",
      "/home/gama/anaconda3/envs/bioem2/lib/python3.9/site-packages/transformers/tokenization_utils_base.py:1658: FutureWarning: Calling XLNetTokenizer.from_pretrained() with the path to a single file or url is deprecated and won't be possible anymore in v5. Use a model identifier or the path to a directory instead.\n",
      "  warnings.warn(\n"
     ]
    }
   ],
   "source": [
    "from bio_embeddings.embed import ProtTransXLNetUniRef100Embedder\n",
    "embedder = ProtTransXLNetUniRef100Embedder()"
   ]
  },
  {
   "cell_type": "code",
   "execution_count": 14,
   "id": "53b1e6e5",
   "metadata": {
    "ExecuteTime": {
     "end_time": "2022-10-14T03:53:24.821181Z",
     "start_time": "2022-10-14T03:53:24.797767Z"
    },
    "hidden": true
   },
   "outputs": [],
   "source": [
    "# quick fx to generate embeddings\n",
    "def generate_xlnet_embedings(seqs, plm_name, name):\n",
    "    \n",
    "    \"\"\"\n",
    "    Generate embeddings given a multifasta, protein language model name and a string to name the results\n",
    "    \"\"\"  \n",
    "    \n",
    "    # take time    \n",
    "    start_time = time.time()\n",
    "    \n",
    "    # enlist seqs\n",
    "    seq_lst = [] \n",
    "    for record in SeqIO.parse(seqs, \"fasta\"):\n",
    "        seq_lst.append(record)\n",
    "    \n",
    "    # generate per residude embeddings\n",
    "    resid_embeddings = embedder.embed_many([str(s.seq) for s in seq_lst])\n",
    "    resid_embeddings = list(resid_embeddings)\n",
    "    \n",
    "    # generate per protein embeddings\n",
    "    prot_embeddings = [ProtTransXLNetUniRef100Embedder.reduce_per_protein(e) for e in resid_embeddings]\n",
    "    \n",
    "    # Save per protein embeddings \n",
    "    file_name = plm_name + \"_embeddings_\" + name\n",
    "    open_file = open(file_name, \"wb\") \n",
    "    pickle.dump(prot_embeddings, open_file)\n",
    "    open_file.close()\n",
    "    \n",
    "    timelapse  = np.round((time.time() - start_time)/60, 2)\n",
    "    print(f\"{len(prot_embeddings)} embeddings generated in {timelapse} mins for file: \\n {str(seqs)}\")"
   ]
  },
  {
   "cell_type": "code",
   "execution_count": 15,
   "id": "7cc801f2",
   "metadata": {
    "ExecuteTime": {
     "end_time": "2022-10-14T04:11:01.172999Z",
     "start_time": "2022-10-14T03:53:27.629543Z"
    },
    "hidden": true
   },
   "outputs": [
    {
     "name": "stdout",
     "output_type": "stream",
     "text": [
      "13315 embeddings generated in 17.56 mins for file: \n",
      " ../results/tables/fastas/per_class/df_annot_a.fasta\n"
     ]
    }
   ],
   "source": [
    "generate_xlnet_embedings(seq_a, \"xlnet\", \"class_a\")"
   ]
  },
  {
   "cell_type": "code",
   "execution_count": 16,
   "id": "330b7304",
   "metadata": {
    "ExecuteTime": {
     "end_time": "2022-10-14T04:16:26.421031Z",
     "start_time": "2022-10-14T04:12:45.239582Z"
    },
    "hidden": true
   },
   "outputs": [
    {
     "name": "stdout",
     "output_type": "stream",
     "text": [
      "3130 embeddings generated in 3.69 mins for file: \n",
      " ../results/tables/fastas/per_class/df_annot_b.fasta\n"
     ]
    }
   ],
   "source": [
    "generate_xlnet_embedings(seq_b, \"xlnet\", \"class_b\")"
   ]
  },
  {
   "cell_type": "code",
   "execution_count": 17,
   "id": "96e65b51",
   "metadata": {
    "ExecuteTime": {
     "end_time": "2022-10-14T04:32:25.485972Z",
     "start_time": "2022-10-14T04:19:58.421671Z"
    },
    "hidden": true
   },
   "outputs": [
    {
     "name": "stdout",
     "output_type": "stream",
     "text": [
      "6586 embeddings generated in 12.45 mins for file: \n",
      " ../results/tables/fastas/per_class/df_annot_c.fasta\n"
     ]
    }
   ],
   "source": [
    "generate_xlnet_embedings(seq_c, \"xlnet\", \"class_c\")"
   ]
  },
  {
   "cell_type": "code",
   "execution_count": 18,
   "id": "1bc27983",
   "metadata": {
    "ExecuteTime": {
     "end_time": "2022-10-14T04:36:08.308497Z",
     "start_time": "2022-10-14T04:32:47.468885Z"
    },
    "hidden": true
   },
   "outputs": [
    {
     "name": "stdout",
     "output_type": "stream",
     "text": [
      "2779 embeddings generated in 3.35 mins for file: \n",
      " ../results/tables/fastas/per_class/df_annot_d.fasta\n"
     ]
    }
   ],
   "source": [
    "generate_xlnet_embedings(seq_d, \"xlnet\", \"class_d\")"
   ]
  },
  {
   "cell_type": "code",
   "execution_count": 19,
   "id": "3a4a401d",
   "metadata": {
    "ExecuteTime": {
     "end_time": "2022-10-14T04:36:08.780739Z",
     "start_time": "2022-10-14T04:36:08.350514Z"
    },
    "hidden": true
   },
   "outputs": [
    {
     "name": "stdout",
     "output_type": "stream",
     "text": [
      "7 embeddings generated in 0.01 mins for file: \n",
      " ../results/tables/fastas/per_class/df_annot_cons.fasta\n"
     ]
    }
   ],
   "source": [
    "generate_xlnet_embedings(seq_cons, \"xlnet\", \"cons\")"
   ]
  },
  {
   "cell_type": "code",
   "execution_count": 20,
   "id": "1752b1de",
   "metadata": {
    "ExecuteTime": {
     "end_time": "2022-10-14T04:36:09.112591Z",
     "start_time": "2022-10-14T04:36:08.824738Z"
    },
    "hidden": true
   },
   "outputs": [
    {
     "name": "stdout",
     "output_type": "stream",
     "text": [
      "4 embeddings generated in 0.0 mins for file: \n",
      " ../results/tables/fastas/per_class/df_annot_anc.fasta\n"
     ]
    }
   ],
   "source": [
    "generate_xlnet_embedings(seq_anc, \"xlnet\", \"anc\")"
   ]
  },
  {
   "cell_type": "code",
   "execution_count": 21,
   "id": "8f2ab655",
   "metadata": {
    "ExecuteTime": {
     "end_time": "2022-10-14T04:36:09.230652Z",
     "start_time": "2022-10-14T04:36:09.158074Z"
    },
    "hidden": true
   },
   "outputs": [
    {
     "name": "stdout",
     "output_type": "stream",
     "text": [
      "1 embeddings generated in 0.0 mins for file: \n",
      " ../results/tables/fastas/per_class/df_annot_risso.fasta\n"
     ]
    }
   ],
   "source": [
    "generate_xlnet_embedings(seq_risso, \"xlnet\", \"risso\")"
   ]
  },
  {
   "cell_type": "code",
   "execution_count": 22,
   "id": "e3b3bf31",
   "metadata": {
    "ExecuteTime": {
     "end_time": "2022-10-14T04:36:30.261908Z",
     "start_time": "2022-10-14T04:36:09.274987Z"
    },
    "hidden": true
   },
   "outputs": [
    {
     "name": "stdout",
     "output_type": "stream",
     "text": [
      "201 embeddings generated in 0.35 mins for file: \n",
      " ../results/tables/fastas/per_class/df_annot_varg.fasta\n"
     ]
    }
   ],
   "source": [
    "generate_xlnet_embedings(seq_varg, \"xlnet\", \"varg\")"
   ]
  },
  {
   "cell_type": "markdown",
   "id": "668e14a5",
   "metadata": {
    "heading_collapsed": true
   },
   "source": [
    "# Bepler"
   ]
  },
  {
   "cell_type": "code",
   "execution_count": 23,
   "id": "af75efb4",
   "metadata": {
    "ExecuteTime": {
     "end_time": "2022-10-14T04:36:51.403810Z",
     "start_time": "2022-10-14T04:36:50.129119Z"
    },
    "hidden": true
   },
   "outputs": [],
   "source": [
    "from bio_embeddings.embed import BeplerEmbedder\n",
    "embedder = BeplerEmbedder()"
   ]
  },
  {
   "cell_type": "code",
   "execution_count": 24,
   "id": "e99fb40d",
   "metadata": {
    "ExecuteTime": {
     "end_time": "2022-10-14T04:37:00.277707Z",
     "start_time": "2022-10-14T04:37:00.271872Z"
    },
    "hidden": true
   },
   "outputs": [],
   "source": [
    "# quick fx to generate embeddings\n",
    "def generate_bepler_embedings(seqs, plm_name, name):\n",
    "    \n",
    "    \"\"\"\n",
    "    Generate embeddings given a multifasta, protein language model name and a string to name the results\n",
    "    \"\"\"  \n",
    "    \n",
    "    # take time    \n",
    "    start_time = time.time()\n",
    "    \n",
    "    # enlist seqs\n",
    "    seq_lst = [] \n",
    "    for record in SeqIO.parse(seqs, \"fasta\"):\n",
    "        seq_lst.append(record)\n",
    "    \n",
    "    # generate per residude embeddings\n",
    "    resid_embeddings = embedder.embed_many([str(s.seq) for s in seq_lst])\n",
    "    resid_embeddings = list(resid_embeddings)\n",
    "    \n",
    "    # generate per protein embeddings\n",
    "    prot_embeddings = [BeplerEmbedder.reduce_per_protein(e) for e in resid_embeddings]\n",
    "    \n",
    "    # Save per protein embeddings \n",
    "    file_name = plm_name + \"_embeddings_\" + name\n",
    "    open_file = open(file_name, \"wb\") \n",
    "    pickle.dump(prot_embeddings, open_file)\n",
    "    open_file.close()\n",
    "    \n",
    "    timelapse  = np.round((time.time() - start_time)/60, 2)\n",
    "    print(f\"{len(prot_embeddings)} embeddings generated in {timelapse} mins for file: \\n {str(seqs)}\")"
   ]
  },
  {
   "cell_type": "code",
   "execution_count": 25,
   "id": "07b41c91",
   "metadata": {
    "ExecuteTime": {
     "end_time": "2022-10-14T04:58:32.055117Z",
     "start_time": "2022-10-14T04:37:04.662078Z"
    },
    "hidden": true
   },
   "outputs": [
    {
     "name": "stdout",
     "output_type": "stream",
     "text": [
      "13315 embeddings generated in 21.46 mins for file: \n",
      " ../results/tables/fastas/per_class/df_annot_a.fasta\n"
     ]
    }
   ],
   "source": [
    "generate_bepler_embedings(seq_a, \"bepler\", \"class_a\")"
   ]
  },
  {
   "cell_type": "code",
   "execution_count": 26,
   "id": "f34a8ab4",
   "metadata": {
    "ExecuteTime": {
     "end_time": "2022-10-14T05:03:19.667522Z",
     "start_time": "2022-10-14T04:58:42.191229Z"
    },
    "hidden": true
   },
   "outputs": [
    {
     "name": "stdout",
     "output_type": "stream",
     "text": [
      "3130 embeddings generated in 4.62 mins for file: \n",
      " ../results/tables/fastas/per_class/df_annot_b.fasta\n"
     ]
    }
   ],
   "source": [
    "generate_bepler_embedings(seq_b, \"bepler\", \"class_b\")"
   ]
  },
  {
   "cell_type": "code",
   "execution_count": 27,
   "id": "1b1ba81a",
   "metadata": {
    "ExecuteTime": {
     "end_time": "2022-10-14T05:16:42.109395Z",
     "start_time": "2022-10-14T05:03:19.709445Z"
    },
    "hidden": true
   },
   "outputs": [
    {
     "name": "stdout",
     "output_type": "stream",
     "text": [
      "6586 embeddings generated in 13.37 mins for file: \n",
      " ../results/tables/fastas/per_class/df_annot_c.fasta\n"
     ]
    }
   ],
   "source": [
    "generate_bepler_embedings(seq_c, \"bepler\", \"class_c\")"
   ]
  },
  {
   "cell_type": "code",
   "execution_count": 28,
   "id": "c62efb30",
   "metadata": {
    "ExecuteTime": {
     "end_time": "2022-10-14T05:20:42.856905Z",
     "start_time": "2022-10-14T05:16:42.150464Z"
    },
    "hidden": true
   },
   "outputs": [
    {
     "name": "stdout",
     "output_type": "stream",
     "text": [
      "2779 embeddings generated in 4.01 mins for file: \n",
      " ../results/tables/fastas/per_class/df_annot_d.fasta\n"
     ]
    }
   ],
   "source": [
    "generate_bepler_embedings(seq_d, \"bepler\", \"class_d\")"
   ]
  },
  {
   "cell_type": "code",
   "execution_count": 29,
   "id": "8f8a7948",
   "metadata": {
    "ExecuteTime": {
     "end_time": "2022-10-14T05:20:43.455318Z",
     "start_time": "2022-10-14T05:20:42.898929Z"
    },
    "hidden": true
   },
   "outputs": [
    {
     "name": "stdout",
     "output_type": "stream",
     "text": [
      "7 embeddings generated in 0.01 mins for file: \n",
      " ../results/tables/fastas/per_class/df_annot_cons.fasta\n"
     ]
    }
   ],
   "source": [
    "generate_bepler_embedings(seq_cons, \"bepler\", \"cons\")"
   ]
  },
  {
   "cell_type": "code",
   "execution_count": 30,
   "id": "10eae48d",
   "metadata": {
    "ExecuteTime": {
     "end_time": "2022-10-14T05:20:43.836826Z",
     "start_time": "2022-10-14T05:20:43.497746Z"
    },
    "hidden": true
   },
   "outputs": [
    {
     "name": "stdout",
     "output_type": "stream",
     "text": [
      "4 embeddings generated in 0.01 mins for file: \n",
      " ../results/tables/fastas/per_class/df_annot_anc.fasta\n"
     ]
    }
   ],
   "source": [
    "generate_bepler_embedings(seq_anc, \"bepler\", \"anc\")"
   ]
  },
  {
   "cell_type": "code",
   "execution_count": 31,
   "id": "15667466",
   "metadata": {
    "ExecuteTime": {
     "end_time": "2022-10-14T05:20:43.963502Z",
     "start_time": "2022-10-14T05:20:43.878290Z"
    },
    "hidden": true
   },
   "outputs": [
    {
     "name": "stdout",
     "output_type": "stream",
     "text": [
      "1 embeddings generated in 0.0 mins for file: \n",
      " ../results/tables/fastas/per_class/df_annot_risso.fasta\n"
     ]
    }
   ],
   "source": [
    "generate_bepler_embedings(seq_risso, \"bepler\", \"risso\")"
   ]
  },
  {
   "cell_type": "code",
   "execution_count": 32,
   "id": "0706f9f3",
   "metadata": {
    "ExecuteTime": {
     "end_time": "2022-10-14T05:21:07.941158Z",
     "start_time": "2022-10-14T05:20:44.004772Z"
    },
    "hidden": true
   },
   "outputs": [
    {
     "name": "stdout",
     "output_type": "stream",
     "text": [
      "201 embeddings generated in 0.4 mins for file: \n",
      " ../results/tables/fastas/per_class/df_annot_varg.fasta\n"
     ]
    }
   ],
   "source": [
    "generate_bepler_embedings(seq_varg, \"bepler\", \"varg\")"
   ]
  },
  {
   "cell_type": "markdown",
   "id": "728865fd",
   "metadata": {
    "heading_collapsed": true
   },
   "source": [
    "# CARP640M"
   ]
  },
  {
   "cell_type": "markdown",
   "id": "2149e194",
   "metadata": {
    "hidden": true
   },
   "source": [
    "CARP640M embeddings (of the final layer of the model) were generated with \"extract.py\" script of the original repo\n",
    "- https://github.com/microsoft/protein-sequence-models\n",
    "\n",
    "```bash\n",
    "python extract.py carp_640M /home/gama/bla_analysis/results/tables/fastas/per_class/df_annot_anc.fasta anc/ --repr_layers -1 logits --include mean logp\n",
    "\n",
    "python extract.py carp_640M /home/gama/bla_analysis/results/tables/fastas/per_class/df_annot_risso.fasta risso/ --repr_layers -1 logits --include mean logp\n",
    "\n",
    "python extract.py carp_640M /home/gama/bla_analysis/results/tables/fastas/per_class/df_annot_cons.fasta cons/ --repr_layers -1 logits --include mean logp\n",
    "\n",
    "python extract.py carp_640M /home/gama/bla_analysis/results/tables/fastas/per_class/df_annot_varg.fasta varg/ --repr_layers -1 logits --include mean logp\n",
    "\n",
    "python extract.py carp_640M /home/gama/bla_analysis/results/tables/fastas/per_class/df_annot_a.fasta class_a/ --repr_layers -1 logits --include mean logp\n",
    "\n",
    "python extract.py carp_640M /home/gama/bla_analysis/results/tables/fastas/per_class/df_annot_b.fasta class_b/ --repr_layers -1 logits --include mean logp\n",
    "\n",
    "python extract.py carp_640M /home/gama/bla_analysis/results/tables/fastas/per_class/df_annot_c.fasta class_c/ --repr_layers -1 logits --include mean logp\n",
    "\n",
    "python extract.py carp_640M /home/gama/bla_analysis/results/tables/fastas/per_class/df_annot_d.fasta class_d/ --repr_layers -1 logits --include mean logp\n",
    "```"
   ]
  },
  {
   "cell_type": "markdown",
   "id": "09997bf8",
   "metadata": {
    "hidden": true
   },
   "source": [
    "create a dir per each plm with respective embeddings"
   ]
  },
  {
   "cell_type": "code",
   "execution_count": 3,
   "id": "0f6ce6a9",
   "metadata": {
    "ExecuteTime": {
     "end_time": "2022-10-14T17:44:23.907637Z",
     "start_time": "2022-10-14T17:44:23.791084Z"
    },
    "hidden": true
   },
   "outputs": [
    {
     "name": "stdout",
     "output_type": "stream",
     "text": [
      "\u001b[0m\u001b[01;34mbepler\u001b[0m/  \u001b[01;34mcarp\u001b[0m/  \u001b[01;34mesm\u001b[0m/  \u001b[01;34mesm1b\u001b[0m/  \u001b[01;34monehot\u001b[0m/  \u001b[01;34mt5bfd\u001b[0m/  \u001b[01;34mt5xlu50\u001b[0m/  \u001b[01;34mxlnet\u001b[0m/\r\n"
     ]
    }
   ],
   "source": [
    "ls ../results/embeddings/"
   ]
  },
  {
   "cell_type": "markdown",
   "id": "b7e77250",
   "metadata": {
    "heading_collapsed": true
   },
   "source": [
    "# load embeddings "
   ]
  },
  {
   "cell_type": "code",
   "execution_count": 3,
   "id": "f3a6ecea",
   "metadata": {
    "ExecuteTime": {
     "end_time": "2022-10-14T19:13:08.229730Z",
     "start_time": "2022-10-14T19:13:08.221363Z"
    },
    "hidden": true
   },
   "outputs": [],
   "source": [
    "def load_embeddings(model):\n",
    "    \n",
    "    \"\"\"\n",
    "    a quick function that given a protein language model, load the embeddings and create a new col in the dset\n",
    "    \"\"\"\n",
    "    \n",
    "    # open and load embeddings\n",
    "    name_a = \"../results/embeddings/\" + model + \"/\" + model + \"_embeddings_class_a\"\n",
    "    open_file = open(name_a, \"rb\")\n",
    "    class_a = pickle.load(open_file)\n",
    "    open_file.close()\n",
    "    \n",
    "    name_b = \"../results/embeddings/\" + model + \"/\" + model + \"_embeddings_class_b\"\n",
    "    open_file = open(name_b, \"rb\")\n",
    "    class_b = pickle.load(open_file)\n",
    "    open_file.close()\n",
    "    \n",
    "    name_c = \"../results/embeddings/\" + model + \"/\" + model + \"_embeddings_class_c\"\n",
    "    open_file = open(name_c, \"rb\")\n",
    "    class_c = pickle.load(open_file)\n",
    "    open_file.close()\n",
    "    \n",
    "    name_d = \"../results/embeddings/\" + model + \"/\" + model + \"_embeddings_class_d\"\n",
    "    open_file = open(name_d, \"rb\")\n",
    "    class_d = pickle.load(open_file)\n",
    "    open_file.close()\n",
    "    \n",
    "    name_cons = \"../results/embeddings/\" + model + \"/\" + model + \"_embeddings_cons\"\n",
    "    open_file = open(name_cons, \"rb\")\n",
    "    class_cons = pickle.load(open_file)\n",
    "    open_file.close()\n",
    "    \n",
    "    name_anc = \"../results/embeddings/\" + model + \"/\" + model + \"_embeddings_anc\"\n",
    "    open_file = open(name_anc, \"rb\")\n",
    "    class_anc = pickle.load(open_file)\n",
    "    open_file.close()\n",
    "    \n",
    "    name_risso = \"../results/embeddings/\" + model + \"/\" + model + \"_embeddings_risso\"\n",
    "    open_file = open(name_risso, \"rb\")\n",
    "    class_risso = pickle.load(open_file)\n",
    "    open_file.close()\n",
    "    \n",
    "    name_varg = \"../results/embeddings/\" + model + \"/\" + model + \"_embeddings_varg\"\n",
    "    open_file = open(name_varg, \"rb\")\n",
    "    class_varg = pickle.load(open_file)\n",
    "    open_file.close()\n",
    "    \n",
    "    # concat embeddings with the same order that df_concat: [df_a, df_b, df_c, df_d, df_cons, df_anc, df_risso, df_varg]\n",
    "    concatenated_embedding = (\n",
    "        class_a +\n",
    "        class_b + \n",
    "        class_c + \n",
    "        class_d + \n",
    "        class_cons +\n",
    "        class_anc + \n",
    "        class_risso + \n",
    "        class_varg)\n",
    "    print(f\"{len(df_concat)} embeddings loaded for {model}\")\n",
    "    \n",
    "    # add a col\n",
    "    df_concat[model] = concatenated_embedding"
   ]
  },
  {
   "cell_type": "code",
   "execution_count": 4,
   "id": "e3f2106d",
   "metadata": {
    "ExecuteTime": {
     "end_time": "2022-10-14T19:13:10.389535Z",
     "start_time": "2022-10-14T19:13:09.969910Z"
    },
    "hidden": true
   },
   "outputs": [
    {
     "name": "stdout",
     "output_type": "stream",
     "text": [
      "26023 embeddings loaded for esm1b\n",
      "26023 embeddings loaded for esm\n",
      "26023 embeddings loaded for onehot\n",
      "26023 embeddings loaded for t5xlu50\n",
      "26023 embeddings loaded for t5bfd\n",
      "26023 embeddings loaded for xlnet\n",
      "26023 embeddings loaded for bepler\n"
     ]
    }
   ],
   "source": [
    "load_embeddings(\"esm1b\")\n",
    "load_embeddings(\"esm\")\n",
    "load_embeddings(\"onehot\")\n",
    "load_embeddings(\"t5xlu50\")\n",
    "load_embeddings(\"t5bfd\")\n",
    "load_embeddings(\"xlnet\")\n",
    "load_embeddings(\"bepler\")"
   ]
  },
  {
   "cell_type": "code",
   "execution_count": 5,
   "id": "fddbc95f",
   "metadata": {
    "ExecuteTime": {
     "end_time": "2022-10-14T19:13:11.660817Z",
     "start_time": "2022-10-14T19:13:11.613755Z"
    },
    "hidden": true
   },
   "outputs": [
    {
     "data": {
      "text/html": [
       "<div>\n",
       "<style scoped>\n",
       "    .dataframe tbody tr th:only-of-type {\n",
       "        vertical-align: middle;\n",
       "    }\n",
       "\n",
       "    .dataframe tbody tr th {\n",
       "        vertical-align: top;\n",
       "    }\n",
       "\n",
       "    .dataframe thead th {\n",
       "        text-align: right;\n",
       "    }\n",
       "</style>\n",
       "<table border=\"1\" class=\"dataframe\">\n",
       "  <thead>\n",
       "    <tr style=\"text-align: right;\">\n",
       "      <th></th>\n",
       "      <th>seq_id</th>\n",
       "      <th>seq</th>\n",
       "      <th>esm1b</th>\n",
       "      <th>esm</th>\n",
       "      <th>onehot</th>\n",
       "      <th>t5xlu50</th>\n",
       "      <th>t5bfd</th>\n",
       "      <th>xlnet</th>\n",
       "      <th>bepler</th>\n",
       "    </tr>\n",
       "  </thead>\n",
       "  <tbody>\n",
       "    <tr>\n",
       "      <th>0</th>\n",
       "      <td>seq_0</td>\n",
       "      <td>MKKFCFLFLIICGLMVFCLQDCQARQKLNLADLENKYNAVIGVYAV...</td>\n",
       "      <td>[0.1102982, 0.014699467, -0.14032564, 0.258299...</td>\n",
       "      <td>[-1.9012868, 0.22372644, 0.21296117, -0.166722...</td>\n",
       "      <td>[0.08450704, 0.024647888, 0.08450704, 0.045774...</td>\n",
       "      <td>[0.008956722, 0.02665889, 0.02402008, 0.014990...</td>\n",
       "      <td>[0.023663048, -0.0007369746, -0.0076412507, 0....</td>\n",
       "      <td>[-0.19811592, 0.051563144, -0.005958873, 0.039...</td>\n",
       "      <td>[0.08450704, 0.045774646, 0.07042254, 0.084507...</td>\n",
       "    </tr>\n",
       "    <tr>\n",
       "      <th>1</th>\n",
       "      <td>seq_1</td>\n",
       "      <td>MKKFCFLFLIICGLMFFCLQDCQARQKLNLADLENKYNAVIGVYAV...</td>\n",
       "      <td>[0.10703633, 0.017742604, -0.14941521, 0.25984...</td>\n",
       "      <td>[-1.91362, 0.15840982, 0.18624821, -0.169153, ...</td>\n",
       "      <td>[0.08098592, 0.024647888, 0.08450704, 0.042253...</td>\n",
       "      <td>[0.0076766736, 0.027014462, 0.027420135, 0.013...</td>\n",
       "      <td>[0.026570462, 0.0026666287, -0.006873358, -0.0...</td>\n",
       "      <td>[-0.21204372, 0.057212643, -0.011840693, 0.035...</td>\n",
       "      <td>[0.08098592, 0.045774646, 0.07042254, 0.084507...</td>\n",
       "    </tr>\n",
       "    <tr>\n",
       "      <th>2</th>\n",
       "      <td>seq_2</td>\n",
       "      <td>MKKFCFLFLIICGLMVFSLQDCQARQKLNLADLENKYNAVIGVYAV...</td>\n",
       "      <td>[0.10849612, 0.017496616, -0.14619425, 0.26836...</td>\n",
       "      <td>[-1.8146169, 0.20834586, 0.23776329, -0.163906...</td>\n",
       "      <td>[0.08450704, 0.02112676, 0.08450704, 0.0457746...</td>\n",
       "      <td>[0.009324158, 0.02478514, 0.022525383, 0.01392...</td>\n",
       "      <td>[0.02341963, -0.004910054, -0.008731285, 0.005...</td>\n",
       "      <td>[-0.1872002, 0.043762427, -0.03699141, 0.03243...</td>\n",
       "      <td>[0.08450704, 0.045774646, 0.07042254, 0.084507...</td>\n",
       "    </tr>\n",
       "    <tr>\n",
       "      <th>3</th>\n",
       "      <td>seq_3</td>\n",
       "      <td>MKKFCFLFLIICGLMVFCLQGCQARQKLNLADLENKYNAVIGVYAV...</td>\n",
       "      <td>[0.12845756, 0.017484514, -0.13535379, 0.24379...</td>\n",
       "      <td>[-1.8452643, 0.23816845, 0.23408653, -0.152660...</td>\n",
       "      <td>[0.08450704, 0.024647888, 0.08098592, 0.045774...</td>\n",
       "      <td>[0.004128871, 0.033653855, 0.028860169, 0.0124...</td>\n",
       "      <td>[0.014434682, -0.0026827375, -0.003042692, 0.0...</td>\n",
       "      <td>[-0.2078117, 0.05418699, 0.0056420905, 0.02040...</td>\n",
       "      <td>[0.08450704, 0.045774646, 0.07042254, 0.080985...</td>\n",
       "    </tr>\n",
       "    <tr>\n",
       "      <th>4</th>\n",
       "      <td>seq_4</td>\n",
       "      <td>MKKFCFLFLIICGLMVFCLQDCQARQKLNLADLENKYNAVIGVYAV...</td>\n",
       "      <td>[0.10706033, 0.013306678, -0.14212927, 0.25449...</td>\n",
       "      <td>[-1.8473366, 0.2200377, 0.23291773, -0.1457919...</td>\n",
       "      <td>[0.08450704, 0.024647888, 0.08450704, 0.045774...</td>\n",
       "      <td>[0.0077304444, 0.029016294, 0.023319585, 0.014...</td>\n",
       "      <td>[0.020652149, -0.00015262279, -0.0065017454, 0...</td>\n",
       "      <td>[-0.19173458, 0.04517981, -0.0330168, 0.023556...</td>\n",
       "      <td>[0.08450704, 0.045774646, 0.07042254, 0.084507...</td>\n",
       "    </tr>\n",
       "    <tr>\n",
       "      <th>...</th>\n",
       "      <td>...</td>\n",
       "      <td>...</td>\n",
       "      <td>...</td>\n",
       "      <td>...</td>\n",
       "      <td>...</td>\n",
       "      <td>...</td>\n",
       "      <td>...</td>\n",
       "      <td>...</td>\n",
       "      <td>...</td>\n",
       "    </tr>\n",
       "    <tr>\n",
       "      <th>26018</th>\n",
       "      <td>seq_26017</td>\n",
       "      <td>MKLSTLALAPIAAALLTFNASAKGHDHDNQRAIFFPGETVQDTVKI...</td>\n",
       "      <td>[0.033977885, 0.2099972, -0.03804998, 0.106422...</td>\n",
       "      <td>[-1.7197676, 0.03665721, 0.4062646, 0.27256438...</td>\n",
       "      <td>[0.07219251, 0.0, 0.07486631, 0.040106952, 0.0...</td>\n",
       "      <td>[0.007419476, 0.007811315, -0.021516398, 0.019...</td>\n",
       "      <td>[-0.013961067, -0.020913692, -0.023646962, 0.0...</td>\n",
       "      <td>[-0.1441164, -0.02171367, 0.11034167, 0.145684...</td>\n",
       "      <td>[0.07219251, 0.021390375, 0.06417112, 0.074866...</td>\n",
       "    </tr>\n",
       "    <tr>\n",
       "      <th>26019</th>\n",
       "      <td>seq_26018</td>\n",
       "      <td>MKLSTLALAPIAAALFAFNVSANGHDHDNQRAIFFHGEKAPIAQTE...</td>\n",
       "      <td>[0.040876266, 0.2043898, -0.015767168, 0.10294...</td>\n",
       "      <td>[-1.6569757, 0.103168234, 0.37261948, 0.298090...</td>\n",
       "      <td>[0.08042896, 0.0, 0.061662197, 0.048257373, 0....</td>\n",
       "      <td>[0.011291199, 0.003993584, -0.023162339, 0.025...</td>\n",
       "      <td>[-0.007916385, -0.015900034, -0.02986404, 0.03...</td>\n",
       "      <td>[-0.14152464, -0.020039544, 0.056525566, 0.157...</td>\n",
       "      <td>[0.08042896, 0.021447722, 0.077747986, 0.06166...</td>\n",
       "    </tr>\n",
       "    <tr>\n",
       "      <th>26020</th>\n",
       "      <td>seq_26019</td>\n",
       "      <td>MKIPTLALAPIAAALFAFNANAHEHKRSIYFPDETSSKVVQTEVEP...</td>\n",
       "      <td>[0.044713225, 0.1989737, -0.016214604, 0.09130...</td>\n",
       "      <td>[-1.8027551, -0.054471187, 0.356291, 0.2774920...</td>\n",
       "      <td>[0.08108108, 0.0, 0.06216216, 0.045945946, 0.0...</td>\n",
       "      <td>[0.009738536, 0.0032915308, -0.022912802, 0.02...</td>\n",
       "      <td>[4.8287977e-05, -0.01686286, -0.03582304, 0.02...</td>\n",
       "      <td>[-0.16496508, -0.0207604, 0.077249505, 0.15154...</td>\n",
       "      <td>[0.08108108, 0.021621622, 0.06486487, 0.062162...</td>\n",
       "    </tr>\n",
       "    <tr>\n",
       "      <th>26021</th>\n",
       "      <td>seq_26020</td>\n",
       "      <td>MKIPTLALAPIAAALFAFNANAHEHKRSIYFPDETSSEVVQTEVEP...</td>\n",
       "      <td>[0.044318486, 0.19327989, -0.017119728, 0.0940...</td>\n",
       "      <td>[-1.8163025, -0.007135033, 0.3879411, 0.245572...</td>\n",
       "      <td>[0.08108108, 0.0, 0.06216216, 0.048648648, 0.0...</td>\n",
       "      <td>[0.011506303, 0.00066137884, -0.02221559, 0.02...</td>\n",
       "      <td>[0.004785993, -0.01697322, -0.0355139, 0.02028...</td>\n",
       "      <td>[-0.15620558, -0.031111313, 0.07699773, 0.1406...</td>\n",
       "      <td>[0.08108108, 0.021621622, 0.067567565, 0.06216...</td>\n",
       "    </tr>\n",
       "    <tr>\n",
       "      <th>26022</th>\n",
       "      <td>seq_26021</td>\n",
       "      <td>MKIPNLALAPIAAALFAFNANAHEHKRSIYFPDETSSKVVQTEVEP...</td>\n",
       "      <td>[0.04461412, 0.199995, -0.020781625, 0.0949049...</td>\n",
       "      <td>[-1.8516614, -0.09044339, 0.37824488, 0.252750...</td>\n",
       "      <td>[0.07837838, 0.0, 0.06216216, 0.045945946, 0.0...</td>\n",
       "      <td>[0.010414982, 0.002133661, -0.024551, 0.021942...</td>\n",
       "      <td>[0.0023922243, -0.015109096, -0.036721, 0.0201...</td>\n",
       "      <td>[-0.15697424, -0.018054537, 0.087968335, 0.159...</td>\n",
       "      <td>[0.07837838, 0.021621622, 0.07027027, 0.062162...</td>\n",
       "    </tr>\n",
       "  </tbody>\n",
       "</table>\n",
       "<p>26023 rows × 9 columns</p>\n",
       "</div>"
      ],
      "text/plain": [
       "          seq_id                                                seq  \\\n",
       "0          seq_0  MKKFCFLFLIICGLMVFCLQDCQARQKLNLADLENKYNAVIGVYAV...   \n",
       "1          seq_1  MKKFCFLFLIICGLMFFCLQDCQARQKLNLADLENKYNAVIGVYAV...   \n",
       "2          seq_2  MKKFCFLFLIICGLMVFSLQDCQARQKLNLADLENKYNAVIGVYAV...   \n",
       "3          seq_3  MKKFCFLFLIICGLMVFCLQGCQARQKLNLADLENKYNAVIGVYAV...   \n",
       "4          seq_4  MKKFCFLFLIICGLMVFCLQDCQARQKLNLADLENKYNAVIGVYAV...   \n",
       "...          ...                                                ...   \n",
       "26018  seq_26017  MKLSTLALAPIAAALLTFNASAKGHDHDNQRAIFFPGETVQDTVKI...   \n",
       "26019  seq_26018  MKLSTLALAPIAAALFAFNVSANGHDHDNQRAIFFHGEKAPIAQTE...   \n",
       "26020  seq_26019  MKIPTLALAPIAAALFAFNANAHEHKRSIYFPDETSSKVVQTEVEP...   \n",
       "26021  seq_26020  MKIPTLALAPIAAALFAFNANAHEHKRSIYFPDETSSEVVQTEVEP...   \n",
       "26022  seq_26021  MKIPNLALAPIAAALFAFNANAHEHKRSIYFPDETSSKVVQTEVEP...   \n",
       "\n",
       "                                                   esm1b  \\\n",
       "0      [0.1102982, 0.014699467, -0.14032564, 0.258299...   \n",
       "1      [0.10703633, 0.017742604, -0.14941521, 0.25984...   \n",
       "2      [0.10849612, 0.017496616, -0.14619425, 0.26836...   \n",
       "3      [0.12845756, 0.017484514, -0.13535379, 0.24379...   \n",
       "4      [0.10706033, 0.013306678, -0.14212927, 0.25449...   \n",
       "...                                                  ...   \n",
       "26018  [0.033977885, 0.2099972, -0.03804998, 0.106422...   \n",
       "26019  [0.040876266, 0.2043898, -0.015767168, 0.10294...   \n",
       "26020  [0.044713225, 0.1989737, -0.016214604, 0.09130...   \n",
       "26021  [0.044318486, 0.19327989, -0.017119728, 0.0940...   \n",
       "26022  [0.04461412, 0.199995, -0.020781625, 0.0949049...   \n",
       "\n",
       "                                                     esm  \\\n",
       "0      [-1.9012868, 0.22372644, 0.21296117, -0.166722...   \n",
       "1      [-1.91362, 0.15840982, 0.18624821, -0.169153, ...   \n",
       "2      [-1.8146169, 0.20834586, 0.23776329, -0.163906...   \n",
       "3      [-1.8452643, 0.23816845, 0.23408653, -0.152660...   \n",
       "4      [-1.8473366, 0.2200377, 0.23291773, -0.1457919...   \n",
       "...                                                  ...   \n",
       "26018  [-1.7197676, 0.03665721, 0.4062646, 0.27256438...   \n",
       "26019  [-1.6569757, 0.103168234, 0.37261948, 0.298090...   \n",
       "26020  [-1.8027551, -0.054471187, 0.356291, 0.2774920...   \n",
       "26021  [-1.8163025, -0.007135033, 0.3879411, 0.245572...   \n",
       "26022  [-1.8516614, -0.09044339, 0.37824488, 0.252750...   \n",
       "\n",
       "                                                  onehot  \\\n",
       "0      [0.08450704, 0.024647888, 0.08450704, 0.045774...   \n",
       "1      [0.08098592, 0.024647888, 0.08450704, 0.042253...   \n",
       "2      [0.08450704, 0.02112676, 0.08450704, 0.0457746...   \n",
       "3      [0.08450704, 0.024647888, 0.08098592, 0.045774...   \n",
       "4      [0.08450704, 0.024647888, 0.08450704, 0.045774...   \n",
       "...                                                  ...   \n",
       "26018  [0.07219251, 0.0, 0.07486631, 0.040106952, 0.0...   \n",
       "26019  [0.08042896, 0.0, 0.061662197, 0.048257373, 0....   \n",
       "26020  [0.08108108, 0.0, 0.06216216, 0.045945946, 0.0...   \n",
       "26021  [0.08108108, 0.0, 0.06216216, 0.048648648, 0.0...   \n",
       "26022  [0.07837838, 0.0, 0.06216216, 0.045945946, 0.0...   \n",
       "\n",
       "                                                 t5xlu50  \\\n",
       "0      [0.008956722, 0.02665889, 0.02402008, 0.014990...   \n",
       "1      [0.0076766736, 0.027014462, 0.027420135, 0.013...   \n",
       "2      [0.009324158, 0.02478514, 0.022525383, 0.01392...   \n",
       "3      [0.004128871, 0.033653855, 0.028860169, 0.0124...   \n",
       "4      [0.0077304444, 0.029016294, 0.023319585, 0.014...   \n",
       "...                                                  ...   \n",
       "26018  [0.007419476, 0.007811315, -0.021516398, 0.019...   \n",
       "26019  [0.011291199, 0.003993584, -0.023162339, 0.025...   \n",
       "26020  [0.009738536, 0.0032915308, -0.022912802, 0.02...   \n",
       "26021  [0.011506303, 0.00066137884, -0.02221559, 0.02...   \n",
       "26022  [0.010414982, 0.002133661, -0.024551, 0.021942...   \n",
       "\n",
       "                                                   t5bfd  \\\n",
       "0      [0.023663048, -0.0007369746, -0.0076412507, 0....   \n",
       "1      [0.026570462, 0.0026666287, -0.006873358, -0.0...   \n",
       "2      [0.02341963, -0.004910054, -0.008731285, 0.005...   \n",
       "3      [0.014434682, -0.0026827375, -0.003042692, 0.0...   \n",
       "4      [0.020652149, -0.00015262279, -0.0065017454, 0...   \n",
       "...                                                  ...   \n",
       "26018  [-0.013961067, -0.020913692, -0.023646962, 0.0...   \n",
       "26019  [-0.007916385, -0.015900034, -0.02986404, 0.03...   \n",
       "26020  [4.8287977e-05, -0.01686286, -0.03582304, 0.02...   \n",
       "26021  [0.004785993, -0.01697322, -0.0355139, 0.02028...   \n",
       "26022  [0.0023922243, -0.015109096, -0.036721, 0.0201...   \n",
       "\n",
       "                                                   xlnet  \\\n",
       "0      [-0.19811592, 0.051563144, -0.005958873, 0.039...   \n",
       "1      [-0.21204372, 0.057212643, -0.011840693, 0.035...   \n",
       "2      [-0.1872002, 0.043762427, -0.03699141, 0.03243...   \n",
       "3      [-0.2078117, 0.05418699, 0.0056420905, 0.02040...   \n",
       "4      [-0.19173458, 0.04517981, -0.0330168, 0.023556...   \n",
       "...                                                  ...   \n",
       "26018  [-0.1441164, -0.02171367, 0.11034167, 0.145684...   \n",
       "26019  [-0.14152464, -0.020039544, 0.056525566, 0.157...   \n",
       "26020  [-0.16496508, -0.0207604, 0.077249505, 0.15154...   \n",
       "26021  [-0.15620558, -0.031111313, 0.07699773, 0.1406...   \n",
       "26022  [-0.15697424, -0.018054537, 0.087968335, 0.159...   \n",
       "\n",
       "                                                  bepler  \n",
       "0      [0.08450704, 0.045774646, 0.07042254, 0.084507...  \n",
       "1      [0.08098592, 0.045774646, 0.07042254, 0.084507...  \n",
       "2      [0.08450704, 0.045774646, 0.07042254, 0.084507...  \n",
       "3      [0.08450704, 0.045774646, 0.07042254, 0.080985...  \n",
       "4      [0.08450704, 0.045774646, 0.07042254, 0.084507...  \n",
       "...                                                  ...  \n",
       "26018  [0.07219251, 0.021390375, 0.06417112, 0.074866...  \n",
       "26019  [0.08042896, 0.021447722, 0.077747986, 0.06166...  \n",
       "26020  [0.08108108, 0.021621622, 0.06486487, 0.062162...  \n",
       "26021  [0.08108108, 0.021621622, 0.067567565, 0.06216...  \n",
       "26022  [0.07837838, 0.021621622, 0.07027027, 0.062162...  \n",
       "\n",
       "[26023 rows x 9 columns]"
      ]
     },
     "execution_count": 5,
     "metadata": {},
     "output_type": "execute_result"
    }
   ],
   "source": [
    "df_concat"
   ]
  },
  {
   "cell_type": "markdown",
   "id": "c3dace91",
   "metadata": {
    "heading_collapsed": true
   },
   "source": [
    "# load carp embeddings "
   ]
  },
  {
   "cell_type": "code",
   "execution_count": 6,
   "id": "60cfc688",
   "metadata": {
    "ExecuteTime": {
     "end_time": "2022-10-14T19:13:14.699872Z",
     "start_time": "2022-10-14T19:13:13.629583Z"
    },
    "hidden": true
   },
   "outputs": [
    {
     "name": "stderr",
     "output_type": "stream",
     "text": [
      "/tmp/ipykernel_192767/731536151.py:16: FutureWarning: The default value of regex will change from True to False in a future version.\n",
      "  carp_class_a[\"seq_id\"] = carp_class_a[\"filename\"].str.replace(\"_carp_640M_56_mean.pt\",\"\")\n"
     ]
    },
    {
     "data": {
      "text/html": [
       "<div>\n",
       "<style scoped>\n",
       "    .dataframe tbody tr th:only-of-type {\n",
       "        vertical-align: middle;\n",
       "    }\n",
       "\n",
       "    .dataframe tbody tr th {\n",
       "        vertical-align: top;\n",
       "    }\n",
       "\n",
       "    .dataframe thead th {\n",
       "        text-align: right;\n",
       "    }\n",
       "</style>\n",
       "<table border=\"1\" class=\"dataframe\">\n",
       "  <thead>\n",
       "    <tr style=\"text-align: right;\">\n",
       "      <th></th>\n",
       "      <th>filename</th>\n",
       "      <th>seq_id</th>\n",
       "      <th>carp640M</th>\n",
       "      <th>dir</th>\n",
       "      <th>id</th>\n",
       "    </tr>\n",
       "  </thead>\n",
       "  <tbody>\n",
       "    <tr>\n",
       "      <th>809</th>\n",
       "      <td>seq_0_carp_640M_56_mean.pt</td>\n",
       "      <td>seq_0</td>\n",
       "      <td>[8.911173, 9.043713, 2.4614172, 12.103228, -8....</td>\n",
       "      <td>class_a</td>\n",
       "      <td>0</td>\n",
       "    </tr>\n",
       "    <tr>\n",
       "      <th>9069</th>\n",
       "      <td>seq_1_carp_640M_56_mean.pt</td>\n",
       "      <td>seq_1</td>\n",
       "      <td>[8.887652, 9.320681, 2.41787, 12.194232, -8.64...</td>\n",
       "      <td>class_a</td>\n",
       "      <td>1</td>\n",
       "    </tr>\n",
       "    <tr>\n",
       "      <th>5941</th>\n",
       "      <td>seq_2_carp_640M_56_mean.pt</td>\n",
       "      <td>seq_2</td>\n",
       "      <td>[8.827172, 8.74543, 2.4937172, 12.3279085, -8....</td>\n",
       "      <td>class_a</td>\n",
       "      <td>2</td>\n",
       "    </tr>\n",
       "    <tr>\n",
       "      <th>6922</th>\n",
       "      <td>seq_3_carp_640M_56_mean.pt</td>\n",
       "      <td>seq_3</td>\n",
       "      <td>[8.501886, 9.030052, 2.3223486, 11.952613, -9....</td>\n",
       "      <td>class_a</td>\n",
       "      <td>3</td>\n",
       "    </tr>\n",
       "    <tr>\n",
       "      <th>11903</th>\n",
       "      <td>seq_4_carp_640M_56_mean.pt</td>\n",
       "      <td>seq_4</td>\n",
       "      <td>[8.907578, 8.904117, 2.4000638, 12.001774, -9....</td>\n",
       "      <td>class_a</td>\n",
       "      <td>4</td>\n",
       "    </tr>\n",
       "    <tr>\n",
       "      <th>...</th>\n",
       "      <td>...</td>\n",
       "      <td>...</td>\n",
       "      <td>...</td>\n",
       "      <td>...</td>\n",
       "      <td>...</td>\n",
       "    </tr>\n",
       "    <tr>\n",
       "      <th>7438</th>\n",
       "      <td>seq_13310_carp_640M_56_mean.pt</td>\n",
       "      <td>seq_13310</td>\n",
       "      <td>[9.298565, 9.77621, 3.475284, 12.765742, -8.05...</td>\n",
       "      <td>class_a</td>\n",
       "      <td>13310</td>\n",
       "    </tr>\n",
       "    <tr>\n",
       "      <th>537</th>\n",
       "      <td>seq_13311_carp_640M_56_mean.pt</td>\n",
       "      <td>seq_13311</td>\n",
       "      <td>[8.594049, 10.325491, 3.7319634, 13.251687, -9...</td>\n",
       "      <td>class_a</td>\n",
       "      <td>13311</td>\n",
       "    </tr>\n",
       "    <tr>\n",
       "      <th>12897</th>\n",
       "      <td>seq_13312_carp_640M_56_mean.pt</td>\n",
       "      <td>seq_13312</td>\n",
       "      <td>[9.008232, 10.09275, 3.365837, 12.9235735, -8....</td>\n",
       "      <td>class_a</td>\n",
       "      <td>13312</td>\n",
       "    </tr>\n",
       "    <tr>\n",
       "      <th>7021</th>\n",
       "      <td>seq_13313_carp_640M_56_mean.pt</td>\n",
       "      <td>seq_13313</td>\n",
       "      <td>[8.88595, 10.099894, 3.3315558, 12.989143, -8....</td>\n",
       "      <td>class_a</td>\n",
       "      <td>13313</td>\n",
       "    </tr>\n",
       "    <tr>\n",
       "      <th>3754</th>\n",
       "      <td>seq_26022_carp_640M_56_mean.pt</td>\n",
       "      <td>seq_26022</td>\n",
       "      <td>[6.209876, 9.632688, 3.882178, 11.156704, -0.2...</td>\n",
       "      <td>class_a</td>\n",
       "      <td>26022</td>\n",
       "    </tr>\n",
       "  </tbody>\n",
       "</table>\n",
       "<p>13315 rows × 5 columns</p>\n",
       "</div>"
      ],
      "text/plain": [
       "                             filename     seq_id  \\\n",
       "809        seq_0_carp_640M_56_mean.pt      seq_0   \n",
       "9069       seq_1_carp_640M_56_mean.pt      seq_1   \n",
       "5941       seq_2_carp_640M_56_mean.pt      seq_2   \n",
       "6922       seq_3_carp_640M_56_mean.pt      seq_3   \n",
       "11903      seq_4_carp_640M_56_mean.pt      seq_4   \n",
       "...                               ...        ...   \n",
       "7438   seq_13310_carp_640M_56_mean.pt  seq_13310   \n",
       "537    seq_13311_carp_640M_56_mean.pt  seq_13311   \n",
       "12897  seq_13312_carp_640M_56_mean.pt  seq_13312   \n",
       "7021   seq_13313_carp_640M_56_mean.pt  seq_13313   \n",
       "3754   seq_26022_carp_640M_56_mean.pt  seq_26022   \n",
       "\n",
       "                                                carp640M      dir     id  \n",
       "809    [8.911173, 9.043713, 2.4614172, 12.103228, -8....  class_a      0  \n",
       "9069   [8.887652, 9.320681, 2.41787, 12.194232, -8.64...  class_a      1  \n",
       "5941   [8.827172, 8.74543, 2.4937172, 12.3279085, -8....  class_a      2  \n",
       "6922   [8.501886, 9.030052, 2.3223486, 11.952613, -9....  class_a      3  \n",
       "11903  [8.907578, 8.904117, 2.4000638, 12.001774, -9....  class_a      4  \n",
       "...                                                  ...      ...    ...  \n",
       "7438   [9.298565, 9.77621, 3.475284, 12.765742, -8.05...  class_a  13310  \n",
       "537    [8.594049, 10.325491, 3.7319634, 13.251687, -9...  class_a  13311  \n",
       "12897  [9.008232, 10.09275, 3.365837, 12.9235735, -8....  class_a  13312  \n",
       "7021   [8.88595, 10.099894, 3.3315558, 12.989143, -8....  class_a  13313  \n",
       "3754   [6.209876, 9.632688, 3.882178, 11.156704, -0.2...  class_a  26022  \n",
       "\n",
       "[13315 rows x 5 columns]"
      ]
     },
     "execution_count": 6,
     "metadata": {},
     "output_type": "execute_result"
    }
   ],
   "source": [
    "# load carp embeddings\n",
    "path = \"../results/embeddings/carp/class_a/\"\n",
    "l_name = []\n",
    "l_data = []\n",
    "    \n",
    "# take the filename and embedding\n",
    "for file in os.listdir(path):\n",
    "    l_name.append(file)\n",
    "    filename = path + file\n",
    "    embedding = torch.load(filename).numpy()\n",
    "    l_data.append(embedding)\n",
    "\n",
    "# create a df with the data    \n",
    "carp_class_a = pd.DataFrame()\n",
    "carp_class_a[\"filename\"] = l_name\n",
    "carp_class_a[\"seq_id\"] = carp_class_a[\"filename\"].str.replace(\"_carp_640M_56_mean.pt\",\"\")\n",
    "carp_class_a[\"carp640M\"] = l_data\n",
    "carp_class_a[\"dir\"] = \"class_a\"\n",
    "carp_class_a[\"id\"] = carp_class_a.seq_id.str.replace(\"seq_\", \"\")\n",
    "carp_class_a[\"id\"] = carp_class_a[\"id\"].astype(int)\n",
    "carp_class_a.sort_values(\"id\", ascending = True)"
   ]
  },
  {
   "cell_type": "code",
   "execution_count": 8,
   "id": "3c448d34",
   "metadata": {
    "ExecuteTime": {
     "end_time": "2022-10-14T19:13:20.368516Z",
     "start_time": "2022-10-14T19:13:20.071900Z"
    },
    "hidden": true
   },
   "outputs": [
    {
     "name": "stderr",
     "output_type": "stream",
     "text": [
      "/tmp/ipykernel_192767/259886226.py:16: FutureWarning: The default value of regex will change from True to False in a future version.\n",
      "  carp_class_b[\"seq_id\"] = carp_class_b[\"filename\"].str.replace(\"_carp_640M_56_mean.pt\",\"\")\n"
     ]
    },
    {
     "data": {
      "text/html": [
       "<div>\n",
       "<style scoped>\n",
       "    .dataframe tbody tr th:only-of-type {\n",
       "        vertical-align: middle;\n",
       "    }\n",
       "\n",
       "    .dataframe tbody tr th {\n",
       "        vertical-align: top;\n",
       "    }\n",
       "\n",
       "    .dataframe thead th {\n",
       "        text-align: right;\n",
       "    }\n",
       "</style>\n",
       "<table border=\"1\" class=\"dataframe\">\n",
       "  <thead>\n",
       "    <tr style=\"text-align: right;\">\n",
       "      <th></th>\n",
       "      <th>filename</th>\n",
       "      <th>seq_id</th>\n",
       "      <th>carp640M</th>\n",
       "      <th>dir</th>\n",
       "      <th>id</th>\n",
       "    </tr>\n",
       "  </thead>\n",
       "  <tbody>\n",
       "    <tr>\n",
       "      <th>1862</th>\n",
       "      <td>seq_13314_carp_640M_56_mean.pt</td>\n",
       "      <td>seq_13314</td>\n",
       "      <td>[9.506836, 5.2677608, 1.9934124, 15.516398, -3...</td>\n",
       "      <td>class_b</td>\n",
       "      <td>13314</td>\n",
       "    </tr>\n",
       "    <tr>\n",
       "      <th>1576</th>\n",
       "      <td>seq_13315_carp_640M_56_mean.pt</td>\n",
       "      <td>seq_13315</td>\n",
       "      <td>[8.117428, 8.44903, 2.1234822, 12.586117, -3.3...</td>\n",
       "      <td>class_b</td>\n",
       "      <td>13315</td>\n",
       "    </tr>\n",
       "    <tr>\n",
       "      <th>1221</th>\n",
       "      <td>seq_13316_carp_640M_56_mean.pt</td>\n",
       "      <td>seq_13316</td>\n",
       "      <td>[6.7520676, 7.2846003, -0.5249081, 9.939652, -...</td>\n",
       "      <td>class_b</td>\n",
       "      <td>13316</td>\n",
       "    </tr>\n",
       "    <tr>\n",
       "      <th>2322</th>\n",
       "      <td>seq_13317_carp_640M_56_mean.pt</td>\n",
       "      <td>seq_13317</td>\n",
       "      <td>[6.7733607, 7.386556, -0.5353698, 10.100129, -...</td>\n",
       "      <td>class_b</td>\n",
       "      <td>13317</td>\n",
       "    </tr>\n",
       "    <tr>\n",
       "      <th>934</th>\n",
       "      <td>seq_13318_carp_640M_56_mean.pt</td>\n",
       "      <td>seq_13318</td>\n",
       "      <td>[6.7181764, 7.325715, -0.47170982, 10.129418, ...</td>\n",
       "      <td>class_b</td>\n",
       "      <td>13318</td>\n",
       "    </tr>\n",
       "    <tr>\n",
       "      <th>...</th>\n",
       "      <td>...</td>\n",
       "      <td>...</td>\n",
       "      <td>...</td>\n",
       "      <td>...</td>\n",
       "      <td>...</td>\n",
       "    </tr>\n",
       "    <tr>\n",
       "      <th>2492</th>\n",
       "      <td>seq_16439_carp_640M_56_mean.pt</td>\n",
       "      <td>seq_16439</td>\n",
       "      <td>[9.520145, 5.6333327, -0.6060278, 16.889011, -...</td>\n",
       "      <td>class_b</td>\n",
       "      <td>16439</td>\n",
       "    </tr>\n",
       "    <tr>\n",
       "      <th>206</th>\n",
       "      <td>seq_16440_carp_640M_56_mean.pt</td>\n",
       "      <td>seq_16440</td>\n",
       "      <td>[9.250841, 6.3928514, -0.45666486, 15.904923, ...</td>\n",
       "      <td>class_b</td>\n",
       "      <td>16440</td>\n",
       "    </tr>\n",
       "    <tr>\n",
       "      <th>2879</th>\n",
       "      <td>seq_16441_carp_640M_56_mean.pt</td>\n",
       "      <td>seq_16441</td>\n",
       "      <td>[9.698163, 5.6800723, -0.91887456, 16.240423, ...</td>\n",
       "      <td>class_b</td>\n",
       "      <td>16441</td>\n",
       "    </tr>\n",
       "    <tr>\n",
       "      <th>2020</th>\n",
       "      <td>seq_16442_carp_640M_56_mean.pt</td>\n",
       "      <td>seq_16442</td>\n",
       "      <td>[10.538936, 5.216782, -1.3825138, 16.55058, -2...</td>\n",
       "      <td>class_b</td>\n",
       "      <td>16442</td>\n",
       "    </tr>\n",
       "    <tr>\n",
       "      <th>993</th>\n",
       "      <td>seq_16443_carp_640M_56_mean.pt</td>\n",
       "      <td>seq_16443</td>\n",
       "      <td>[9.494429, 5.7979045, -1.0770565, 16.170883, -...</td>\n",
       "      <td>class_b</td>\n",
       "      <td>16443</td>\n",
       "    </tr>\n",
       "  </tbody>\n",
       "</table>\n",
       "<p>3130 rows × 5 columns</p>\n",
       "</div>"
      ],
      "text/plain": [
       "                            filename     seq_id  \\\n",
       "1862  seq_13314_carp_640M_56_mean.pt  seq_13314   \n",
       "1576  seq_13315_carp_640M_56_mean.pt  seq_13315   \n",
       "1221  seq_13316_carp_640M_56_mean.pt  seq_13316   \n",
       "2322  seq_13317_carp_640M_56_mean.pt  seq_13317   \n",
       "934   seq_13318_carp_640M_56_mean.pt  seq_13318   \n",
       "...                              ...        ...   \n",
       "2492  seq_16439_carp_640M_56_mean.pt  seq_16439   \n",
       "206   seq_16440_carp_640M_56_mean.pt  seq_16440   \n",
       "2879  seq_16441_carp_640M_56_mean.pt  seq_16441   \n",
       "2020  seq_16442_carp_640M_56_mean.pt  seq_16442   \n",
       "993   seq_16443_carp_640M_56_mean.pt  seq_16443   \n",
       "\n",
       "                                               carp640M      dir     id  \n",
       "1862  [9.506836, 5.2677608, 1.9934124, 15.516398, -3...  class_b  13314  \n",
       "1576  [8.117428, 8.44903, 2.1234822, 12.586117, -3.3...  class_b  13315  \n",
       "1221  [6.7520676, 7.2846003, -0.5249081, 9.939652, -...  class_b  13316  \n",
       "2322  [6.7733607, 7.386556, -0.5353698, 10.100129, -...  class_b  13317  \n",
       "934   [6.7181764, 7.325715, -0.47170982, 10.129418, ...  class_b  13318  \n",
       "...                                                 ...      ...    ...  \n",
       "2492  [9.520145, 5.6333327, -0.6060278, 16.889011, -...  class_b  16439  \n",
       "206   [9.250841, 6.3928514, -0.45666486, 15.904923, ...  class_b  16440  \n",
       "2879  [9.698163, 5.6800723, -0.91887456, 16.240423, ...  class_b  16441  \n",
       "2020  [10.538936, 5.216782, -1.3825138, 16.55058, -2...  class_b  16442  \n",
       "993   [9.494429, 5.7979045, -1.0770565, 16.170883, -...  class_b  16443  \n",
       "\n",
       "[3130 rows x 5 columns]"
      ]
     },
     "execution_count": 8,
     "metadata": {},
     "output_type": "execute_result"
    }
   ],
   "source": [
    "# load carp embeddings\n",
    "path = \"../results/embeddings/carp/class_b/\"\n",
    "l_name = []\n",
    "l_data = []\n",
    "    \n",
    "# take the filename and embedding\n",
    "for file in os.listdir(path):\n",
    "    l_name.append(file)\n",
    "    filename = path + file\n",
    "    embedding = torch.load(filename).numpy()\n",
    "    l_data.append(embedding)\n",
    "\n",
    "# create a df with the data    \n",
    "carp_class_b = pd.DataFrame()\n",
    "carp_class_b[\"filename\"] = l_name\n",
    "carp_class_b[\"seq_id\"] = carp_class_b[\"filename\"].str.replace(\"_carp_640M_56_mean.pt\",\"\")\n",
    "carp_class_b[\"carp640M\"] = l_data\n",
    "carp_class_b[\"dir\"] = \"class_b\"\n",
    "carp_class_b[\"id\"] = carp_class_b.seq_id.str.replace(\"seq_\", \"\")\n",
    "carp_class_b[\"id\"] = carp_class_b[\"id\"].astype(int)\n",
    "carp_class_b.sort_values(\"id\", ascending = True)"
   ]
  },
  {
   "cell_type": "code",
   "execution_count": 10,
   "id": "9a96375d",
   "metadata": {
    "ExecuteTime": {
     "end_time": "2022-10-14T19:13:24.106277Z",
     "start_time": "2022-10-14T19:13:23.551284Z"
    },
    "hidden": true
   },
   "outputs": [
    {
     "name": "stderr",
     "output_type": "stream",
     "text": [
      "/tmp/ipykernel_192767/3136154209.py:16: FutureWarning: The default value of regex will change from True to False in a future version.\n",
      "  carp_class_c[\"seq_id\"] = carp_class_c[\"filename\"].str.replace(\"_carp_640M_56_mean.pt\",\"\")\n"
     ]
    },
    {
     "data": {
      "text/html": [
       "<div>\n",
       "<style scoped>\n",
       "    .dataframe tbody tr th:only-of-type {\n",
       "        vertical-align: middle;\n",
       "    }\n",
       "\n",
       "    .dataframe tbody tr th {\n",
       "        vertical-align: top;\n",
       "    }\n",
       "\n",
       "    .dataframe thead th {\n",
       "        text-align: right;\n",
       "    }\n",
       "</style>\n",
       "<table border=\"1\" class=\"dataframe\">\n",
       "  <thead>\n",
       "    <tr style=\"text-align: right;\">\n",
       "      <th></th>\n",
       "      <th>filename</th>\n",
       "      <th>seq_id</th>\n",
       "      <th>carp640M</th>\n",
       "      <th>dir</th>\n",
       "      <th>id</th>\n",
       "    </tr>\n",
       "  </thead>\n",
       "  <tbody>\n",
       "    <tr>\n",
       "      <th>879</th>\n",
       "      <td>seq_16444_carp_640M_56_mean.pt</td>\n",
       "      <td>seq_16444</td>\n",
       "      <td>[9.366125, 4.728875, 3.0091481, 12.643049, -12...</td>\n",
       "      <td>class_c</td>\n",
       "      <td>16444</td>\n",
       "    </tr>\n",
       "    <tr>\n",
       "      <th>5180</th>\n",
       "      <td>seq_16445_carp_640M_56_mean.pt</td>\n",
       "      <td>seq_16445</td>\n",
       "      <td>[9.374871, 4.5755405, 2.9580393, 12.671601, -1...</td>\n",
       "      <td>class_c</td>\n",
       "      <td>16445</td>\n",
       "    </tr>\n",
       "    <tr>\n",
       "      <th>2476</th>\n",
       "      <td>seq_16446_carp_640M_56_mean.pt</td>\n",
       "      <td>seq_16446</td>\n",
       "      <td>[9.351075, 4.5367837, 2.9236226, 12.633847, -1...</td>\n",
       "      <td>class_c</td>\n",
       "      <td>16446</td>\n",
       "    </tr>\n",
       "    <tr>\n",
       "      <th>1719</th>\n",
       "      <td>seq_16447_carp_640M_56_mean.pt</td>\n",
       "      <td>seq_16447</td>\n",
       "      <td>[9.358681, 4.589947, 2.7995436, 12.579063, -12...</td>\n",
       "      <td>class_c</td>\n",
       "      <td>16447</td>\n",
       "    </tr>\n",
       "    <tr>\n",
       "      <th>1146</th>\n",
       "      <td>seq_16448_carp_640M_56_mean.pt</td>\n",
       "      <td>seq_16448</td>\n",
       "      <td>[9.285896, 4.6098433, 3.0260744, 12.644837, -1...</td>\n",
       "      <td>class_c</td>\n",
       "      <td>16448</td>\n",
       "    </tr>\n",
       "    <tr>\n",
       "      <th>...</th>\n",
       "      <td>...</td>\n",
       "      <td>...</td>\n",
       "      <td>...</td>\n",
       "      <td>...</td>\n",
       "      <td>...</td>\n",
       "    </tr>\n",
       "    <tr>\n",
       "      <th>1244</th>\n",
       "      <td>seq_23025_carp_640M_56_mean.pt</td>\n",
       "      <td>seq_23025</td>\n",
       "      <td>[7.8151956, 7.5524073, 1.9551579, 11.349202, -...</td>\n",
       "      <td>class_c</td>\n",
       "      <td>23025</td>\n",
       "    </tr>\n",
       "    <tr>\n",
       "      <th>5517</th>\n",
       "      <td>seq_23026_carp_640M_56_mean.pt</td>\n",
       "      <td>seq_23026</td>\n",
       "      <td>[7.0655107, 8.451721, 2.0127277, 11.865546, -9...</td>\n",
       "      <td>class_c</td>\n",
       "      <td>23026</td>\n",
       "    </tr>\n",
       "    <tr>\n",
       "      <th>6004</th>\n",
       "      <td>seq_23027_carp_640M_56_mean.pt</td>\n",
       "      <td>seq_23027</td>\n",
       "      <td>[8.616677, 7.2676826, 1.4543375, 11.42079, -8....</td>\n",
       "      <td>class_c</td>\n",
       "      <td>23027</td>\n",
       "    </tr>\n",
       "    <tr>\n",
       "      <th>1593</th>\n",
       "      <td>seq_23028_carp_640M_56_mean.pt</td>\n",
       "      <td>seq_23028</td>\n",
       "      <td>[8.18594, 7.5542316, 1.9543284, 11.6812, -8.73...</td>\n",
       "      <td>class_c</td>\n",
       "      <td>23028</td>\n",
       "    </tr>\n",
       "    <tr>\n",
       "      <th>1644</th>\n",
       "      <td>seq_23029_carp_640M_56_mean.pt</td>\n",
       "      <td>seq_23029</td>\n",
       "      <td>[7.730326, 7.490885, 1.1997309, 12.062678, -9....</td>\n",
       "      <td>class_c</td>\n",
       "      <td>23029</td>\n",
       "    </tr>\n",
       "  </tbody>\n",
       "</table>\n",
       "<p>6586 rows × 5 columns</p>\n",
       "</div>"
      ],
      "text/plain": [
       "                            filename     seq_id  \\\n",
       "879   seq_16444_carp_640M_56_mean.pt  seq_16444   \n",
       "5180  seq_16445_carp_640M_56_mean.pt  seq_16445   \n",
       "2476  seq_16446_carp_640M_56_mean.pt  seq_16446   \n",
       "1719  seq_16447_carp_640M_56_mean.pt  seq_16447   \n",
       "1146  seq_16448_carp_640M_56_mean.pt  seq_16448   \n",
       "...                              ...        ...   \n",
       "1244  seq_23025_carp_640M_56_mean.pt  seq_23025   \n",
       "5517  seq_23026_carp_640M_56_mean.pt  seq_23026   \n",
       "6004  seq_23027_carp_640M_56_mean.pt  seq_23027   \n",
       "1593  seq_23028_carp_640M_56_mean.pt  seq_23028   \n",
       "1644  seq_23029_carp_640M_56_mean.pt  seq_23029   \n",
       "\n",
       "                                               carp640M      dir     id  \n",
       "879   [9.366125, 4.728875, 3.0091481, 12.643049, -12...  class_c  16444  \n",
       "5180  [9.374871, 4.5755405, 2.9580393, 12.671601, -1...  class_c  16445  \n",
       "2476  [9.351075, 4.5367837, 2.9236226, 12.633847, -1...  class_c  16446  \n",
       "1719  [9.358681, 4.589947, 2.7995436, 12.579063, -12...  class_c  16447  \n",
       "1146  [9.285896, 4.6098433, 3.0260744, 12.644837, -1...  class_c  16448  \n",
       "...                                                 ...      ...    ...  \n",
       "1244  [7.8151956, 7.5524073, 1.9551579, 11.349202, -...  class_c  23025  \n",
       "5517  [7.0655107, 8.451721, 2.0127277, 11.865546, -9...  class_c  23026  \n",
       "6004  [8.616677, 7.2676826, 1.4543375, 11.42079, -8....  class_c  23027  \n",
       "1593  [8.18594, 7.5542316, 1.9543284, 11.6812, -8.73...  class_c  23028  \n",
       "1644  [7.730326, 7.490885, 1.1997309, 12.062678, -9....  class_c  23029  \n",
       "\n",
       "[6586 rows x 5 columns]"
      ]
     },
     "execution_count": 10,
     "metadata": {},
     "output_type": "execute_result"
    }
   ],
   "source": [
    "# load carp embeddings\n",
    "path = \"../results/embeddings/carp/class_c/\"\n",
    "l_name = []\n",
    "l_data = []\n",
    "    \n",
    "# take the filename and embedding\n",
    "for file in os.listdir(path):\n",
    "    l_name.append(file)\n",
    "    filename = path + file\n",
    "    embedding = torch.load(filename).numpy()\n",
    "    l_data.append(embedding)\n",
    "\n",
    "# create a df with the data    \n",
    "carp_class_c = pd.DataFrame()\n",
    "carp_class_c[\"filename\"] = l_name\n",
    "carp_class_c[\"seq_id\"] = carp_class_c[\"filename\"].str.replace(\"_carp_640M_56_mean.pt\",\"\")\n",
    "carp_class_c[\"carp640M\"] = l_data\n",
    "carp_class_c[\"dir\"] = \"class_c\"\n",
    "carp_class_c[\"id\"] = carp_class_c.seq_id.str.replace(\"seq_\", \"\")\n",
    "carp_class_c[\"id\"] = carp_class_c[\"id\"].astype(int)\n",
    "carp_class_c.sort_values(\"id\", ascending = True)"
   ]
  },
  {
   "cell_type": "code",
   "execution_count": 13,
   "id": "476b767c",
   "metadata": {
    "ExecuteTime": {
     "end_time": "2022-10-14T19:13:30.259951Z",
     "start_time": "2022-10-14T19:13:30.016141Z"
    },
    "hidden": true
   },
   "outputs": [
    {
     "name": "stderr",
     "output_type": "stream",
     "text": [
      "/tmp/ipykernel_192767/1886970185.py:16: FutureWarning: The default value of regex will change from True to False in a future version.\n",
      "  carp_class_d[\"seq_id\"] = carp_class_d[\"filename\"].str.replace(\"_carp_640M_56_mean.pt\",\"\")\n"
     ]
    },
    {
     "data": {
      "text/html": [
       "<div>\n",
       "<style scoped>\n",
       "    .dataframe tbody tr th:only-of-type {\n",
       "        vertical-align: middle;\n",
       "    }\n",
       "\n",
       "    .dataframe tbody tr th {\n",
       "        vertical-align: top;\n",
       "    }\n",
       "\n",
       "    .dataframe thead th {\n",
       "        text-align: right;\n",
       "    }\n",
       "</style>\n",
       "<table border=\"1\" class=\"dataframe\">\n",
       "  <thead>\n",
       "    <tr style=\"text-align: right;\">\n",
       "      <th></th>\n",
       "      <th>filename</th>\n",
       "      <th>seq_id</th>\n",
       "      <th>carp640M</th>\n",
       "      <th>dir</th>\n",
       "      <th>id</th>\n",
       "    </tr>\n",
       "  </thead>\n",
       "  <tbody>\n",
       "    <tr>\n",
       "      <th>2132</th>\n",
       "      <td>seq_23030_carp_640M_56_mean.pt</td>\n",
       "      <td>seq_23030</td>\n",
       "      <td>[7.4592166, 9.642815, 2.4085479, 11.90682, -10...</td>\n",
       "      <td>class_d</td>\n",
       "      <td>23030</td>\n",
       "    </tr>\n",
       "    <tr>\n",
       "      <th>1666</th>\n",
       "      <td>seq_23031_carp_640M_56_mean.pt</td>\n",
       "      <td>seq_23031</td>\n",
       "      <td>[7.6058183, 9.506866, 2.6843328, 12.542347, -9...</td>\n",
       "      <td>class_d</td>\n",
       "      <td>23031</td>\n",
       "    </tr>\n",
       "    <tr>\n",
       "      <th>1014</th>\n",
       "      <td>seq_23032_carp_640M_56_mean.pt</td>\n",
       "      <td>seq_23032</td>\n",
       "      <td>[8.80992, 9.358631, 2.6353078, 14.741988, -9.5...</td>\n",
       "      <td>class_d</td>\n",
       "      <td>23032</td>\n",
       "    </tr>\n",
       "    <tr>\n",
       "      <th>1010</th>\n",
       "      <td>seq_23033_carp_640M_56_mean.pt</td>\n",
       "      <td>seq_23033</td>\n",
       "      <td>[8.8024235, 9.398514, 2.7102263, 14.757522, -9...</td>\n",
       "      <td>class_d</td>\n",
       "      <td>23033</td>\n",
       "    </tr>\n",
       "    <tr>\n",
       "      <th>1154</th>\n",
       "      <td>seq_23034_carp_640M_56_mean.pt</td>\n",
       "      <td>seq_23034</td>\n",
       "      <td>[8.440955, 9.319241, 2.839442, 14.151766, -9.1...</td>\n",
       "      <td>class_d</td>\n",
       "      <td>23034</td>\n",
       "    </tr>\n",
       "    <tr>\n",
       "      <th>...</th>\n",
       "      <td>...</td>\n",
       "      <td>...</td>\n",
       "      <td>...</td>\n",
       "      <td>...</td>\n",
       "      <td>...</td>\n",
       "    </tr>\n",
       "    <tr>\n",
       "      <th>1228</th>\n",
       "      <td>seq_25804_carp_640M_56_mean.pt</td>\n",
       "      <td>seq_25804</td>\n",
       "      <td>[7.6880665, 11.278121, 1.4262623, 11.862281, -...</td>\n",
       "      <td>class_d</td>\n",
       "      <td>25804</td>\n",
       "    </tr>\n",
       "    <tr>\n",
       "      <th>2370</th>\n",
       "      <td>seq_25805_carp_640M_56_mean.pt</td>\n",
       "      <td>seq_25805</td>\n",
       "      <td>[10.625811, 10.221792, 2.8077595, 13.481938, -...</td>\n",
       "      <td>class_d</td>\n",
       "      <td>25805</td>\n",
       "    </tr>\n",
       "    <tr>\n",
       "      <th>482</th>\n",
       "      <td>seq_25806_carp_640M_56_mean.pt</td>\n",
       "      <td>seq_25806</td>\n",
       "      <td>[10.476247, 10.158006, 2.5369885, 10.953125, -...</td>\n",
       "      <td>class_d</td>\n",
       "      <td>25806</td>\n",
       "    </tr>\n",
       "    <tr>\n",
       "      <th>1441</th>\n",
       "      <td>seq_25807_carp_640M_56_mean.pt</td>\n",
       "      <td>seq_25807</td>\n",
       "      <td>[10.540076, 10.1925, 2.8740633, 11.618116, -6....</td>\n",
       "      <td>class_d</td>\n",
       "      <td>25807</td>\n",
       "    </tr>\n",
       "    <tr>\n",
       "      <th>2455</th>\n",
       "      <td>seq_25808_carp_640M_56_mean.pt</td>\n",
       "      <td>seq_25808</td>\n",
       "      <td>[8.825697, 10.173387, 2.2560565, 12.250915, -6...</td>\n",
       "      <td>class_d</td>\n",
       "      <td>25808</td>\n",
       "    </tr>\n",
       "  </tbody>\n",
       "</table>\n",
       "<p>2779 rows × 5 columns</p>\n",
       "</div>"
      ],
      "text/plain": [
       "                            filename     seq_id  \\\n",
       "2132  seq_23030_carp_640M_56_mean.pt  seq_23030   \n",
       "1666  seq_23031_carp_640M_56_mean.pt  seq_23031   \n",
       "1014  seq_23032_carp_640M_56_mean.pt  seq_23032   \n",
       "1010  seq_23033_carp_640M_56_mean.pt  seq_23033   \n",
       "1154  seq_23034_carp_640M_56_mean.pt  seq_23034   \n",
       "...                              ...        ...   \n",
       "1228  seq_25804_carp_640M_56_mean.pt  seq_25804   \n",
       "2370  seq_25805_carp_640M_56_mean.pt  seq_25805   \n",
       "482   seq_25806_carp_640M_56_mean.pt  seq_25806   \n",
       "1441  seq_25807_carp_640M_56_mean.pt  seq_25807   \n",
       "2455  seq_25808_carp_640M_56_mean.pt  seq_25808   \n",
       "\n",
       "                                               carp640M      dir     id  \n",
       "2132  [7.4592166, 9.642815, 2.4085479, 11.90682, -10...  class_d  23030  \n",
       "1666  [7.6058183, 9.506866, 2.6843328, 12.542347, -9...  class_d  23031  \n",
       "1014  [8.80992, 9.358631, 2.6353078, 14.741988, -9.5...  class_d  23032  \n",
       "1010  [8.8024235, 9.398514, 2.7102263, 14.757522, -9...  class_d  23033  \n",
       "1154  [8.440955, 9.319241, 2.839442, 14.151766, -9.1...  class_d  23034  \n",
       "...                                                 ...      ...    ...  \n",
       "1228  [7.6880665, 11.278121, 1.4262623, 11.862281, -...  class_d  25804  \n",
       "2370  [10.625811, 10.221792, 2.8077595, 13.481938, -...  class_d  25805  \n",
       "482   [10.476247, 10.158006, 2.5369885, 10.953125, -...  class_d  25806  \n",
       "1441  [10.540076, 10.1925, 2.8740633, 11.618116, -6....  class_d  25807  \n",
       "2455  [8.825697, 10.173387, 2.2560565, 12.250915, -6...  class_d  25808  \n",
       "\n",
       "[2779 rows x 5 columns]"
      ]
     },
     "execution_count": 13,
     "metadata": {},
     "output_type": "execute_result"
    }
   ],
   "source": [
    "# load carp embeddings\n",
    "path = \"../results/embeddings/carp/class_d/\"\n",
    "l_name = []\n",
    "l_data = []\n",
    "    \n",
    "# take the filename and embedding\n",
    "for file in os.listdir(path):\n",
    "    l_name.append(file)\n",
    "    filename = path + file\n",
    "    embedding = torch.load(filename).numpy()\n",
    "    l_data.append(embedding)\n",
    "\n",
    "# create a df with the data    \n",
    "carp_class_d = pd.DataFrame()\n",
    "carp_class_d[\"filename\"] = l_name\n",
    "carp_class_d[\"seq_id\"] = carp_class_d[\"filename\"].str.replace(\"_carp_640M_56_mean.pt\",\"\")\n",
    "carp_class_d[\"carp640M\"] = l_data\n",
    "carp_class_d[\"dir\"] = \"class_d\"\n",
    "carp_class_d[\"id\"] = carp_class_d.seq_id.str.replace(\"seq_\", \"\")\n",
    "carp_class_d[\"id\"] = carp_class_d[\"id\"].astype(int)\n",
    "carp_class_d.sort_values(\"id\", ascending = True)"
   ]
  },
  {
   "cell_type": "code",
   "execution_count": 15,
   "id": "aee37319",
   "metadata": {
    "ExecuteTime": {
     "end_time": "2022-10-14T19:13:33.291930Z",
     "start_time": "2022-10-14T19:13:33.273473Z"
    },
    "hidden": true
   },
   "outputs": [
    {
     "name": "stderr",
     "output_type": "stream",
     "text": [
      "/tmp/ipykernel_192767/2244701400.py:16: FutureWarning: The default value of regex will change from True to False in a future version.\n",
      "  carp_cons[\"seq_id\"] = carp_cons[\"filename\"].str.replace(\"_carp_640M_56_mean.pt\",\"\")\n"
     ]
    },
    {
     "data": {
      "text/html": [
       "<div>\n",
       "<style scoped>\n",
       "    .dataframe tbody tr th:only-of-type {\n",
       "        vertical-align: middle;\n",
       "    }\n",
       "\n",
       "    .dataframe tbody tr th {\n",
       "        vertical-align: top;\n",
       "    }\n",
       "\n",
       "    .dataframe thead th {\n",
       "        text-align: right;\n",
       "    }\n",
       "</style>\n",
       "<table border=\"1\" class=\"dataframe\">\n",
       "  <thead>\n",
       "    <tr style=\"text-align: right;\">\n",
       "      <th></th>\n",
       "      <th>filename</th>\n",
       "      <th>seq_id</th>\n",
       "      <th>carp640M</th>\n",
       "      <th>dir</th>\n",
       "      <th>id</th>\n",
       "    </tr>\n",
       "  </thead>\n",
       "  <tbody>\n",
       "    <tr>\n",
       "      <th>2</th>\n",
       "      <td>seq_25809_carp_640M_56_mean.pt</td>\n",
       "      <td>seq_25809</td>\n",
       "      <td>[5.6982894, 12.70192, -0.057406306, 7.884059, ...</td>\n",
       "      <td>cons</td>\n",
       "      <td>25809</td>\n",
       "    </tr>\n",
       "    <tr>\n",
       "      <th>1</th>\n",
       "      <td>seq_25810_carp_640M_56_mean.pt</td>\n",
       "      <td>seq_25810</td>\n",
       "      <td>[9.310182, 8.087947, 0.16631968, 16.626942, -4...</td>\n",
       "      <td>cons</td>\n",
       "      <td>25810</td>\n",
       "    </tr>\n",
       "    <tr>\n",
       "      <th>3</th>\n",
       "      <td>seq_25811_carp_640M_56_mean.pt</td>\n",
       "      <td>seq_25811</td>\n",
       "      <td>[8.014663, 8.179452, -2.8625538, 10.30443, -0....</td>\n",
       "      <td>cons</td>\n",
       "      <td>25811</td>\n",
       "    </tr>\n",
       "    <tr>\n",
       "      <th>5</th>\n",
       "      <td>seq_25812_carp_640M_56_mean.pt</td>\n",
       "      <td>seq_25812</td>\n",
       "      <td>[8.231857, 7.3754134, -2.5798056, 13.216648, -...</td>\n",
       "      <td>cons</td>\n",
       "      <td>25812</td>\n",
       "    </tr>\n",
       "    <tr>\n",
       "      <th>0</th>\n",
       "      <td>seq_25813_carp_640M_56_mean.pt</td>\n",
       "      <td>seq_25813</td>\n",
       "      <td>[2.623868, 9.422383, -1.1968611, 5.6219997, 1....</td>\n",
       "      <td>cons</td>\n",
       "      <td>25813</td>\n",
       "    </tr>\n",
       "    <tr>\n",
       "      <th>4</th>\n",
       "      <td>seq_25814_carp_640M_56_mean.pt</td>\n",
       "      <td>seq_25814</td>\n",
       "      <td>[9.224259, 4.813043, 0.5323614, 13.417575, -10...</td>\n",
       "      <td>cons</td>\n",
       "      <td>25814</td>\n",
       "    </tr>\n",
       "    <tr>\n",
       "      <th>6</th>\n",
       "      <td>seq_25815_carp_640M_56_mean.pt</td>\n",
       "      <td>seq_25815</td>\n",
       "      <td>[10.445989, 11.485371, 1.7541859, 13.957593, -...</td>\n",
       "      <td>cons</td>\n",
       "      <td>25815</td>\n",
       "    </tr>\n",
       "  </tbody>\n",
       "</table>\n",
       "</div>"
      ],
      "text/plain": [
       "                         filename     seq_id  \\\n",
       "2  seq_25809_carp_640M_56_mean.pt  seq_25809   \n",
       "1  seq_25810_carp_640M_56_mean.pt  seq_25810   \n",
       "3  seq_25811_carp_640M_56_mean.pt  seq_25811   \n",
       "5  seq_25812_carp_640M_56_mean.pt  seq_25812   \n",
       "0  seq_25813_carp_640M_56_mean.pt  seq_25813   \n",
       "4  seq_25814_carp_640M_56_mean.pt  seq_25814   \n",
       "6  seq_25815_carp_640M_56_mean.pt  seq_25815   \n",
       "\n",
       "                                            carp640M   dir     id  \n",
       "2  [5.6982894, 12.70192, -0.057406306, 7.884059, ...  cons  25809  \n",
       "1  [9.310182, 8.087947, 0.16631968, 16.626942, -4...  cons  25810  \n",
       "3  [8.014663, 8.179452, -2.8625538, 10.30443, -0....  cons  25811  \n",
       "5  [8.231857, 7.3754134, -2.5798056, 13.216648, -...  cons  25812  \n",
       "0  [2.623868, 9.422383, -1.1968611, 5.6219997, 1....  cons  25813  \n",
       "4  [9.224259, 4.813043, 0.5323614, 13.417575, -10...  cons  25814  \n",
       "6  [10.445989, 11.485371, 1.7541859, 13.957593, -...  cons  25815  "
      ]
     },
     "execution_count": 15,
     "metadata": {},
     "output_type": "execute_result"
    }
   ],
   "source": [
    "# load carp embeddings\n",
    "path = \"../results/embeddings/carp/cons/\"\n",
    "l_name = []\n",
    "l_data = []\n",
    "    \n",
    "# take the filename and embedding\n",
    "for file in os.listdir(path):\n",
    "    l_name.append(file)\n",
    "    filename = path + file\n",
    "    embedding = torch.load(filename).numpy()\n",
    "    l_data.append(embedding)\n",
    "\n",
    "# create a df with the data\n",
    "carp_cons = pd.DataFrame()\n",
    "carp_cons[\"filename\"] = l_name\n",
    "carp_cons[\"seq_id\"] = carp_cons[\"filename\"].str.replace(\"_carp_640M_56_mean.pt\",\"\")\n",
    "carp_cons[\"carp640M\"] = l_data\n",
    "carp_cons[\"dir\"] = \"cons\"\n",
    "carp_cons[\"id\"] = carp_cons.seq_id.str.replace(\"seq_\", \"\")\n",
    "carp_cons[\"id\"] = carp_cons[\"id\"].astype(int)\n",
    "carp_cons.sort_values(\"id\", ascending = True)"
   ]
  },
  {
   "cell_type": "code",
   "execution_count": 17,
   "id": "48549f2a",
   "metadata": {
    "ExecuteTime": {
     "end_time": "2022-10-14T19:13:36.652750Z",
     "start_time": "2022-10-14T19:13:36.636431Z"
    },
    "hidden": true
   },
   "outputs": [
    {
     "name": "stderr",
     "output_type": "stream",
     "text": [
      "/tmp/ipykernel_192767/3413536426.py:16: FutureWarning: The default value of regex will change from True to False in a future version.\n",
      "  carp_anc[\"seq_id\"] = carp_anc[\"filename\"].str.replace(\"_carp_640M_56_mean.pt\",\"\")\n"
     ]
    },
    {
     "data": {
      "text/html": [
       "<div>\n",
       "<style scoped>\n",
       "    .dataframe tbody tr th:only-of-type {\n",
       "        vertical-align: middle;\n",
       "    }\n",
       "\n",
       "    .dataframe tbody tr th {\n",
       "        vertical-align: top;\n",
       "    }\n",
       "\n",
       "    .dataframe thead th {\n",
       "        text-align: right;\n",
       "    }\n",
       "</style>\n",
       "<table border=\"1\" class=\"dataframe\">\n",
       "  <thead>\n",
       "    <tr style=\"text-align: right;\">\n",
       "      <th></th>\n",
       "      <th>filename</th>\n",
       "      <th>seq_id</th>\n",
       "      <th>carp640M</th>\n",
       "      <th>dir</th>\n",
       "      <th>id</th>\n",
       "    </tr>\n",
       "  </thead>\n",
       "  <tbody>\n",
       "    <tr>\n",
       "      <th>1</th>\n",
       "      <td>seq_25816_carp_640M_56_mean.pt</td>\n",
       "      <td>seq_25816</td>\n",
       "      <td>[8.670384, 11.040576, 3.1327963, 13.473799, -7...</td>\n",
       "      <td>anc</td>\n",
       "      <td>25816</td>\n",
       "    </tr>\n",
       "    <tr>\n",
       "      <th>0</th>\n",
       "      <td>seq_25817_carp_640M_56_mean.pt</td>\n",
       "      <td>seq_25817</td>\n",
       "      <td>[9.315241, 11.597447, 1.3800807, 14.763795, -8...</td>\n",
       "      <td>anc</td>\n",
       "      <td>25817</td>\n",
       "    </tr>\n",
       "    <tr>\n",
       "      <th>3</th>\n",
       "      <td>seq_25818_carp_640M_56_mean.pt</td>\n",
       "      <td>seq_25818</td>\n",
       "      <td>[9.117508, 11.903196, 2.0649765, 14.115615, -7...</td>\n",
       "      <td>anc</td>\n",
       "      <td>25818</td>\n",
       "    </tr>\n",
       "    <tr>\n",
       "      <th>2</th>\n",
       "      <td>seq_25819_carp_640M_56_mean.pt</td>\n",
       "      <td>seq_25819</td>\n",
       "      <td>[9.333897, 11.056926, 1.7574292, 14.767629, -8...</td>\n",
       "      <td>anc</td>\n",
       "      <td>25819</td>\n",
       "    </tr>\n",
       "  </tbody>\n",
       "</table>\n",
       "</div>"
      ],
      "text/plain": [
       "                         filename     seq_id  \\\n",
       "1  seq_25816_carp_640M_56_mean.pt  seq_25816   \n",
       "0  seq_25817_carp_640M_56_mean.pt  seq_25817   \n",
       "3  seq_25818_carp_640M_56_mean.pt  seq_25818   \n",
       "2  seq_25819_carp_640M_56_mean.pt  seq_25819   \n",
       "\n",
       "                                            carp640M  dir     id  \n",
       "1  [8.670384, 11.040576, 3.1327963, 13.473799, -7...  anc  25816  \n",
       "0  [9.315241, 11.597447, 1.3800807, 14.763795, -8...  anc  25817  \n",
       "3  [9.117508, 11.903196, 2.0649765, 14.115615, -7...  anc  25818  \n",
       "2  [9.333897, 11.056926, 1.7574292, 14.767629, -8...  anc  25819  "
      ]
     },
     "execution_count": 17,
     "metadata": {},
     "output_type": "execute_result"
    }
   ],
   "source": [
    "# load carp embeddings\n",
    "path = \"../results/embeddings/carp/anc/\"\n",
    "l_name = []\n",
    "l_data = []\n",
    "    \n",
    "# take the filename and embedding\n",
    "for file in os.listdir(path):\n",
    "    l_name.append(file)\n",
    "    filename = path + file\n",
    "    embedding = torch.load(filename).numpy()\n",
    "    l_data.append(embedding)\n",
    "\n",
    "# create a df with the data    \n",
    "carp_anc = pd.DataFrame()\n",
    "carp_anc[\"filename\"] = l_name\n",
    "carp_anc[\"seq_id\"] = carp_anc[\"filename\"].str.replace(\"_carp_640M_56_mean.pt\",\"\")\n",
    "carp_anc[\"carp640M\"] = l_data\n",
    "carp_anc[\"dir\"] = \"anc\"\n",
    "carp_anc[\"id\"] = carp_anc.seq_id.str.replace(\"seq_\", \"\")\n",
    "carp_anc[\"id\"] = carp_anc[\"id\"].astype(int)\n",
    "carp_anc.sort_values(\"id\", ascending = True)"
   ]
  },
  {
   "cell_type": "code",
   "execution_count": 19,
   "id": "fa199dd9",
   "metadata": {
    "ExecuteTime": {
     "end_time": "2022-10-14T19:13:39.789389Z",
     "start_time": "2022-10-14T19:13:39.774914Z"
    },
    "hidden": true
   },
   "outputs": [
    {
     "name": "stderr",
     "output_type": "stream",
     "text": [
      "/tmp/ipykernel_192767/4110544865.py:16: FutureWarning: The default value of regex will change from True to False in a future version.\n",
      "  carp_risso[\"seq_id\"] = carp_risso[\"filename\"].str.replace(\"_carp_640M_56_mean.pt\",\"\")\n"
     ]
    },
    {
     "data": {
      "text/html": [
       "<div>\n",
       "<style scoped>\n",
       "    .dataframe tbody tr th:only-of-type {\n",
       "        vertical-align: middle;\n",
       "    }\n",
       "\n",
       "    .dataframe tbody tr th {\n",
       "        vertical-align: top;\n",
       "    }\n",
       "\n",
       "    .dataframe thead th {\n",
       "        text-align: right;\n",
       "    }\n",
       "</style>\n",
       "<table border=\"1\" class=\"dataframe\">\n",
       "  <thead>\n",
       "    <tr style=\"text-align: right;\">\n",
       "      <th></th>\n",
       "      <th>filename</th>\n",
       "      <th>seq_id</th>\n",
       "      <th>carp640M</th>\n",
       "      <th>dir</th>\n",
       "      <th>id</th>\n",
       "    </tr>\n",
       "  </thead>\n",
       "  <tbody>\n",
       "    <tr>\n",
       "      <th>0</th>\n",
       "      <td>seq_25820_carp_640M_56_mean.pt</td>\n",
       "      <td>seq_25820</td>\n",
       "      <td>[7.1279583, 10.331408, 1.3832712, 15.997801, -...</td>\n",
       "      <td>risso</td>\n",
       "      <td>25820</td>\n",
       "    </tr>\n",
       "  </tbody>\n",
       "</table>\n",
       "</div>"
      ],
      "text/plain": [
       "                         filename     seq_id  \\\n",
       "0  seq_25820_carp_640M_56_mean.pt  seq_25820   \n",
       "\n",
       "                                            carp640M    dir     id  \n",
       "0  [7.1279583, 10.331408, 1.3832712, 15.997801, -...  risso  25820  "
      ]
     },
     "execution_count": 19,
     "metadata": {},
     "output_type": "execute_result"
    }
   ],
   "source": [
    "# load carp embeddings\n",
    "path = \"../results/embeddings/carp/risso/\"\n",
    "l_name = []\n",
    "l_data = []\n",
    "    \n",
    "# take the filename and embedding\n",
    "for file in os.listdir(path):\n",
    "    l_name.append(file)\n",
    "    filename = path + file\n",
    "    embedding = torch.load(filename).numpy()\n",
    "    l_data.append(embedding)\n",
    "\n",
    "# create a df with the data    \n",
    "carp_risso = pd.DataFrame()\n",
    "carp_risso[\"filename\"] = l_name\n",
    "carp_risso[\"seq_id\"] = carp_risso[\"filename\"].str.replace(\"_carp_640M_56_mean.pt\",\"\")\n",
    "carp_risso[\"carp640M\"] = l_data\n",
    "carp_risso[\"dir\"] = \"risso\"\n",
    "carp_risso[\"id\"] = carp_risso.seq_id.str.replace(\"seq_\", \"\")\n",
    "carp_risso[\"id\"] = carp_risso[\"id\"].astype(int)\n",
    "carp_risso.sort_values(\"id\", ascending = True)"
   ]
  },
  {
   "cell_type": "code",
   "execution_count": 21,
   "id": "83c9f16d",
   "metadata": {
    "ExecuteTime": {
     "end_time": "2022-10-14T19:13:42.673506Z",
     "start_time": "2022-10-14T19:13:42.635844Z"
    },
    "hidden": true
   },
   "outputs": [
    {
     "name": "stderr",
     "output_type": "stream",
     "text": [
      "/tmp/ipykernel_192767/370105238.py:16: FutureWarning: The default value of regex will change from True to False in a future version.\n",
      "  carp_varg[\"seq_id\"] = carp_varg[\"filename\"].str.replace(\"_carp_640M_56_mean.pt\",\"\")\n"
     ]
    },
    {
     "data": {
      "text/html": [
       "<div>\n",
       "<style scoped>\n",
       "    .dataframe tbody tr th:only-of-type {\n",
       "        vertical-align: middle;\n",
       "    }\n",
       "\n",
       "    .dataframe tbody tr th {\n",
       "        vertical-align: top;\n",
       "    }\n",
       "\n",
       "    .dataframe thead th {\n",
       "        text-align: right;\n",
       "    }\n",
       "</style>\n",
       "<table border=\"1\" class=\"dataframe\">\n",
       "  <thead>\n",
       "    <tr style=\"text-align: right;\">\n",
       "      <th></th>\n",
       "      <th>filename</th>\n",
       "      <th>seq_id</th>\n",
       "      <th>carp640M</th>\n",
       "      <th>dir</th>\n",
       "      <th>id</th>\n",
       "    </tr>\n",
       "  </thead>\n",
       "  <tbody>\n",
       "    <tr>\n",
       "      <th>57</th>\n",
       "      <td>seq_25821_carp_640M_56_mean.pt</td>\n",
       "      <td>seq_25821</td>\n",
       "      <td>[5.447612, 8.987143, -0.58876276, 10.069012, -...</td>\n",
       "      <td>varg</td>\n",
       "      <td>25821</td>\n",
       "    </tr>\n",
       "    <tr>\n",
       "      <th>111</th>\n",
       "      <td>seq_25822_carp_640M_56_mean.pt</td>\n",
       "      <td>seq_25822</td>\n",
       "      <td>[5.182567, 9.641127, -0.91404617, 8.896744, 0....</td>\n",
       "      <td>varg</td>\n",
       "      <td>25822</td>\n",
       "    </tr>\n",
       "    <tr>\n",
       "      <th>6</th>\n",
       "      <td>seq_25823_carp_640M_56_mean.pt</td>\n",
       "      <td>seq_25823</td>\n",
       "      <td>[5.1788063, 8.875448, 0.42787492, 9.750109, 0....</td>\n",
       "      <td>varg</td>\n",
       "      <td>25823</td>\n",
       "    </tr>\n",
       "    <tr>\n",
       "      <th>149</th>\n",
       "      <td>seq_25824_carp_640M_56_mean.pt</td>\n",
       "      <td>seq_25824</td>\n",
       "      <td>[5.468237, 9.701027, -0.19060934, 9.369444, 1....</td>\n",
       "      <td>varg</td>\n",
       "      <td>25824</td>\n",
       "    </tr>\n",
       "    <tr>\n",
       "      <th>154</th>\n",
       "      <td>seq_25825_carp_640M_56_mean.pt</td>\n",
       "      <td>seq_25825</td>\n",
       "      <td>[5.255801, 9.529636, -0.21215041, 8.85616, 0.6...</td>\n",
       "      <td>varg</td>\n",
       "      <td>25825</td>\n",
       "    </tr>\n",
       "    <tr>\n",
       "      <th>...</th>\n",
       "      <td>...</td>\n",
       "      <td>...</td>\n",
       "      <td>...</td>\n",
       "      <td>...</td>\n",
       "      <td>...</td>\n",
       "    </tr>\n",
       "    <tr>\n",
       "      <th>64</th>\n",
       "      <td>seq_26017_carp_640M_56_mean.pt</td>\n",
       "      <td>seq_26017</td>\n",
       "      <td>[5.539616, 9.056223, -0.5425722, 10.059907, -0...</td>\n",
       "      <td>varg</td>\n",
       "      <td>26017</td>\n",
       "    </tr>\n",
       "    <tr>\n",
       "      <th>9</th>\n",
       "      <td>seq_26018_carp_640M_56_mean.pt</td>\n",
       "      <td>seq_26018</td>\n",
       "      <td>[5.2507486, 9.655591, -0.83597654, 8.914883, 0...</td>\n",
       "      <td>varg</td>\n",
       "      <td>26018</td>\n",
       "    </tr>\n",
       "    <tr>\n",
       "      <th>200</th>\n",
       "      <td>seq_26019_carp_640M_56_mean.pt</td>\n",
       "      <td>seq_26019</td>\n",
       "      <td>[5.8736224, 8.736176, -0.58174294, 9.6299715, ...</td>\n",
       "      <td>varg</td>\n",
       "      <td>26019</td>\n",
       "    </tr>\n",
       "    <tr>\n",
       "      <th>5</th>\n",
       "      <td>seq_26020_carp_640M_56_mean.pt</td>\n",
       "      <td>seq_26020</td>\n",
       "      <td>[5.918565, 8.701509, -0.7631483, 9.431531, 0.6...</td>\n",
       "      <td>varg</td>\n",
       "      <td>26020</td>\n",
       "    </tr>\n",
       "    <tr>\n",
       "      <th>82</th>\n",
       "      <td>seq_26021_carp_640M_56_mean.pt</td>\n",
       "      <td>seq_26021</td>\n",
       "      <td>[5.788237, 8.807507, -0.45978823, 9.622107, 0....</td>\n",
       "      <td>varg</td>\n",
       "      <td>26021</td>\n",
       "    </tr>\n",
       "  </tbody>\n",
       "</table>\n",
       "<p>201 rows × 5 columns</p>\n",
       "</div>"
      ],
      "text/plain": [
       "                           filename     seq_id  \\\n",
       "57   seq_25821_carp_640M_56_mean.pt  seq_25821   \n",
       "111  seq_25822_carp_640M_56_mean.pt  seq_25822   \n",
       "6    seq_25823_carp_640M_56_mean.pt  seq_25823   \n",
       "149  seq_25824_carp_640M_56_mean.pt  seq_25824   \n",
       "154  seq_25825_carp_640M_56_mean.pt  seq_25825   \n",
       "..                              ...        ...   \n",
       "64   seq_26017_carp_640M_56_mean.pt  seq_26017   \n",
       "9    seq_26018_carp_640M_56_mean.pt  seq_26018   \n",
       "200  seq_26019_carp_640M_56_mean.pt  seq_26019   \n",
       "5    seq_26020_carp_640M_56_mean.pt  seq_26020   \n",
       "82   seq_26021_carp_640M_56_mean.pt  seq_26021   \n",
       "\n",
       "                                              carp640M   dir     id  \n",
       "57   [5.447612, 8.987143, -0.58876276, 10.069012, -...  varg  25821  \n",
       "111  [5.182567, 9.641127, -0.91404617, 8.896744, 0....  varg  25822  \n",
       "6    [5.1788063, 8.875448, 0.42787492, 9.750109, 0....  varg  25823  \n",
       "149  [5.468237, 9.701027, -0.19060934, 9.369444, 1....  varg  25824  \n",
       "154  [5.255801, 9.529636, -0.21215041, 8.85616, 0.6...  varg  25825  \n",
       "..                                                 ...   ...    ...  \n",
       "64   [5.539616, 9.056223, -0.5425722, 10.059907, -0...  varg  26017  \n",
       "9    [5.2507486, 9.655591, -0.83597654, 8.914883, 0...  varg  26018  \n",
       "200  [5.8736224, 8.736176, -0.58174294, 9.6299715, ...  varg  26019  \n",
       "5    [5.918565, 8.701509, -0.7631483, 9.431531, 0.6...  varg  26020  \n",
       "82   [5.788237, 8.807507, -0.45978823, 9.622107, 0....  varg  26021  \n",
       "\n",
       "[201 rows x 5 columns]"
      ]
     },
     "execution_count": 21,
     "metadata": {},
     "output_type": "execute_result"
    }
   ],
   "source": [
    "# load carp embeddings\n",
    "path = \"../results/embeddings/carp/varg/\"\n",
    "l_name = []\n",
    "l_data = []\n",
    "    \n",
    "# take the filename and embedding\n",
    "for file in os.listdir(path):\n",
    "    l_name.append(file)\n",
    "    filename = path + file\n",
    "    embedding = torch.load(filename).numpy()\n",
    "    l_data.append(embedding)\n",
    "\n",
    "# create a df with the data    \n",
    "carp_varg = pd.DataFrame()\n",
    "carp_varg[\"filename\"] = l_name\n",
    "carp_varg[\"seq_id\"] = carp_varg[\"filename\"].str.replace(\"_carp_640M_56_mean.pt\",\"\")\n",
    "carp_varg[\"carp640M\"] = l_data\n",
    "carp_varg[\"dir\"] = \"varg\"\n",
    "carp_varg[\"id\"] = carp_varg.seq_id.str.replace(\"seq_\", \"\")\n",
    "carp_varg[\"id\"] = carp_varg[\"id\"].astype(int)\n",
    "carp_varg.sort_values(\"id\", ascending = True)"
   ]
  },
  {
   "cell_type": "code",
   "execution_count": 23,
   "id": "c8a92b9a",
   "metadata": {
    "ExecuteTime": {
     "end_time": "2022-10-14T19:13:46.505101Z",
     "start_time": "2022-10-14T19:13:46.485559Z"
    },
    "hidden": true
   },
   "outputs": [
    {
     "data": {
      "text/html": [
       "<div>\n",
       "<style scoped>\n",
       "    .dataframe tbody tr th:only-of-type {\n",
       "        vertical-align: middle;\n",
       "    }\n",
       "\n",
       "    .dataframe tbody tr th {\n",
       "        vertical-align: top;\n",
       "    }\n",
       "\n",
       "    .dataframe thead th {\n",
       "        text-align: right;\n",
       "    }\n",
       "</style>\n",
       "<table border=\"1\" class=\"dataframe\">\n",
       "  <thead>\n",
       "    <tr style=\"text-align: right;\">\n",
       "      <th></th>\n",
       "      <th>filename</th>\n",
       "      <th>seq_id</th>\n",
       "      <th>carp640M</th>\n",
       "      <th>dir</th>\n",
       "      <th>id</th>\n",
       "    </tr>\n",
       "  </thead>\n",
       "  <tbody>\n",
       "    <tr>\n",
       "      <th>0</th>\n",
       "      <td>seq_2619_carp_640M_56_mean.pt</td>\n",
       "      <td>seq_2619</td>\n",
       "      <td>[9.311641, 9.983381, 1.9468093, 13.881204, -7....</td>\n",
       "      <td>class_a</td>\n",
       "      <td>2619</td>\n",
       "    </tr>\n",
       "    <tr>\n",
       "      <th>1</th>\n",
       "      <td>seq_10093_carp_640M_56_mean.pt</td>\n",
       "      <td>seq_10093</td>\n",
       "      <td>[7.5743794, 6.6160493, 4.0793633, 10.123416, -...</td>\n",
       "      <td>class_a</td>\n",
       "      <td>10093</td>\n",
       "    </tr>\n",
       "    <tr>\n",
       "      <th>2</th>\n",
       "      <td>seq_11341_carp_640M_56_mean.pt</td>\n",
       "      <td>seq_11341</td>\n",
       "      <td>[4.5345707, 7.413476, -0.3913818, 12.712758, -...</td>\n",
       "      <td>class_a</td>\n",
       "      <td>11341</td>\n",
       "    </tr>\n",
       "    <tr>\n",
       "      <th>3</th>\n",
       "      <td>seq_4560_carp_640M_56_mean.pt</td>\n",
       "      <td>seq_4560</td>\n",
       "      <td>[6.790321, 11.2446575, 0.8568137, 8.881648, -9...</td>\n",
       "      <td>class_a</td>\n",
       "      <td>4560</td>\n",
       "    </tr>\n",
       "    <tr>\n",
       "      <th>4</th>\n",
       "      <td>seq_12823_carp_640M_56_mean.pt</td>\n",
       "      <td>seq_12823</td>\n",
       "      <td>[4.7944574, 11.554798, 1.9760262, 13.463692, -...</td>\n",
       "      <td>class_a</td>\n",
       "      <td>12823</td>\n",
       "    </tr>\n",
       "    <tr>\n",
       "      <th>...</th>\n",
       "      <td>...</td>\n",
       "      <td>...</td>\n",
       "      <td>...</td>\n",
       "      <td>...</td>\n",
       "      <td>...</td>\n",
       "    </tr>\n",
       "    <tr>\n",
       "      <th>196</th>\n",
       "      <td>seq_26004_carp_640M_56_mean.pt</td>\n",
       "      <td>seq_26004</td>\n",
       "      <td>[5.308025, 8.886497, -0.48848674, 9.885504, 0....</td>\n",
       "      <td>varg</td>\n",
       "      <td>26004</td>\n",
       "    </tr>\n",
       "    <tr>\n",
       "      <th>197</th>\n",
       "      <td>seq_25986_carp_640M_56_mean.pt</td>\n",
       "      <td>seq_25986</td>\n",
       "      <td>[4.9497128, 9.304619, -0.34035167, 8.713246, 0...</td>\n",
       "      <td>varg</td>\n",
       "      <td>25986</td>\n",
       "    </tr>\n",
       "    <tr>\n",
       "      <th>198</th>\n",
       "      <td>seq_25872_carp_640M_56_mean.pt</td>\n",
       "      <td>seq_25872</td>\n",
       "      <td>[5.3984685, 9.206968, 0.6134736, 9.009489, 1.5...</td>\n",
       "      <td>varg</td>\n",
       "      <td>25872</td>\n",
       "    </tr>\n",
       "    <tr>\n",
       "      <th>199</th>\n",
       "      <td>seq_26003_carp_640M_56_mean.pt</td>\n",
       "      <td>seq_26003</td>\n",
       "      <td>[5.3108687, 8.796065, -0.50181097, 9.92372, 0....</td>\n",
       "      <td>varg</td>\n",
       "      <td>26003</td>\n",
       "    </tr>\n",
       "    <tr>\n",
       "      <th>200</th>\n",
       "      <td>seq_26019_carp_640M_56_mean.pt</td>\n",
       "      <td>seq_26019</td>\n",
       "      <td>[5.8736224, 8.736176, -0.58174294, 9.6299715, ...</td>\n",
       "      <td>varg</td>\n",
       "      <td>26019</td>\n",
       "    </tr>\n",
       "  </tbody>\n",
       "</table>\n",
       "<p>26023 rows × 5 columns</p>\n",
       "</div>"
      ],
      "text/plain": [
       "                           filename     seq_id  \\\n",
       "0     seq_2619_carp_640M_56_mean.pt   seq_2619   \n",
       "1    seq_10093_carp_640M_56_mean.pt  seq_10093   \n",
       "2    seq_11341_carp_640M_56_mean.pt  seq_11341   \n",
       "3     seq_4560_carp_640M_56_mean.pt   seq_4560   \n",
       "4    seq_12823_carp_640M_56_mean.pt  seq_12823   \n",
       "..                              ...        ...   \n",
       "196  seq_26004_carp_640M_56_mean.pt  seq_26004   \n",
       "197  seq_25986_carp_640M_56_mean.pt  seq_25986   \n",
       "198  seq_25872_carp_640M_56_mean.pt  seq_25872   \n",
       "199  seq_26003_carp_640M_56_mean.pt  seq_26003   \n",
       "200  seq_26019_carp_640M_56_mean.pt  seq_26019   \n",
       "\n",
       "                                              carp640M      dir     id  \n",
       "0    [9.311641, 9.983381, 1.9468093, 13.881204, -7....  class_a   2619  \n",
       "1    [7.5743794, 6.6160493, 4.0793633, 10.123416, -...  class_a  10093  \n",
       "2    [4.5345707, 7.413476, -0.3913818, 12.712758, -...  class_a  11341  \n",
       "3    [6.790321, 11.2446575, 0.8568137, 8.881648, -9...  class_a   4560  \n",
       "4    [4.7944574, 11.554798, 1.9760262, 13.463692, -...  class_a  12823  \n",
       "..                                                 ...      ...    ...  \n",
       "196  [5.308025, 8.886497, -0.48848674, 9.885504, 0....     varg  26004  \n",
       "197  [4.9497128, 9.304619, -0.34035167, 8.713246, 0...     varg  25986  \n",
       "198  [5.3984685, 9.206968, 0.6134736, 9.009489, 1.5...     varg  25872  \n",
       "199  [5.3108687, 8.796065, -0.50181097, 9.92372, 0....     varg  26003  \n",
       "200  [5.8736224, 8.736176, -0.58174294, 9.6299715, ...     varg  26019  \n",
       "\n",
       "[26023 rows x 5 columns]"
      ]
     },
     "execution_count": 23,
     "metadata": {},
     "output_type": "execute_result"
    }
   ],
   "source": [
    "carp_concat = pd.concat([\n",
    "    carp_class_a, carp_class_b, carp_class_c, carp_class_d, carp_cons, carp_anc, carp_risso, carp_varg])\n",
    "carp_concat"
   ]
  },
  {
   "cell_type": "code",
   "execution_count": 24,
   "id": "1c5d1c9f",
   "metadata": {
    "ExecuteTime": {
     "end_time": "2022-10-14T19:13:49.374711Z",
     "start_time": "2022-10-14T19:13:49.290323Z"
    },
    "hidden": true
   },
   "outputs": [
    {
     "data": {
      "text/html": [
       "<div>\n",
       "<style scoped>\n",
       "    .dataframe tbody tr th:only-of-type {\n",
       "        vertical-align: middle;\n",
       "    }\n",
       "\n",
       "    .dataframe tbody tr th {\n",
       "        vertical-align: top;\n",
       "    }\n",
       "\n",
       "    .dataframe thead th {\n",
       "        text-align: right;\n",
       "    }\n",
       "</style>\n",
       "<table border=\"1\" class=\"dataframe\">\n",
       "  <thead>\n",
       "    <tr style=\"text-align: right;\">\n",
       "      <th></th>\n",
       "      <th>seq_id</th>\n",
       "      <th>sequence</th>\n",
       "      <th>carp640M_logp</th>\n",
       "    </tr>\n",
       "  </thead>\n",
       "  <tbody>\n",
       "    <tr>\n",
       "      <th>0</th>\n",
       "      <td>seq_0</td>\n",
       "      <td>MKKFCFLFLIICGLMVFCLQDCQARQKLNLADLENKYNAVIGVYAV...</td>\n",
       "      <td>-0.294909</td>\n",
       "    </tr>\n",
       "    <tr>\n",
       "      <th>1</th>\n",
       "      <td>seq_1</td>\n",
       "      <td>MKKFCFLFLIICGLMFFCLQDCQARQKLNLADLENKYNAVIGVYAV...</td>\n",
       "      <td>-0.292038</td>\n",
       "    </tr>\n",
       "    <tr>\n",
       "      <th>2</th>\n",
       "      <td>seq_2</td>\n",
       "      <td>MKKFCFLFLIICGLMVFSLQDCQARQKLNLADLENKYNAVIGVYAV...</td>\n",
       "      <td>-0.287659</td>\n",
       "    </tr>\n",
       "    <tr>\n",
       "      <th>3</th>\n",
       "      <td>seq_3</td>\n",
       "      <td>MKKFCFLFLIICGLMVFCLQGCQARQKLNLADLENKYNAVIGVYAV...</td>\n",
       "      <td>-0.289380</td>\n",
       "    </tr>\n",
       "    <tr>\n",
       "      <th>4</th>\n",
       "      <td>seq_4</td>\n",
       "      <td>MKKFCFLFLIICGLMVFCLQDCQARQKLNLADLENKYNAVIGVYAV...</td>\n",
       "      <td>-0.287441</td>\n",
       "    </tr>\n",
       "    <tr>\n",
       "      <th>...</th>\n",
       "      <td>...</td>\n",
       "      <td>...</td>\n",
       "      <td>...</td>\n",
       "    </tr>\n",
       "    <tr>\n",
       "      <th>196</th>\n",
       "      <td>seq_26017</td>\n",
       "      <td>MKLSTLALAPIAAALLTFNASAKGHDHDNQRAIFFPGETVQDTVKI...</td>\n",
       "      <td>-0.399117</td>\n",
       "    </tr>\n",
       "    <tr>\n",
       "      <th>197</th>\n",
       "      <td>seq_26018</td>\n",
       "      <td>MKLSTLALAPIAAALFAFNVSANGHDHDNQRAIFFHGEKAPIAQTE...</td>\n",
       "      <td>-0.391041</td>\n",
       "    </tr>\n",
       "    <tr>\n",
       "      <th>198</th>\n",
       "      <td>seq_26019</td>\n",
       "      <td>MKIPTLALAPIAAALFAFNANAHEHKRSIYFPDETSSKVVQTEVEP...</td>\n",
       "      <td>-0.416431</td>\n",
       "    </tr>\n",
       "    <tr>\n",
       "      <th>199</th>\n",
       "      <td>seq_26020</td>\n",
       "      <td>MKIPTLALAPIAAALFAFNANAHEHKRSIYFPDETSSEVVQTEVEP...</td>\n",
       "      <td>-0.415698</td>\n",
       "    </tr>\n",
       "    <tr>\n",
       "      <th>200</th>\n",
       "      <td>seq_26021</td>\n",
       "      <td>MKIPNLALAPIAAALFAFNANAHEHKRSIYFPDETSSKVVQTEVEP...</td>\n",
       "      <td>-0.421705</td>\n",
       "    </tr>\n",
       "  </tbody>\n",
       "</table>\n",
       "<p>26023 rows × 3 columns</p>\n",
       "</div>"
      ],
      "text/plain": [
       "        seq_id                                           sequence  \\\n",
       "0        seq_0  MKKFCFLFLIICGLMVFCLQDCQARQKLNLADLENKYNAVIGVYAV...   \n",
       "1        seq_1  MKKFCFLFLIICGLMFFCLQDCQARQKLNLADLENKYNAVIGVYAV...   \n",
       "2        seq_2  MKKFCFLFLIICGLMVFSLQDCQARQKLNLADLENKYNAVIGVYAV...   \n",
       "3        seq_3  MKKFCFLFLIICGLMVFCLQGCQARQKLNLADLENKYNAVIGVYAV...   \n",
       "4        seq_4  MKKFCFLFLIICGLMVFCLQDCQARQKLNLADLENKYNAVIGVYAV...   \n",
       "..         ...                                                ...   \n",
       "196  seq_26017  MKLSTLALAPIAAALLTFNASAKGHDHDNQRAIFFPGETVQDTVKI...   \n",
       "197  seq_26018  MKLSTLALAPIAAALFAFNVSANGHDHDNQRAIFFHGEKAPIAQTE...   \n",
       "198  seq_26019  MKIPTLALAPIAAALFAFNANAHEHKRSIYFPDETSSKVVQTEVEP...   \n",
       "199  seq_26020  MKIPTLALAPIAAALFAFNANAHEHKRSIYFPDETSSEVVQTEVEP...   \n",
       "200  seq_26021  MKIPNLALAPIAAALFAFNANAHEHKRSIYFPDETSSKVVQTEVEP...   \n",
       "\n",
       "     carp640M_logp  \n",
       "0        -0.294909  \n",
       "1        -0.292038  \n",
       "2        -0.287659  \n",
       "3        -0.289380  \n",
       "4        -0.287441  \n",
       "..             ...  \n",
       "196      -0.399117  \n",
       "197      -0.391041  \n",
       "198      -0.416431  \n",
       "199      -0.415698  \n",
       "200      -0.421705  \n",
       "\n",
       "[26023 rows x 3 columns]"
      ]
     },
     "execution_count": 24,
     "metadata": {},
     "output_type": "execute_result"
    }
   ],
   "source": [
    "carp_logp_a     = pd.read_csv(\"../results/embeddings/carp/logp_files/carp_640M_logp_class_a.csv\")\n",
    "carp_logp_b     = pd.read_csv(\"../results/embeddings/carp/logp_files/carp_640M_logp_class_b.csv\")\n",
    "carp_logp_c     = pd.read_csv(\"../results/embeddings/carp/logp_files/carp_640M_logp_class_c.csv\")\n",
    "carp_logp_d     = pd.read_csv(\"../results/embeddings/carp/logp_files/carp_640M_logp_class_d.csv\")\n",
    "carp_logp_cons  = pd.read_csv(\"../results/embeddings/carp/logp_files/carp_640M_logp_cons.csv\")\n",
    "carp_logp_anc   = pd.read_csv(\"../results/embeddings/carp/logp_files/carp_640M_logp_anc.csv\")\n",
    "carp_logp_risso = pd.read_csv(\"../results/embeddings/carp/logp_files/carp_640M_logp_risso.csv\")\n",
    "carp_logp_varg  = pd.read_csv(\"../results/embeddings/carp/logp_files/carp_640M_logp_varg.csv\")\n",
    "\n",
    "carp_logp = pd.concat([\n",
    "    carp_logp_a, carp_logp_b, carp_logp_c, carp_logp_d, carp_logp_cons, carp_logp_anc, carp_logp_risso, carp_logp_varg])\n",
    "\n",
    "carp_logp.rename(columns = {'name':'seq_id'}, inplace = True)\n",
    "carp_logp.rename(columns = {'logp':'carp640M_logp'}, inplace = True)\n",
    "carp_logp"
   ]
  },
  {
   "cell_type": "code",
   "execution_count": 25,
   "id": "13e8090e",
   "metadata": {
    "ExecuteTime": {
     "end_time": "2022-10-14T19:13:53.362618Z",
     "start_time": "2022-10-14T19:13:53.333339Z"
    },
    "hidden": true
   },
   "outputs": [
    {
     "data": {
      "text/html": [
       "<div>\n",
       "<style scoped>\n",
       "    .dataframe tbody tr th:only-of-type {\n",
       "        vertical-align: middle;\n",
       "    }\n",
       "\n",
       "    .dataframe tbody tr th {\n",
       "        vertical-align: top;\n",
       "    }\n",
       "\n",
       "    .dataframe thead th {\n",
       "        text-align: right;\n",
       "    }\n",
       "</style>\n",
       "<table border=\"1\" class=\"dataframe\">\n",
       "  <thead>\n",
       "    <tr style=\"text-align: right;\">\n",
       "      <th></th>\n",
       "      <th>seq_id</th>\n",
       "      <th>carp640M</th>\n",
       "      <th>carp640M_logp</th>\n",
       "    </tr>\n",
       "  </thead>\n",
       "  <tbody>\n",
       "    <tr>\n",
       "      <th>0</th>\n",
       "      <td>seq_2619</td>\n",
       "      <td>[9.311641, 9.983381, 1.9468093, 13.881204, -7....</td>\n",
       "      <td>-0.266920</td>\n",
       "    </tr>\n",
       "    <tr>\n",
       "      <th>1</th>\n",
       "      <td>seq_10093</td>\n",
       "      <td>[7.5743794, 6.6160493, 4.0793633, 10.123416, -...</td>\n",
       "      <td>-0.366253</td>\n",
       "    </tr>\n",
       "    <tr>\n",
       "      <th>2</th>\n",
       "      <td>seq_11341</td>\n",
       "      <td>[4.5345707, 7.413476, -0.3913818, 12.712758, -...</td>\n",
       "      <td>-0.261000</td>\n",
       "    </tr>\n",
       "    <tr>\n",
       "      <th>3</th>\n",
       "      <td>seq_4560</td>\n",
       "      <td>[6.790321, 11.2446575, 0.8568137, 8.881648, -9...</td>\n",
       "      <td>-0.206222</td>\n",
       "    </tr>\n",
       "    <tr>\n",
       "      <th>4</th>\n",
       "      <td>seq_12823</td>\n",
       "      <td>[4.7944574, 11.554798, 1.9760262, 13.463692, -...</td>\n",
       "      <td>-0.234689</td>\n",
       "    </tr>\n",
       "    <tr>\n",
       "      <th>...</th>\n",
       "      <td>...</td>\n",
       "      <td>...</td>\n",
       "      <td>...</td>\n",
       "    </tr>\n",
       "    <tr>\n",
       "      <th>26018</th>\n",
       "      <td>seq_26004</td>\n",
       "      <td>[5.308025, 8.886497, -0.48848674, 9.885504, 0....</td>\n",
       "      <td>-0.403543</td>\n",
       "    </tr>\n",
       "    <tr>\n",
       "      <th>26019</th>\n",
       "      <td>seq_25986</td>\n",
       "      <td>[4.9497128, 9.304619, -0.34035167, 8.713246, 0...</td>\n",
       "      <td>-0.418335</td>\n",
       "    </tr>\n",
       "    <tr>\n",
       "      <th>26020</th>\n",
       "      <td>seq_25872</td>\n",
       "      <td>[5.3984685, 9.206968, 0.6134736, 9.009489, 1.5...</td>\n",
       "      <td>-0.428827</td>\n",
       "    </tr>\n",
       "    <tr>\n",
       "      <th>26021</th>\n",
       "      <td>seq_26003</td>\n",
       "      <td>[5.3108687, 8.796065, -0.50181097, 9.92372, 0....</td>\n",
       "      <td>-0.402704</td>\n",
       "    </tr>\n",
       "    <tr>\n",
       "      <th>26022</th>\n",
       "      <td>seq_26019</td>\n",
       "      <td>[5.8736224, 8.736176, -0.58174294, 9.6299715, ...</td>\n",
       "      <td>-0.416431</td>\n",
       "    </tr>\n",
       "  </tbody>\n",
       "</table>\n",
       "<p>26023 rows × 3 columns</p>\n",
       "</div>"
      ],
      "text/plain": [
       "          seq_id                                           carp640M  \\\n",
       "0       seq_2619  [9.311641, 9.983381, 1.9468093, 13.881204, -7....   \n",
       "1      seq_10093  [7.5743794, 6.6160493, 4.0793633, 10.123416, -...   \n",
       "2      seq_11341  [4.5345707, 7.413476, -0.3913818, 12.712758, -...   \n",
       "3       seq_4560  [6.790321, 11.2446575, 0.8568137, 8.881648, -9...   \n",
       "4      seq_12823  [4.7944574, 11.554798, 1.9760262, 13.463692, -...   \n",
       "...          ...                                                ...   \n",
       "26018  seq_26004  [5.308025, 8.886497, -0.48848674, 9.885504, 0....   \n",
       "26019  seq_25986  [4.9497128, 9.304619, -0.34035167, 8.713246, 0...   \n",
       "26020  seq_25872  [5.3984685, 9.206968, 0.6134736, 9.009489, 1.5...   \n",
       "26021  seq_26003  [5.3108687, 8.796065, -0.50181097, 9.92372, 0....   \n",
       "26022  seq_26019  [5.8736224, 8.736176, -0.58174294, 9.6299715, ...   \n",
       "\n",
       "       carp640M_logp  \n",
       "0          -0.266920  \n",
       "1          -0.366253  \n",
       "2          -0.261000  \n",
       "3          -0.206222  \n",
       "4          -0.234689  \n",
       "...              ...  \n",
       "26018      -0.403543  \n",
       "26019      -0.418335  \n",
       "26020      -0.428827  \n",
       "26021      -0.402704  \n",
       "26022      -0.416431  \n",
       "\n",
       "[26023 rows x 3 columns]"
      ]
     },
     "execution_count": 25,
     "metadata": {},
     "output_type": "execute_result"
    }
   ],
   "source": [
    "carp_selected = pd.merge(carp_concat, carp_logp, on = \"seq_id\", how = \"left\")\n",
    "carp_selected = carp_selected[[\"seq_id\", \"carp640M\", \"carp640M_logp\"]]\n",
    "carp_selected"
   ]
  },
  {
   "cell_type": "code",
   "execution_count": 26,
   "id": "d1a66279",
   "metadata": {
    "ExecuteTime": {
     "end_time": "2022-10-14T19:13:57.977316Z",
     "start_time": "2022-10-14T19:13:57.910506Z"
    },
    "hidden": true
   },
   "outputs": [
    {
     "data": {
      "text/html": [
       "<div>\n",
       "<style scoped>\n",
       "    .dataframe tbody tr th:only-of-type {\n",
       "        vertical-align: middle;\n",
       "    }\n",
       "\n",
       "    .dataframe tbody tr th {\n",
       "        vertical-align: top;\n",
       "    }\n",
       "\n",
       "    .dataframe thead th {\n",
       "        text-align: right;\n",
       "    }\n",
       "</style>\n",
       "<table border=\"1\" class=\"dataframe\">\n",
       "  <thead>\n",
       "    <tr style=\"text-align: right;\">\n",
       "      <th></th>\n",
       "      <th>seq_id</th>\n",
       "      <th>seq</th>\n",
       "      <th>esm1b</th>\n",
       "      <th>esm</th>\n",
       "      <th>onehot</th>\n",
       "      <th>t5xlu50</th>\n",
       "      <th>t5bfd</th>\n",
       "      <th>xlnet</th>\n",
       "      <th>bepler</th>\n",
       "      <th>carp640M</th>\n",
       "      <th>carp640M_logp</th>\n",
       "    </tr>\n",
       "  </thead>\n",
       "  <tbody>\n",
       "    <tr>\n",
       "      <th>0</th>\n",
       "      <td>seq_0</td>\n",
       "      <td>MKKFCFLFLIICGLMVFCLQDCQARQKLNLADLENKYNAVIGVYAV...</td>\n",
       "      <td>[0.1102982, 0.014699467, -0.14032564, 0.258299...</td>\n",
       "      <td>[-1.9012868, 0.22372644, 0.21296117, -0.166722...</td>\n",
       "      <td>[0.08450704, 0.024647888, 0.08450704, 0.045774...</td>\n",
       "      <td>[0.008956722, 0.02665889, 0.02402008, 0.014990...</td>\n",
       "      <td>[0.023663048, -0.0007369746, -0.0076412507, 0....</td>\n",
       "      <td>[-0.19811592, 0.051563144, -0.005958873, 0.039...</td>\n",
       "      <td>[0.08450704, 0.045774646, 0.07042254, 0.084507...</td>\n",
       "      <td>[8.911173, 9.043713, 2.4614172, 12.103228, -8....</td>\n",
       "      <td>-0.294909</td>\n",
       "    </tr>\n",
       "    <tr>\n",
       "      <th>1</th>\n",
       "      <td>seq_1</td>\n",
       "      <td>MKKFCFLFLIICGLMFFCLQDCQARQKLNLADLENKYNAVIGVYAV...</td>\n",
       "      <td>[0.10703633, 0.017742604, -0.14941521, 0.25984...</td>\n",
       "      <td>[-1.91362, 0.15840982, 0.18624821, -0.169153, ...</td>\n",
       "      <td>[0.08098592, 0.024647888, 0.08450704, 0.042253...</td>\n",
       "      <td>[0.0076766736, 0.027014462, 0.027420135, 0.013...</td>\n",
       "      <td>[0.026570462, 0.0026666287, -0.006873358, -0.0...</td>\n",
       "      <td>[-0.21204372, 0.057212643, -0.011840693, 0.035...</td>\n",
       "      <td>[0.08098592, 0.045774646, 0.07042254, 0.084507...</td>\n",
       "      <td>[8.887652, 9.320681, 2.41787, 12.194232, -8.64...</td>\n",
       "      <td>-0.292038</td>\n",
       "    </tr>\n",
       "    <tr>\n",
       "      <th>2</th>\n",
       "      <td>seq_2</td>\n",
       "      <td>MKKFCFLFLIICGLMVFSLQDCQARQKLNLADLENKYNAVIGVYAV...</td>\n",
       "      <td>[0.10849612, 0.017496616, -0.14619425, 0.26836...</td>\n",
       "      <td>[-1.8146169, 0.20834586, 0.23776329, -0.163906...</td>\n",
       "      <td>[0.08450704, 0.02112676, 0.08450704, 0.0457746...</td>\n",
       "      <td>[0.009324158, 0.02478514, 0.022525383, 0.01392...</td>\n",
       "      <td>[0.02341963, -0.004910054, -0.008731285, 0.005...</td>\n",
       "      <td>[-0.1872002, 0.043762427, -0.03699141, 0.03243...</td>\n",
       "      <td>[0.08450704, 0.045774646, 0.07042254, 0.084507...</td>\n",
       "      <td>[8.827172, 8.74543, 2.4937172, 12.3279085, -8....</td>\n",
       "      <td>-0.287659</td>\n",
       "    </tr>\n",
       "    <tr>\n",
       "      <th>3</th>\n",
       "      <td>seq_3</td>\n",
       "      <td>MKKFCFLFLIICGLMVFCLQGCQARQKLNLADLENKYNAVIGVYAV...</td>\n",
       "      <td>[0.12845756, 0.017484514, -0.13535379, 0.24379...</td>\n",
       "      <td>[-1.8452643, 0.23816845, 0.23408653, -0.152660...</td>\n",
       "      <td>[0.08450704, 0.024647888, 0.08098592, 0.045774...</td>\n",
       "      <td>[0.004128871, 0.033653855, 0.028860169, 0.0124...</td>\n",
       "      <td>[0.014434682, -0.0026827375, -0.003042692, 0.0...</td>\n",
       "      <td>[-0.2078117, 0.05418699, 0.0056420905, 0.02040...</td>\n",
       "      <td>[0.08450704, 0.045774646, 0.07042254, 0.080985...</td>\n",
       "      <td>[8.501886, 9.030052, 2.3223486, 11.952613, -9....</td>\n",
       "      <td>-0.289380</td>\n",
       "    </tr>\n",
       "    <tr>\n",
       "      <th>4</th>\n",
       "      <td>seq_4</td>\n",
       "      <td>MKKFCFLFLIICGLMVFCLQDCQARQKLNLADLENKYNAVIGVYAV...</td>\n",
       "      <td>[0.10706033, 0.013306678, -0.14212927, 0.25449...</td>\n",
       "      <td>[-1.8473366, 0.2200377, 0.23291773, -0.1457919...</td>\n",
       "      <td>[0.08450704, 0.024647888, 0.08450704, 0.045774...</td>\n",
       "      <td>[0.0077304444, 0.029016294, 0.023319585, 0.014...</td>\n",
       "      <td>[0.020652149, -0.00015262279, -0.0065017454, 0...</td>\n",
       "      <td>[-0.19173458, 0.04517981, -0.0330168, 0.023556...</td>\n",
       "      <td>[0.08450704, 0.045774646, 0.07042254, 0.084507...</td>\n",
       "      <td>[8.907578, 8.904117, 2.4000638, 12.001774, -9....</td>\n",
       "      <td>-0.287441</td>\n",
       "    </tr>\n",
       "    <tr>\n",
       "      <th>...</th>\n",
       "      <td>...</td>\n",
       "      <td>...</td>\n",
       "      <td>...</td>\n",
       "      <td>...</td>\n",
       "      <td>...</td>\n",
       "      <td>...</td>\n",
       "      <td>...</td>\n",
       "      <td>...</td>\n",
       "      <td>...</td>\n",
       "      <td>...</td>\n",
       "      <td>...</td>\n",
       "    </tr>\n",
       "    <tr>\n",
       "      <th>26018</th>\n",
       "      <td>seq_26017</td>\n",
       "      <td>MKLSTLALAPIAAALLTFNASAKGHDHDNQRAIFFPGETVQDTVKI...</td>\n",
       "      <td>[0.033977885, 0.2099972, -0.03804998, 0.106422...</td>\n",
       "      <td>[-1.7197676, 0.03665721, 0.4062646, 0.27256438...</td>\n",
       "      <td>[0.07219251, 0.0, 0.07486631, 0.040106952, 0.0...</td>\n",
       "      <td>[0.007419476, 0.007811315, -0.021516398, 0.019...</td>\n",
       "      <td>[-0.013961067, -0.020913692, -0.023646962, 0.0...</td>\n",
       "      <td>[-0.1441164, -0.02171367, 0.11034167, 0.145684...</td>\n",
       "      <td>[0.07219251, 0.021390375, 0.06417112, 0.074866...</td>\n",
       "      <td>[5.539616, 9.056223, -0.5425722, 10.059907, -0...</td>\n",
       "      <td>-0.399117</td>\n",
       "    </tr>\n",
       "    <tr>\n",
       "      <th>26019</th>\n",
       "      <td>seq_26018</td>\n",
       "      <td>MKLSTLALAPIAAALFAFNVSANGHDHDNQRAIFFHGEKAPIAQTE...</td>\n",
       "      <td>[0.040876266, 0.2043898, -0.015767168, 0.10294...</td>\n",
       "      <td>[-1.6569757, 0.103168234, 0.37261948, 0.298090...</td>\n",
       "      <td>[0.08042896, 0.0, 0.061662197, 0.048257373, 0....</td>\n",
       "      <td>[0.011291199, 0.003993584, -0.023162339, 0.025...</td>\n",
       "      <td>[-0.007916385, -0.015900034, -0.02986404, 0.03...</td>\n",
       "      <td>[-0.14152464, -0.020039544, 0.056525566, 0.157...</td>\n",
       "      <td>[0.08042896, 0.021447722, 0.077747986, 0.06166...</td>\n",
       "      <td>[5.2507486, 9.655591, -0.83597654, 8.914883, 0...</td>\n",
       "      <td>-0.391041</td>\n",
       "    </tr>\n",
       "    <tr>\n",
       "      <th>26020</th>\n",
       "      <td>seq_26019</td>\n",
       "      <td>MKIPTLALAPIAAALFAFNANAHEHKRSIYFPDETSSKVVQTEVEP...</td>\n",
       "      <td>[0.044713225, 0.1989737, -0.016214604, 0.09130...</td>\n",
       "      <td>[-1.8027551, -0.054471187, 0.356291, 0.2774920...</td>\n",
       "      <td>[0.08108108, 0.0, 0.06216216, 0.045945946, 0.0...</td>\n",
       "      <td>[0.009738536, 0.0032915308, -0.022912802, 0.02...</td>\n",
       "      <td>[4.8287977e-05, -0.01686286, -0.03582304, 0.02...</td>\n",
       "      <td>[-0.16496508, -0.0207604, 0.077249505, 0.15154...</td>\n",
       "      <td>[0.08108108, 0.021621622, 0.06486487, 0.062162...</td>\n",
       "      <td>[5.8736224, 8.736176, -0.58174294, 9.6299715, ...</td>\n",
       "      <td>-0.416431</td>\n",
       "    </tr>\n",
       "    <tr>\n",
       "      <th>26021</th>\n",
       "      <td>seq_26020</td>\n",
       "      <td>MKIPTLALAPIAAALFAFNANAHEHKRSIYFPDETSSEVVQTEVEP...</td>\n",
       "      <td>[0.044318486, 0.19327989, -0.017119728, 0.0940...</td>\n",
       "      <td>[-1.8163025, -0.007135033, 0.3879411, 0.245572...</td>\n",
       "      <td>[0.08108108, 0.0, 0.06216216, 0.048648648, 0.0...</td>\n",
       "      <td>[0.011506303, 0.00066137884, -0.02221559, 0.02...</td>\n",
       "      <td>[0.004785993, -0.01697322, -0.0355139, 0.02028...</td>\n",
       "      <td>[-0.15620558, -0.031111313, 0.07699773, 0.1406...</td>\n",
       "      <td>[0.08108108, 0.021621622, 0.067567565, 0.06216...</td>\n",
       "      <td>[5.918565, 8.701509, -0.7631483, 9.431531, 0.6...</td>\n",
       "      <td>-0.415698</td>\n",
       "    </tr>\n",
       "    <tr>\n",
       "      <th>26022</th>\n",
       "      <td>seq_26021</td>\n",
       "      <td>MKIPNLALAPIAAALFAFNANAHEHKRSIYFPDETSSKVVQTEVEP...</td>\n",
       "      <td>[0.04461412, 0.199995, -0.020781625, 0.0949049...</td>\n",
       "      <td>[-1.8516614, -0.09044339, 0.37824488, 0.252750...</td>\n",
       "      <td>[0.07837838, 0.0, 0.06216216, 0.045945946, 0.0...</td>\n",
       "      <td>[0.010414982, 0.002133661, -0.024551, 0.021942...</td>\n",
       "      <td>[0.0023922243, -0.015109096, -0.036721, 0.0201...</td>\n",
       "      <td>[-0.15697424, -0.018054537, 0.087968335, 0.159...</td>\n",
       "      <td>[0.07837838, 0.021621622, 0.07027027, 0.062162...</td>\n",
       "      <td>[5.788237, 8.807507, -0.45978823, 9.622107, 0....</td>\n",
       "      <td>-0.421705</td>\n",
       "    </tr>\n",
       "  </tbody>\n",
       "</table>\n",
       "<p>26023 rows × 11 columns</p>\n",
       "</div>"
      ],
      "text/plain": [
       "          seq_id                                                seq  \\\n",
       "0          seq_0  MKKFCFLFLIICGLMVFCLQDCQARQKLNLADLENKYNAVIGVYAV...   \n",
       "1          seq_1  MKKFCFLFLIICGLMFFCLQDCQARQKLNLADLENKYNAVIGVYAV...   \n",
       "2          seq_2  MKKFCFLFLIICGLMVFSLQDCQARQKLNLADLENKYNAVIGVYAV...   \n",
       "3          seq_3  MKKFCFLFLIICGLMVFCLQGCQARQKLNLADLENKYNAVIGVYAV...   \n",
       "4          seq_4  MKKFCFLFLIICGLMVFCLQDCQARQKLNLADLENKYNAVIGVYAV...   \n",
       "...          ...                                                ...   \n",
       "26018  seq_26017  MKLSTLALAPIAAALLTFNASAKGHDHDNQRAIFFPGETVQDTVKI...   \n",
       "26019  seq_26018  MKLSTLALAPIAAALFAFNVSANGHDHDNQRAIFFHGEKAPIAQTE...   \n",
       "26020  seq_26019  MKIPTLALAPIAAALFAFNANAHEHKRSIYFPDETSSKVVQTEVEP...   \n",
       "26021  seq_26020  MKIPTLALAPIAAALFAFNANAHEHKRSIYFPDETSSEVVQTEVEP...   \n",
       "26022  seq_26021  MKIPNLALAPIAAALFAFNANAHEHKRSIYFPDETSSKVVQTEVEP...   \n",
       "\n",
       "                                                   esm1b  \\\n",
       "0      [0.1102982, 0.014699467, -0.14032564, 0.258299...   \n",
       "1      [0.10703633, 0.017742604, -0.14941521, 0.25984...   \n",
       "2      [0.10849612, 0.017496616, -0.14619425, 0.26836...   \n",
       "3      [0.12845756, 0.017484514, -0.13535379, 0.24379...   \n",
       "4      [0.10706033, 0.013306678, -0.14212927, 0.25449...   \n",
       "...                                                  ...   \n",
       "26018  [0.033977885, 0.2099972, -0.03804998, 0.106422...   \n",
       "26019  [0.040876266, 0.2043898, -0.015767168, 0.10294...   \n",
       "26020  [0.044713225, 0.1989737, -0.016214604, 0.09130...   \n",
       "26021  [0.044318486, 0.19327989, -0.017119728, 0.0940...   \n",
       "26022  [0.04461412, 0.199995, -0.020781625, 0.0949049...   \n",
       "\n",
       "                                                     esm  \\\n",
       "0      [-1.9012868, 0.22372644, 0.21296117, -0.166722...   \n",
       "1      [-1.91362, 0.15840982, 0.18624821, -0.169153, ...   \n",
       "2      [-1.8146169, 0.20834586, 0.23776329, -0.163906...   \n",
       "3      [-1.8452643, 0.23816845, 0.23408653, -0.152660...   \n",
       "4      [-1.8473366, 0.2200377, 0.23291773, -0.1457919...   \n",
       "...                                                  ...   \n",
       "26018  [-1.7197676, 0.03665721, 0.4062646, 0.27256438...   \n",
       "26019  [-1.6569757, 0.103168234, 0.37261948, 0.298090...   \n",
       "26020  [-1.8027551, -0.054471187, 0.356291, 0.2774920...   \n",
       "26021  [-1.8163025, -0.007135033, 0.3879411, 0.245572...   \n",
       "26022  [-1.8516614, -0.09044339, 0.37824488, 0.252750...   \n",
       "\n",
       "                                                  onehot  \\\n",
       "0      [0.08450704, 0.024647888, 0.08450704, 0.045774...   \n",
       "1      [0.08098592, 0.024647888, 0.08450704, 0.042253...   \n",
       "2      [0.08450704, 0.02112676, 0.08450704, 0.0457746...   \n",
       "3      [0.08450704, 0.024647888, 0.08098592, 0.045774...   \n",
       "4      [0.08450704, 0.024647888, 0.08450704, 0.045774...   \n",
       "...                                                  ...   \n",
       "26018  [0.07219251, 0.0, 0.07486631, 0.040106952, 0.0...   \n",
       "26019  [0.08042896, 0.0, 0.061662197, 0.048257373, 0....   \n",
       "26020  [0.08108108, 0.0, 0.06216216, 0.045945946, 0.0...   \n",
       "26021  [0.08108108, 0.0, 0.06216216, 0.048648648, 0.0...   \n",
       "26022  [0.07837838, 0.0, 0.06216216, 0.045945946, 0.0...   \n",
       "\n",
       "                                                 t5xlu50  \\\n",
       "0      [0.008956722, 0.02665889, 0.02402008, 0.014990...   \n",
       "1      [0.0076766736, 0.027014462, 0.027420135, 0.013...   \n",
       "2      [0.009324158, 0.02478514, 0.022525383, 0.01392...   \n",
       "3      [0.004128871, 0.033653855, 0.028860169, 0.0124...   \n",
       "4      [0.0077304444, 0.029016294, 0.023319585, 0.014...   \n",
       "...                                                  ...   \n",
       "26018  [0.007419476, 0.007811315, -0.021516398, 0.019...   \n",
       "26019  [0.011291199, 0.003993584, -0.023162339, 0.025...   \n",
       "26020  [0.009738536, 0.0032915308, -0.022912802, 0.02...   \n",
       "26021  [0.011506303, 0.00066137884, -0.02221559, 0.02...   \n",
       "26022  [0.010414982, 0.002133661, -0.024551, 0.021942...   \n",
       "\n",
       "                                                   t5bfd  \\\n",
       "0      [0.023663048, -0.0007369746, -0.0076412507, 0....   \n",
       "1      [0.026570462, 0.0026666287, -0.006873358, -0.0...   \n",
       "2      [0.02341963, -0.004910054, -0.008731285, 0.005...   \n",
       "3      [0.014434682, -0.0026827375, -0.003042692, 0.0...   \n",
       "4      [0.020652149, -0.00015262279, -0.0065017454, 0...   \n",
       "...                                                  ...   \n",
       "26018  [-0.013961067, -0.020913692, -0.023646962, 0.0...   \n",
       "26019  [-0.007916385, -0.015900034, -0.02986404, 0.03...   \n",
       "26020  [4.8287977e-05, -0.01686286, -0.03582304, 0.02...   \n",
       "26021  [0.004785993, -0.01697322, -0.0355139, 0.02028...   \n",
       "26022  [0.0023922243, -0.015109096, -0.036721, 0.0201...   \n",
       "\n",
       "                                                   xlnet  \\\n",
       "0      [-0.19811592, 0.051563144, -0.005958873, 0.039...   \n",
       "1      [-0.21204372, 0.057212643, -0.011840693, 0.035...   \n",
       "2      [-0.1872002, 0.043762427, -0.03699141, 0.03243...   \n",
       "3      [-0.2078117, 0.05418699, 0.0056420905, 0.02040...   \n",
       "4      [-0.19173458, 0.04517981, -0.0330168, 0.023556...   \n",
       "...                                                  ...   \n",
       "26018  [-0.1441164, -0.02171367, 0.11034167, 0.145684...   \n",
       "26019  [-0.14152464, -0.020039544, 0.056525566, 0.157...   \n",
       "26020  [-0.16496508, -0.0207604, 0.077249505, 0.15154...   \n",
       "26021  [-0.15620558, -0.031111313, 0.07699773, 0.1406...   \n",
       "26022  [-0.15697424, -0.018054537, 0.087968335, 0.159...   \n",
       "\n",
       "                                                  bepler  \\\n",
       "0      [0.08450704, 0.045774646, 0.07042254, 0.084507...   \n",
       "1      [0.08098592, 0.045774646, 0.07042254, 0.084507...   \n",
       "2      [0.08450704, 0.045774646, 0.07042254, 0.084507...   \n",
       "3      [0.08450704, 0.045774646, 0.07042254, 0.080985...   \n",
       "4      [0.08450704, 0.045774646, 0.07042254, 0.084507...   \n",
       "...                                                  ...   \n",
       "26018  [0.07219251, 0.021390375, 0.06417112, 0.074866...   \n",
       "26019  [0.08042896, 0.021447722, 0.077747986, 0.06166...   \n",
       "26020  [0.08108108, 0.021621622, 0.06486487, 0.062162...   \n",
       "26021  [0.08108108, 0.021621622, 0.067567565, 0.06216...   \n",
       "26022  [0.07837838, 0.021621622, 0.07027027, 0.062162...   \n",
       "\n",
       "                                                carp640M  carp640M_logp  \n",
       "0      [8.911173, 9.043713, 2.4614172, 12.103228, -8....      -0.294909  \n",
       "1      [8.887652, 9.320681, 2.41787, 12.194232, -8.64...      -0.292038  \n",
       "2      [8.827172, 8.74543, 2.4937172, 12.3279085, -8....      -0.287659  \n",
       "3      [8.501886, 9.030052, 2.3223486, 11.952613, -9....      -0.289380  \n",
       "4      [8.907578, 8.904117, 2.4000638, 12.001774, -9....      -0.287441  \n",
       "...                                                  ...            ...  \n",
       "26018  [5.539616, 9.056223, -0.5425722, 10.059907, -0...      -0.399117  \n",
       "26019  [5.2507486, 9.655591, -0.83597654, 8.914883, 0...      -0.391041  \n",
       "26020  [5.8736224, 8.736176, -0.58174294, 9.6299715, ...      -0.416431  \n",
       "26021  [5.918565, 8.701509, -0.7631483, 9.431531, 0.6...      -0.415698  \n",
       "26022  [5.788237, 8.807507, -0.45978823, 9.622107, 0....      -0.421705  \n",
       "\n",
       "[26023 rows x 11 columns]"
      ]
     },
     "execution_count": 26,
     "metadata": {},
     "output_type": "execute_result"
    }
   ],
   "source": [
    "all_plm = pd.merge(df_concat, carp_selected, on = \"seq_id\", how = \"left\")\n",
    "all_plm"
   ]
  },
  {
   "cell_type": "code",
   "execution_count": 27,
   "id": "4b1ec212",
   "metadata": {
    "ExecuteTime": {
     "end_time": "2022-10-14T19:14:05.556106Z",
     "start_time": "2022-10-14T19:14:05.549357Z"
    },
    "hidden": true
   },
   "outputs": [
    {
     "name": "stdout",
     "output_type": "stream",
     "text": [
      " 1280 dimensions for esm1b\n",
      " 1280 dimensions for esm\n",
      " 21 dimensions for onehot\n",
      " 1024 dimensions for t5xlu50\n",
      " 1024 dimensions for t5bfd\n",
      " 1024 dimensions for xlnet\n",
      " 121 dimensions for bepler\n",
      " 1280 dimensions for carp640M\n"
     ]
    }
   ],
   "source": [
    "print(f\" {len(all_plm.esm1b[0])} dimensions for esm1b\")\n",
    "print(f\" {len(all_plm.esm[0])} dimensions for esm\")\n",
    "print(f\" {len(all_plm.onehot[0])} dimensions for onehot\")\n",
    "print(f\" {len(all_plm.t5xlu50[0])} dimensions for t5xlu50\")\n",
    "print(f\" {len(all_plm.t5bfd[0])} dimensions for t5bfd\")\n",
    "print(f\" {len(all_plm.xlnet[0])} dimensions for xlnet\")\n",
    "print(f\" {len(all_plm.bepler[0])} dimensions for bepler\")\n",
    "print(f\" {len(all_plm.carp640M[0])} dimensions for carp640M\")"
   ]
  },
  {
   "cell_type": "code",
   "execution_count": 28,
   "id": "1a25f848",
   "metadata": {
    "ExecuteTime": {
     "end_time": "2022-10-14T19:14:14.189911Z",
     "start_time": "2022-10-14T19:14:08.249438Z"
    },
    "hidden": true
   },
   "outputs": [
    {
     "name": "stdout",
     "output_type": "stream",
     "text": [
      "total 716M\r\n",
      "-rw-rw-r--  1 gama gama 716M Oct 14 14:14 all_plm.pkl\r\n",
      "drwxrwxr-x  2 gama gama 4.0K Oct 14 00:33 bepler\r\n",
      "drwxrwxr-x 11 gama gama 4.0K Oct 14 02:01 carp\r\n",
      "drwxrwxr-x  2 gama gama 4.0K Oct 14 10:22 esm\r\n",
      "drwxrwxr-x  2 gama gama 4.0K Oct 14 00:33 esm1b\r\n",
      "drwxrwxr-x  2 gama gama 4.0K Oct 14 00:33 onehot\r\n",
      "drwxrwxr-x  2 gama gama 4.0K Oct 14 00:33 t5bfd\r\n",
      "drwxrwxr-x  2 gama gama 4.0K Oct 14 00:34 t5xlu50\r\n",
      "drwxrwxr-x  2 gama gama 4.0K Oct 14 00:34 xlnet\r\n"
     ]
    }
   ],
   "source": [
    "all_plm.to_pickle(\"../results/embeddings/all_plm.pkl\")\n",
    "! ls -lh ../results/embeddings/"
   ]
  },
  {
   "cell_type": "markdown",
   "id": "996b37d6",
   "metadata": {
    "hidden": true
   },
   "source": [
    "Fin"
   ]
  }
 ],
 "metadata": {
  "kernelspec": {
   "display_name": "Python 3 (ipykernel)",
   "language": "python",
   "name": "python3"
  },
  "language_info": {
   "codemirror_mode": {
    "name": "ipython",
    "version": 3
   },
   "file_extension": ".py",
   "mimetype": "text/x-python",
   "name": "python",
   "nbconvert_exporter": "python",
   "pygments_lexer": "ipython3",
   "version": "3.9.12"
  },
  "toc": {
   "base_numbering": 1,
   "nav_menu": {},
   "number_sections": true,
   "sideBar": true,
   "skip_h1_title": false,
   "title_cell": "Table of Contents",
   "title_sidebar": "Contents",
   "toc_cell": false,
   "toc_position": {},
   "toc_section_display": true,
   "toc_window_display": false
  },
  "varInspector": {
   "cols": {
    "lenName": 16,
    "lenType": 16,
    "lenVar": 40
   },
   "kernels_config": {
    "python": {
     "delete_cmd_postfix": "",
     "delete_cmd_prefix": "del ",
     "library": "var_list.py",
     "varRefreshCmd": "print(var_dic_list())"
    },
    "r": {
     "delete_cmd_postfix": ") ",
     "delete_cmd_prefix": "rm(",
     "library": "var_list.r",
     "varRefreshCmd": "cat(var_dic_list()) "
    }
   },
   "types_to_exclude": [
    "module",
    "function",
    "builtin_function_or_method",
    "instance",
    "_Feature"
   ],
   "window_display": false
  }
 },
 "nbformat": 4,
 "nbformat_minor": 5
}
